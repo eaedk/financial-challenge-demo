{
  "nbformat": 4,
  "nbformat_minor": 0,
  "metadata": {
    "colab": {
      "provenance": [],
      "toc_visible": true
    },
    "kernelspec": {
      "name": "python3",
      "display_name": "Python 3"
    },
    "language_info": {
      "name": "python"
    }
  },
  "cells": [
    {
      "cell_type": "markdown",
      "source": [
        "# Intro\n",
        "## General\n",
        "Machine learning allows the user to feed a computer algorithm an immense amount of data and have the computer analyze and make data-driven recommendations and decisions based on only the input data. \n",
        "In most of the situations we want to have a machine learning system to make **predictions**, so we have several categories of machine learning tasks depending on the type of prediction needed: **Classification, Regression, Clustering, Generation**, etc.\n",
        "\n",
        "**Classification** is the task whose goal is the prediction of the label of the class to which the input belongs (e.g., Classification of images in two classes: cats and dogs).\n",
        "**Regression** is the task whose goal is the prediction of numerical value(s) related to the input (e.g., House rent prediction, Estimated time of arrival ).\n",
        "**Generation** is the task whose goal is the creation of something new related to the input (e.g., Text translation, Audio beat generation, Image denoising ). **Clustering** is the task of grouping a set of objects in such a way that objects in the same group (called a **cluster**) are more similar (in some sense) to each other than to those in other **clusters** (e.g., Clients clutering).\n",
        "\n",
        "In machine learning, there are learning paradigms that relate to one aspect of the dataset: **the presence of the label to be predicted**. **Supervised Learning** is the paradigm of learning that is applied when the dataset has the label variables to be predicted, known as ` y variables`. **Unsupervised Learning** is the paradigm of learning that is applied when the dataset has not the label variables to be predicted. **Self-supervised Learning** is the paradigm of learning that is applied when part of the X dataset is considere as the label to be predicted (e.g., the Dataset is made of texts and the model try to predict the next word of each sentence).\n",
        "\n",
        "## Notebook overview\n",
        "\n",
        "This notebook is a guide to start practicing Machine Learning."
      ],
      "metadata": {
        "id": "wW3v1-2n3CzK"
      }
    },
    {
      "cell_type": "markdown",
      "source": [
        "[Financial Inclusion in Africa Challenge](https://zindi.africa/competitions/financial-inclusion-in-africa/)"
      ],
      "metadata": {
        "id": "AxQcnnnpJg_d"
      }
    },
    {
      "cell_type": "markdown",
      "source": [
        "# Setup"
      ],
      "metadata": {
        "id": "n4VFUnkuexCE"
      }
    },
    {
      "cell_type": "markdown",
      "source": [
        "## Installation\n",
        "Here is the section to install all the packages/libraries that will be needed to tackle the challlenge."
      ],
      "metadata": {
        "id": "qdFpRxPje1gw"
      }
    },
    {
      "cell_type": "code",
      "source": [
        "!pip install -q -U scikit-learn catboost xgboost lightgbm imbalanced-learn"
      ],
      "metadata": {
        "id": "W-d-roFQe6yi",
        "colab": {
          "base_uri": "https://localhost:8080/"
        },
        "outputId": "3e7d0cff-1c7e-4709-9ebc-6ea4e3258646"
      },
      "execution_count": null,
      "outputs": [
        {
          "output_type": "stream",
          "name": "stdout",
          "text": [
            "\u001b[?25l     \u001b[90m━━━━━━━━━━━━━━━━━━━━━━━━━━━━━━━━━━━━━━━━\u001b[0m \u001b[32m0.0/226.0 KB\u001b[0m \u001b[31m?\u001b[0m eta \u001b[36m-:--:--\u001b[0m\r\u001b[2K     \u001b[91m━━━━━━━━━━━━━━━━━━━━━\u001b[0m\u001b[90m╺\u001b[0m\u001b[90m━━━━━━━━━━━━━━━━━\u001b[0m \u001b[32m122.9/226.0 KB\u001b[0m \u001b[31m5.4 MB/s\u001b[0m eta \u001b[36m0:00:01\u001b[0m\r\u001b[2K     \u001b[90m━━━━━━━━━━━━━━━━━━━━━━━━━━━━━━━━━━━━━━━\u001b[0m \u001b[32m226.0/226.0 KB\u001b[0m \u001b[31m4.0 MB/s\u001b[0m eta \u001b[36m0:00:00\u001b[0m\n",
            "\u001b[?25h"
          ]
        }
      ]
    },
    {
      "cell_type": "markdown",
      "source": [
        "## Importation\n",
        "Here is the section to import all the packages/libraries that will be used through this notebook."
      ],
      "metadata": {
        "id": "0HmLxlQre7HW"
      }
    },
    {
      "cell_type": "code",
      "source": [
        "# Data handling\n",
        "import pandas as pd\n",
        "import numpy as np \n",
        "\n",
        "# Vizualisation (Matplotlib, Plotly, Seaborn, etc. )\n",
        "import seaborn as sb\n",
        "\n",
        "# EDA (pandas-profiling, etc. )\n",
        "...\n",
        "\n",
        "# Feature Processing (Scikit-learn processing, etc. )\n",
        "from sklearn.model_selection import train_test_split, StratifiedKFold, StratifiedGroupKFold, GroupShuffleSplit, GridSearchCV\n",
        "from sklearn.impute import SimpleImputer, KNNImputer\n",
        "from sklearn.preprocessing import StandardScaler, RobustScaler, OneHotEncoder, LabelBinarizer, FunctionTransformer\n",
        "from sklearn.pipeline import Pipeline\n",
        "from sklearn.compose import ColumnTransformer\n",
        "\n",
        "# Machine Learning (Scikit-learn Estimators, Catboost, LightGBM, etc. )\n",
        "from sklearn.linear_model import LinearRegression\n",
        "from sklearn.neighbors import KNeighborsClassifier\n",
        "from sklearn.ensemble import RandomForestClassifier, GradientBoostingClassifier, AdaBoostClassifier\n",
        "from imblearn.ensemble import BalancedRandomForestClassifier, RUSBoostClassifier, EasyEnsembleClassifier, BalancedBaggingClassifier\n",
        "import lightgbm as lgb\n",
        "import catboost as cat\n",
        "import xgboost as xgb\n",
        "\n",
        "from sklearn.metrics import classification_report, RocCurveDisplay, ConfusionMatrixDisplay, accuracy_score, f1_score\n",
        "\n",
        "# Hyperparameters Fine-tuning (Scikit-learn hp search, cross-validation, etc. )\n",
        "...\n",
        "\n",
        "# Other packages\n",
        "import os, pickle, warnings\n",
        "from collections import Counter\n",
        "\n",
        "warnings.filterwarnings('ignore')"
      ],
      "metadata": {
        "id": "MP62JaiKfCnS"
      },
      "execution_count": null,
      "outputs": []
    },
    {
      "cell_type": "markdown",
      "source": [
        "# Data Loading\n",
        "Here is the section to load the datasets (train, eval, test) and the additional files"
      ],
      "metadata": {
        "id": "UfOADQf0e9i1"
      }
    },
    {
      "cell_type": "code",
      "source": [
        "!gdown \"1BbAgKLqnBM7C2_BU9nzPieN0b2dh0XLm\" \n",
        "!unzip -o \"financial-inclusion-in-africa.zip\""
      ],
      "metadata": {
        "colab": {
          "base_uri": "https://localhost:8080/"
        },
        "id": "u27Db0pWK6vu",
        "outputId": "92e1ac35-7525-4f76-972d-b7aaf8627fb5"
      },
      "execution_count": null,
      "outputs": [
        {
          "output_type": "stream",
          "name": "stdout",
          "text": [
            "Downloading...\n",
            "From: https://drive.google.com/uc?id=1BbAgKLqnBM7C2_BU9nzPieN0b2dh0XLm\n",
            "To: /content/financial-inclusion-in-africa.zip\n",
            "\r  0% 0.00/420k [00:00<?, ?B/s]\r100% 420k/420k [00:00<00:00, 114MB/s]\n",
            "Archive:  financial-inclusion-in-africa.zip\n",
            "  inflating: StarterNotebook.ipynb   \n",
            "  inflating: Train.csv               \n",
            "  inflating: Test.csv                \n",
            "  inflating: VariableDefinitions.csv  \n",
            "  inflating: SampleSubmission.csv    \n"
          ]
        }
      ]
    },
    {
      "cell_type": "code",
      "source": [
        "# For CSV, use pandas.read_csv\n",
        "DATASET_DIR = os.path.join(\".\", )\n",
        "train = pd.read_csv(os.path.join(DATASET_DIR, 'Train.csv'))\n",
        "test = pd.read_csv(os.path.join(DATASET_DIR, 'Test.csv'))\n",
        "ss = pd.read_csv(os.path.join(DATASET_DIR, 'SampleSubmission.csv'))"
      ],
      "metadata": {
        "id": "KIQyG5EcfQlU"
      },
      "execution_count": null,
      "outputs": []
    },
    {
      "cell_type": "markdown",
      "source": [
        "# Exploratory Data Analysis: EDA\n",
        "Here is the section to **inspect** the datasets in depth, **present** it, make **hypotheses** and **think** the *cleaning, processing and features creation*."
      ],
      "metadata": {
        "id": "okaZxnc3fRId"
      }
    },
    {
      "cell_type": "code",
      "source": [
        "# Code here"
      ],
      "metadata": {
        "id": "0VNR9LfZfbGe"
      },
      "execution_count": null,
      "outputs": []
    },
    {
      "cell_type": "code",
      "source": [
        "pd.read_csv(os.path.join(DATASET_DIR, 'VariableDefinitions.csv'))"
      ],
      "metadata": {
        "colab": {
          "base_uri": "https://localhost:8080/",
          "height": 425
        },
        "id": "PGFc7jkutQRZ",
        "outputId": "ca914d80-b380-462f-99ed-fddde69adbf2"
      },
      "execution_count": null,
      "outputs": [
        {
          "output_type": "execute_result",
          "data": {
            "text/plain": [
              "      Variable Definitions                                         Unnamed: 1\n",
              "0                  country                         Country interviewee is in.\n",
              "1                     year                           Year survey was done in.\n",
              "2                 uniqueid             Unique identifier for each interviewee\n",
              "3            location_type                     Type of location: Rural, Urban\n",
              "4         cellphone_access  If interviewee has access to a cellphone: Yes, No\n",
              "5           household_size               Number of people living in one house\n",
              "6        age_of_respondent                         The age of the interviewee\n",
              "7     gender_of_respondent                Gender of interviewee: Male, Female\n",
              "8   relationship_with_head  The interviewee’s relationship with the head o...\n",
              "9           marital_status  The martial status of the interviewee: Married...\n",
              "10         education_level  Highest level of education: No formal educatio...\n",
              "11                job_type  Type of job interviewee has: Farming and Fishi..."
            ],
            "text/html": [
              "\n",
              "  <div id=\"df-c805c279-f729-481d-b206-db63908072b7\">\n",
              "    <div class=\"colab-df-container\">\n",
              "      <div>\n",
              "<style scoped>\n",
              "    .dataframe tbody tr th:only-of-type {\n",
              "        vertical-align: middle;\n",
              "    }\n",
              "\n",
              "    .dataframe tbody tr th {\n",
              "        vertical-align: top;\n",
              "    }\n",
              "\n",
              "    .dataframe thead th {\n",
              "        text-align: right;\n",
              "    }\n",
              "</style>\n",
              "<table border=\"1\" class=\"dataframe\">\n",
              "  <thead>\n",
              "    <tr style=\"text-align: right;\">\n",
              "      <th></th>\n",
              "      <th>Variable Definitions</th>\n",
              "      <th>Unnamed: 1</th>\n",
              "    </tr>\n",
              "  </thead>\n",
              "  <tbody>\n",
              "    <tr>\n",
              "      <th>0</th>\n",
              "      <td>country</td>\n",
              "      <td>Country interviewee is in.</td>\n",
              "    </tr>\n",
              "    <tr>\n",
              "      <th>1</th>\n",
              "      <td>year</td>\n",
              "      <td>Year survey was done in.</td>\n",
              "    </tr>\n",
              "    <tr>\n",
              "      <th>2</th>\n",
              "      <td>uniqueid</td>\n",
              "      <td>Unique identifier for each interviewee</td>\n",
              "    </tr>\n",
              "    <tr>\n",
              "      <th>3</th>\n",
              "      <td>location_type</td>\n",
              "      <td>Type of location: Rural, Urban</td>\n",
              "    </tr>\n",
              "    <tr>\n",
              "      <th>4</th>\n",
              "      <td>cellphone_access</td>\n",
              "      <td>If interviewee has access to a cellphone: Yes, No</td>\n",
              "    </tr>\n",
              "    <tr>\n",
              "      <th>5</th>\n",
              "      <td>household_size</td>\n",
              "      <td>Number of people living in one house</td>\n",
              "    </tr>\n",
              "    <tr>\n",
              "      <th>6</th>\n",
              "      <td>age_of_respondent</td>\n",
              "      <td>The age of the interviewee</td>\n",
              "    </tr>\n",
              "    <tr>\n",
              "      <th>7</th>\n",
              "      <td>gender_of_respondent</td>\n",
              "      <td>Gender of interviewee: Male, Female</td>\n",
              "    </tr>\n",
              "    <tr>\n",
              "      <th>8</th>\n",
              "      <td>relationship_with_head</td>\n",
              "      <td>The interviewee’s relationship with the head o...</td>\n",
              "    </tr>\n",
              "    <tr>\n",
              "      <th>9</th>\n",
              "      <td>marital_status</td>\n",
              "      <td>The martial status of the interviewee: Married...</td>\n",
              "    </tr>\n",
              "    <tr>\n",
              "      <th>10</th>\n",
              "      <td>education_level</td>\n",
              "      <td>Highest level of education: No formal educatio...</td>\n",
              "    </tr>\n",
              "    <tr>\n",
              "      <th>11</th>\n",
              "      <td>job_type</td>\n",
              "      <td>Type of job interviewee has: Farming and Fishi...</td>\n",
              "    </tr>\n",
              "  </tbody>\n",
              "</table>\n",
              "</div>\n",
              "      <button class=\"colab-df-convert\" onclick=\"convertToInteractive('df-c805c279-f729-481d-b206-db63908072b7')\"\n",
              "              title=\"Convert this dataframe to an interactive table.\"\n",
              "              style=\"display:none;\">\n",
              "        \n",
              "  <svg xmlns=\"http://www.w3.org/2000/svg\" height=\"24px\"viewBox=\"0 0 24 24\"\n",
              "       width=\"24px\">\n",
              "    <path d=\"M0 0h24v24H0V0z\" fill=\"none\"/>\n",
              "    <path d=\"M18.56 5.44l.94 2.06.94-2.06 2.06-.94-2.06-.94-.94-2.06-.94 2.06-2.06.94zm-11 1L8.5 8.5l.94-2.06 2.06-.94-2.06-.94L8.5 2.5l-.94 2.06-2.06.94zm10 10l.94 2.06.94-2.06 2.06-.94-2.06-.94-.94-2.06-.94 2.06-2.06.94z\"/><path d=\"M17.41 7.96l-1.37-1.37c-.4-.4-.92-.59-1.43-.59-.52 0-1.04.2-1.43.59L10.3 9.45l-7.72 7.72c-.78.78-.78 2.05 0 2.83L4 21.41c.39.39.9.59 1.41.59.51 0 1.02-.2 1.41-.59l7.78-7.78 2.81-2.81c.8-.78.8-2.07 0-2.86zM5.41 20L4 18.59l7.72-7.72 1.47 1.35L5.41 20z\"/>\n",
              "  </svg>\n",
              "      </button>\n",
              "      \n",
              "  <style>\n",
              "    .colab-df-container {\n",
              "      display:flex;\n",
              "      flex-wrap:wrap;\n",
              "      gap: 12px;\n",
              "    }\n",
              "\n",
              "    .colab-df-convert {\n",
              "      background-color: #E8F0FE;\n",
              "      border: none;\n",
              "      border-radius: 50%;\n",
              "      cursor: pointer;\n",
              "      display: none;\n",
              "      fill: #1967D2;\n",
              "      height: 32px;\n",
              "      padding: 0 0 0 0;\n",
              "      width: 32px;\n",
              "    }\n",
              "\n",
              "    .colab-df-convert:hover {\n",
              "      background-color: #E2EBFA;\n",
              "      box-shadow: 0px 1px 2px rgba(60, 64, 67, 0.3), 0px 1px 3px 1px rgba(60, 64, 67, 0.15);\n",
              "      fill: #174EA6;\n",
              "    }\n",
              "\n",
              "    [theme=dark] .colab-df-convert {\n",
              "      background-color: #3B4455;\n",
              "      fill: #D2E3FC;\n",
              "    }\n",
              "\n",
              "    [theme=dark] .colab-df-convert:hover {\n",
              "      background-color: #434B5C;\n",
              "      box-shadow: 0px 1px 3px 1px rgba(0, 0, 0, 0.15);\n",
              "      filter: drop-shadow(0px 1px 2px rgba(0, 0, 0, 0.3));\n",
              "      fill: #FFFFFF;\n",
              "    }\n",
              "  </style>\n",
              "\n",
              "      <script>\n",
              "        const buttonEl =\n",
              "          document.querySelector('#df-c805c279-f729-481d-b206-db63908072b7 button.colab-df-convert');\n",
              "        buttonEl.style.display =\n",
              "          google.colab.kernel.accessAllowed ? 'block' : 'none';\n",
              "\n",
              "        async function convertToInteractive(key) {\n",
              "          const element = document.querySelector('#df-c805c279-f729-481d-b206-db63908072b7');\n",
              "          const dataTable =\n",
              "            await google.colab.kernel.invokeFunction('convertToInteractive',\n",
              "                                                     [key], {});\n",
              "          if (!dataTable) return;\n",
              "\n",
              "          const docLinkHtml = 'Like what you see? Visit the ' +\n",
              "            '<a target=\"_blank\" href=https://colab.research.google.com/notebooks/data_table.ipynb>data table notebook</a>'\n",
              "            + ' to learn more about interactive tables.';\n",
              "          element.innerHTML = '';\n",
              "          dataTable['output_type'] = 'display_data';\n",
              "          await google.colab.output.renderOutput(dataTable, element);\n",
              "          const docLink = document.createElement('div');\n",
              "          docLink.innerHTML = docLinkHtml;\n",
              "          element.appendChild(docLink);\n",
              "        }\n",
              "      </script>\n",
              "    </div>\n",
              "  </div>\n",
              "  "
            ]
          },
          "metadata": {},
          "execution_count": 148
        }
      ]
    },
    {
      "cell_type": "code",
      "source": [
        "train.head()"
      ],
      "metadata": {
        "colab": {
          "base_uri": "https://localhost:8080/",
          "height": 374
        },
        "id": "Pkqh0c9S1JFF",
        "outputId": "7efc48d6-3d91-4118-b3f4-4a45186bec74"
      },
      "execution_count": null,
      "outputs": [
        {
          "output_type": "execute_result",
          "data": {
            "text/plain": [
              "  country  year    uniqueid bank_account location_type cellphone_access  \\\n",
              "0   Kenya  2018  uniqueid_1          Yes         Rural              Yes   \n",
              "1   Kenya  2018  uniqueid_2           No         Rural               No   \n",
              "2   Kenya  2018  uniqueid_3          Yes         Urban              Yes   \n",
              "3   Kenya  2018  uniqueid_4           No         Rural              Yes   \n",
              "4   Kenya  2018  uniqueid_5           No         Urban               No   \n",
              "\n",
              "   household_size  age_of_respondent gender_of_respondent  \\\n",
              "0               3                 24               Female   \n",
              "1               5                 70               Female   \n",
              "2               5                 26                 Male   \n",
              "3               5                 34               Female   \n",
              "4               8                 26                 Male   \n",
              "\n",
              "  relationship_with_head           marital_status  \\\n",
              "0                 Spouse  Married/Living together   \n",
              "1      Head of Household                  Widowed   \n",
              "2         Other relative     Single/Never Married   \n",
              "3      Head of Household  Married/Living together   \n",
              "4                  Child     Single/Never Married   \n",
              "\n",
              "                   education_level                   job_type  \n",
              "0              Secondary education              Self employed  \n",
              "1              No formal education       Government Dependent  \n",
              "2  Vocational/Specialised training              Self employed  \n",
              "3                Primary education  Formally employed Private  \n",
              "4                Primary education        Informally employed  "
            ],
            "text/html": [
              "\n",
              "  <div id=\"df-96fd35ab-e425-4c21-af6c-7eea2c8e554c\">\n",
              "    <div class=\"colab-df-container\">\n",
              "      <div>\n",
              "<style scoped>\n",
              "    .dataframe tbody tr th:only-of-type {\n",
              "        vertical-align: middle;\n",
              "    }\n",
              "\n",
              "    .dataframe tbody tr th {\n",
              "        vertical-align: top;\n",
              "    }\n",
              "\n",
              "    .dataframe thead th {\n",
              "        text-align: right;\n",
              "    }\n",
              "</style>\n",
              "<table border=\"1\" class=\"dataframe\">\n",
              "  <thead>\n",
              "    <tr style=\"text-align: right;\">\n",
              "      <th></th>\n",
              "      <th>country</th>\n",
              "      <th>year</th>\n",
              "      <th>uniqueid</th>\n",
              "      <th>bank_account</th>\n",
              "      <th>location_type</th>\n",
              "      <th>cellphone_access</th>\n",
              "      <th>household_size</th>\n",
              "      <th>age_of_respondent</th>\n",
              "      <th>gender_of_respondent</th>\n",
              "      <th>relationship_with_head</th>\n",
              "      <th>marital_status</th>\n",
              "      <th>education_level</th>\n",
              "      <th>job_type</th>\n",
              "    </tr>\n",
              "  </thead>\n",
              "  <tbody>\n",
              "    <tr>\n",
              "      <th>0</th>\n",
              "      <td>Kenya</td>\n",
              "      <td>2018</td>\n",
              "      <td>uniqueid_1</td>\n",
              "      <td>Yes</td>\n",
              "      <td>Rural</td>\n",
              "      <td>Yes</td>\n",
              "      <td>3</td>\n",
              "      <td>24</td>\n",
              "      <td>Female</td>\n",
              "      <td>Spouse</td>\n",
              "      <td>Married/Living together</td>\n",
              "      <td>Secondary education</td>\n",
              "      <td>Self employed</td>\n",
              "    </tr>\n",
              "    <tr>\n",
              "      <th>1</th>\n",
              "      <td>Kenya</td>\n",
              "      <td>2018</td>\n",
              "      <td>uniqueid_2</td>\n",
              "      <td>No</td>\n",
              "      <td>Rural</td>\n",
              "      <td>No</td>\n",
              "      <td>5</td>\n",
              "      <td>70</td>\n",
              "      <td>Female</td>\n",
              "      <td>Head of Household</td>\n",
              "      <td>Widowed</td>\n",
              "      <td>No formal education</td>\n",
              "      <td>Government Dependent</td>\n",
              "    </tr>\n",
              "    <tr>\n",
              "      <th>2</th>\n",
              "      <td>Kenya</td>\n",
              "      <td>2018</td>\n",
              "      <td>uniqueid_3</td>\n",
              "      <td>Yes</td>\n",
              "      <td>Urban</td>\n",
              "      <td>Yes</td>\n",
              "      <td>5</td>\n",
              "      <td>26</td>\n",
              "      <td>Male</td>\n",
              "      <td>Other relative</td>\n",
              "      <td>Single/Never Married</td>\n",
              "      <td>Vocational/Specialised training</td>\n",
              "      <td>Self employed</td>\n",
              "    </tr>\n",
              "    <tr>\n",
              "      <th>3</th>\n",
              "      <td>Kenya</td>\n",
              "      <td>2018</td>\n",
              "      <td>uniqueid_4</td>\n",
              "      <td>No</td>\n",
              "      <td>Rural</td>\n",
              "      <td>Yes</td>\n",
              "      <td>5</td>\n",
              "      <td>34</td>\n",
              "      <td>Female</td>\n",
              "      <td>Head of Household</td>\n",
              "      <td>Married/Living together</td>\n",
              "      <td>Primary education</td>\n",
              "      <td>Formally employed Private</td>\n",
              "    </tr>\n",
              "    <tr>\n",
              "      <th>4</th>\n",
              "      <td>Kenya</td>\n",
              "      <td>2018</td>\n",
              "      <td>uniqueid_5</td>\n",
              "      <td>No</td>\n",
              "      <td>Urban</td>\n",
              "      <td>No</td>\n",
              "      <td>8</td>\n",
              "      <td>26</td>\n",
              "      <td>Male</td>\n",
              "      <td>Child</td>\n",
              "      <td>Single/Never Married</td>\n",
              "      <td>Primary education</td>\n",
              "      <td>Informally employed</td>\n",
              "    </tr>\n",
              "  </tbody>\n",
              "</table>\n",
              "</div>\n",
              "      <button class=\"colab-df-convert\" onclick=\"convertToInteractive('df-96fd35ab-e425-4c21-af6c-7eea2c8e554c')\"\n",
              "              title=\"Convert this dataframe to an interactive table.\"\n",
              "              style=\"display:none;\">\n",
              "        \n",
              "  <svg xmlns=\"http://www.w3.org/2000/svg\" height=\"24px\"viewBox=\"0 0 24 24\"\n",
              "       width=\"24px\">\n",
              "    <path d=\"M0 0h24v24H0V0z\" fill=\"none\"/>\n",
              "    <path d=\"M18.56 5.44l.94 2.06.94-2.06 2.06-.94-2.06-.94-.94-2.06-.94 2.06-2.06.94zm-11 1L8.5 8.5l.94-2.06 2.06-.94-2.06-.94L8.5 2.5l-.94 2.06-2.06.94zm10 10l.94 2.06.94-2.06 2.06-.94-2.06-.94-.94-2.06-.94 2.06-2.06.94z\"/><path d=\"M17.41 7.96l-1.37-1.37c-.4-.4-.92-.59-1.43-.59-.52 0-1.04.2-1.43.59L10.3 9.45l-7.72 7.72c-.78.78-.78 2.05 0 2.83L4 21.41c.39.39.9.59 1.41.59.51 0 1.02-.2 1.41-.59l7.78-7.78 2.81-2.81c.8-.78.8-2.07 0-2.86zM5.41 20L4 18.59l7.72-7.72 1.47 1.35L5.41 20z\"/>\n",
              "  </svg>\n",
              "      </button>\n",
              "      \n",
              "  <style>\n",
              "    .colab-df-container {\n",
              "      display:flex;\n",
              "      flex-wrap:wrap;\n",
              "      gap: 12px;\n",
              "    }\n",
              "\n",
              "    .colab-df-convert {\n",
              "      background-color: #E8F0FE;\n",
              "      border: none;\n",
              "      border-radius: 50%;\n",
              "      cursor: pointer;\n",
              "      display: none;\n",
              "      fill: #1967D2;\n",
              "      height: 32px;\n",
              "      padding: 0 0 0 0;\n",
              "      width: 32px;\n",
              "    }\n",
              "\n",
              "    .colab-df-convert:hover {\n",
              "      background-color: #E2EBFA;\n",
              "      box-shadow: 0px 1px 2px rgba(60, 64, 67, 0.3), 0px 1px 3px 1px rgba(60, 64, 67, 0.15);\n",
              "      fill: #174EA6;\n",
              "    }\n",
              "\n",
              "    [theme=dark] .colab-df-convert {\n",
              "      background-color: #3B4455;\n",
              "      fill: #D2E3FC;\n",
              "    }\n",
              "\n",
              "    [theme=dark] .colab-df-convert:hover {\n",
              "      background-color: #434B5C;\n",
              "      box-shadow: 0px 1px 3px 1px rgba(0, 0, 0, 0.15);\n",
              "      filter: drop-shadow(0px 1px 2px rgba(0, 0, 0, 0.3));\n",
              "      fill: #FFFFFF;\n",
              "    }\n",
              "  </style>\n",
              "\n",
              "      <script>\n",
              "        const buttonEl =\n",
              "          document.querySelector('#df-96fd35ab-e425-4c21-af6c-7eea2c8e554c button.colab-df-convert');\n",
              "        buttonEl.style.display =\n",
              "          google.colab.kernel.accessAllowed ? 'block' : 'none';\n",
              "\n",
              "        async function convertToInteractive(key) {\n",
              "          const element = document.querySelector('#df-96fd35ab-e425-4c21-af6c-7eea2c8e554c');\n",
              "          const dataTable =\n",
              "            await google.colab.kernel.invokeFunction('convertToInteractive',\n",
              "                                                     [key], {});\n",
              "          if (!dataTable) return;\n",
              "\n",
              "          const docLinkHtml = 'Like what you see? Visit the ' +\n",
              "            '<a target=\"_blank\" href=https://colab.research.google.com/notebooks/data_table.ipynb>data table notebook</a>'\n",
              "            + ' to learn more about interactive tables.';\n",
              "          element.innerHTML = '';\n",
              "          dataTable['output_type'] = 'display_data';\n",
              "          await google.colab.output.renderOutput(dataTable, element);\n",
              "          const docLink = document.createElement('div');\n",
              "          docLink.innerHTML = docLinkHtml;\n",
              "          element.appendChild(docLink);\n",
              "        }\n",
              "      </script>\n",
              "    </div>\n",
              "  </div>\n",
              "  "
            ]
          },
          "metadata": {},
          "execution_count": 149
        }
      ]
    },
    {
      "cell_type": "code",
      "source": [
        "train.describe(include=['O'])"
      ],
      "metadata": {
        "colab": {
          "base_uri": "https://localhost:8080/",
          "height": 256
        },
        "id": "J9FhkW355J-K",
        "outputId": "c70260e3-6440-49ed-c30c-031be66dde0c"
      },
      "execution_count": null,
      "outputs": [
        {
          "output_type": "execute_result",
          "data": {
            "text/plain": [
              "       country    uniqueid bank_account location_type cellphone_access  \\\n",
              "count    23524       23524        23524         23524            23524   \n",
              "unique       4        8735            2             2                2   \n",
              "top     Rwanda  uniqueid_1           No         Rural              Yes   \n",
              "freq      8735           4        20212         14343            17454   \n",
              "\n",
              "       gender_of_respondent relationship_with_head           marital_status  \\\n",
              "count                 23524                  23524                    23524   \n",
              "unique                    2                      6                        5   \n",
              "top                  Female      Head of Household  Married/Living together   \n",
              "freq                  13877                  12831                    10749   \n",
              "\n",
              "          education_level       job_type  \n",
              "count               23524          23524  \n",
              "unique                  6             10  \n",
              "top     Primary education  Self employed  \n",
              "freq                12791           6437  "
            ],
            "text/html": [
              "\n",
              "  <div id=\"df-f54b3f28-36ef-4a75-981d-8e924e30334a\">\n",
              "    <div class=\"colab-df-container\">\n",
              "      <div>\n",
              "<style scoped>\n",
              "    .dataframe tbody tr th:only-of-type {\n",
              "        vertical-align: middle;\n",
              "    }\n",
              "\n",
              "    .dataframe tbody tr th {\n",
              "        vertical-align: top;\n",
              "    }\n",
              "\n",
              "    .dataframe thead th {\n",
              "        text-align: right;\n",
              "    }\n",
              "</style>\n",
              "<table border=\"1\" class=\"dataframe\">\n",
              "  <thead>\n",
              "    <tr style=\"text-align: right;\">\n",
              "      <th></th>\n",
              "      <th>country</th>\n",
              "      <th>uniqueid</th>\n",
              "      <th>bank_account</th>\n",
              "      <th>location_type</th>\n",
              "      <th>cellphone_access</th>\n",
              "      <th>gender_of_respondent</th>\n",
              "      <th>relationship_with_head</th>\n",
              "      <th>marital_status</th>\n",
              "      <th>education_level</th>\n",
              "      <th>job_type</th>\n",
              "    </tr>\n",
              "  </thead>\n",
              "  <tbody>\n",
              "    <tr>\n",
              "      <th>count</th>\n",
              "      <td>23524</td>\n",
              "      <td>23524</td>\n",
              "      <td>23524</td>\n",
              "      <td>23524</td>\n",
              "      <td>23524</td>\n",
              "      <td>23524</td>\n",
              "      <td>23524</td>\n",
              "      <td>23524</td>\n",
              "      <td>23524</td>\n",
              "      <td>23524</td>\n",
              "    </tr>\n",
              "    <tr>\n",
              "      <th>unique</th>\n",
              "      <td>4</td>\n",
              "      <td>8735</td>\n",
              "      <td>2</td>\n",
              "      <td>2</td>\n",
              "      <td>2</td>\n",
              "      <td>2</td>\n",
              "      <td>6</td>\n",
              "      <td>5</td>\n",
              "      <td>6</td>\n",
              "      <td>10</td>\n",
              "    </tr>\n",
              "    <tr>\n",
              "      <th>top</th>\n",
              "      <td>Rwanda</td>\n",
              "      <td>uniqueid_1</td>\n",
              "      <td>No</td>\n",
              "      <td>Rural</td>\n",
              "      <td>Yes</td>\n",
              "      <td>Female</td>\n",
              "      <td>Head of Household</td>\n",
              "      <td>Married/Living together</td>\n",
              "      <td>Primary education</td>\n",
              "      <td>Self employed</td>\n",
              "    </tr>\n",
              "    <tr>\n",
              "      <th>freq</th>\n",
              "      <td>8735</td>\n",
              "      <td>4</td>\n",
              "      <td>20212</td>\n",
              "      <td>14343</td>\n",
              "      <td>17454</td>\n",
              "      <td>13877</td>\n",
              "      <td>12831</td>\n",
              "      <td>10749</td>\n",
              "      <td>12791</td>\n",
              "      <td>6437</td>\n",
              "    </tr>\n",
              "  </tbody>\n",
              "</table>\n",
              "</div>\n",
              "      <button class=\"colab-df-convert\" onclick=\"convertToInteractive('df-f54b3f28-36ef-4a75-981d-8e924e30334a')\"\n",
              "              title=\"Convert this dataframe to an interactive table.\"\n",
              "              style=\"display:none;\">\n",
              "        \n",
              "  <svg xmlns=\"http://www.w3.org/2000/svg\" height=\"24px\"viewBox=\"0 0 24 24\"\n",
              "       width=\"24px\">\n",
              "    <path d=\"M0 0h24v24H0V0z\" fill=\"none\"/>\n",
              "    <path d=\"M18.56 5.44l.94 2.06.94-2.06 2.06-.94-2.06-.94-.94-2.06-.94 2.06-2.06.94zm-11 1L8.5 8.5l.94-2.06 2.06-.94-2.06-.94L8.5 2.5l-.94 2.06-2.06.94zm10 10l.94 2.06.94-2.06 2.06-.94-2.06-.94-.94-2.06-.94 2.06-2.06.94z\"/><path d=\"M17.41 7.96l-1.37-1.37c-.4-.4-.92-.59-1.43-.59-.52 0-1.04.2-1.43.59L10.3 9.45l-7.72 7.72c-.78.78-.78 2.05 0 2.83L4 21.41c.39.39.9.59 1.41.59.51 0 1.02-.2 1.41-.59l7.78-7.78 2.81-2.81c.8-.78.8-2.07 0-2.86zM5.41 20L4 18.59l7.72-7.72 1.47 1.35L5.41 20z\"/>\n",
              "  </svg>\n",
              "      </button>\n",
              "      \n",
              "  <style>\n",
              "    .colab-df-container {\n",
              "      display:flex;\n",
              "      flex-wrap:wrap;\n",
              "      gap: 12px;\n",
              "    }\n",
              "\n",
              "    .colab-df-convert {\n",
              "      background-color: #E8F0FE;\n",
              "      border: none;\n",
              "      border-radius: 50%;\n",
              "      cursor: pointer;\n",
              "      display: none;\n",
              "      fill: #1967D2;\n",
              "      height: 32px;\n",
              "      padding: 0 0 0 0;\n",
              "      width: 32px;\n",
              "    }\n",
              "\n",
              "    .colab-df-convert:hover {\n",
              "      background-color: #E2EBFA;\n",
              "      box-shadow: 0px 1px 2px rgba(60, 64, 67, 0.3), 0px 1px 3px 1px rgba(60, 64, 67, 0.15);\n",
              "      fill: #174EA6;\n",
              "    }\n",
              "\n",
              "    [theme=dark] .colab-df-convert {\n",
              "      background-color: #3B4455;\n",
              "      fill: #D2E3FC;\n",
              "    }\n",
              "\n",
              "    [theme=dark] .colab-df-convert:hover {\n",
              "      background-color: #434B5C;\n",
              "      box-shadow: 0px 1px 3px 1px rgba(0, 0, 0, 0.15);\n",
              "      filter: drop-shadow(0px 1px 2px rgba(0, 0, 0, 0.3));\n",
              "      fill: #FFFFFF;\n",
              "    }\n",
              "  </style>\n",
              "\n",
              "      <script>\n",
              "        const buttonEl =\n",
              "          document.querySelector('#df-f54b3f28-36ef-4a75-981d-8e924e30334a button.colab-df-convert');\n",
              "        buttonEl.style.display =\n",
              "          google.colab.kernel.accessAllowed ? 'block' : 'none';\n",
              "\n",
              "        async function convertToInteractive(key) {\n",
              "          const element = document.querySelector('#df-f54b3f28-36ef-4a75-981d-8e924e30334a');\n",
              "          const dataTable =\n",
              "            await google.colab.kernel.invokeFunction('convertToInteractive',\n",
              "                                                     [key], {});\n",
              "          if (!dataTable) return;\n",
              "\n",
              "          const docLinkHtml = 'Like what you see? Visit the ' +\n",
              "            '<a target=\"_blank\" href=https://colab.research.google.com/notebooks/data_table.ipynb>data table notebook</a>'\n",
              "            + ' to learn more about interactive tables.';\n",
              "          element.innerHTML = '';\n",
              "          dataTable['output_type'] = 'display_data';\n",
              "          await google.colab.output.renderOutput(dataTable, element);\n",
              "          const docLink = document.createElement('div');\n",
              "          docLink.innerHTML = docLinkHtml;\n",
              "          element.appendChild(docLink);\n",
              "        }\n",
              "      </script>\n",
              "    </div>\n",
              "  </div>\n",
              "  "
            ]
          },
          "metadata": {},
          "execution_count": 150
        }
      ]
    },
    {
      "cell_type": "code",
      "source": [
        "train.describe()"
      ],
      "metadata": {
        "colab": {
          "base_uri": "https://localhost:8080/",
          "height": 300
        },
        "id": "CtOHWQKn5igd",
        "outputId": "87258254-2dcc-43d5-f02a-f66191ef6e2f"
      },
      "execution_count": null,
      "outputs": [
        {
          "output_type": "execute_result",
          "data": {
            "text/plain": [
              "               year  household_size  age_of_respondent\n",
              "count  23524.000000    23524.000000       23524.000000\n",
              "mean    2016.975939        3.797483          38.805220\n",
              "std        0.847371        2.227613          16.520569\n",
              "min     2016.000000        1.000000          16.000000\n",
              "25%     2016.000000        2.000000          26.000000\n",
              "50%     2017.000000        3.000000          35.000000\n",
              "75%     2018.000000        5.000000          49.000000\n",
              "max     2018.000000       21.000000         100.000000"
            ],
            "text/html": [
              "\n",
              "  <div id=\"df-c42bccef-9c73-4fe6-b3d0-5a009ee3dbc6\">\n",
              "    <div class=\"colab-df-container\">\n",
              "      <div>\n",
              "<style scoped>\n",
              "    .dataframe tbody tr th:only-of-type {\n",
              "        vertical-align: middle;\n",
              "    }\n",
              "\n",
              "    .dataframe tbody tr th {\n",
              "        vertical-align: top;\n",
              "    }\n",
              "\n",
              "    .dataframe thead th {\n",
              "        text-align: right;\n",
              "    }\n",
              "</style>\n",
              "<table border=\"1\" class=\"dataframe\">\n",
              "  <thead>\n",
              "    <tr style=\"text-align: right;\">\n",
              "      <th></th>\n",
              "      <th>year</th>\n",
              "      <th>household_size</th>\n",
              "      <th>age_of_respondent</th>\n",
              "    </tr>\n",
              "  </thead>\n",
              "  <tbody>\n",
              "    <tr>\n",
              "      <th>count</th>\n",
              "      <td>23524.000000</td>\n",
              "      <td>23524.000000</td>\n",
              "      <td>23524.000000</td>\n",
              "    </tr>\n",
              "    <tr>\n",
              "      <th>mean</th>\n",
              "      <td>2016.975939</td>\n",
              "      <td>3.797483</td>\n",
              "      <td>38.805220</td>\n",
              "    </tr>\n",
              "    <tr>\n",
              "      <th>std</th>\n",
              "      <td>0.847371</td>\n",
              "      <td>2.227613</td>\n",
              "      <td>16.520569</td>\n",
              "    </tr>\n",
              "    <tr>\n",
              "      <th>min</th>\n",
              "      <td>2016.000000</td>\n",
              "      <td>1.000000</td>\n",
              "      <td>16.000000</td>\n",
              "    </tr>\n",
              "    <tr>\n",
              "      <th>25%</th>\n",
              "      <td>2016.000000</td>\n",
              "      <td>2.000000</td>\n",
              "      <td>26.000000</td>\n",
              "    </tr>\n",
              "    <tr>\n",
              "      <th>50%</th>\n",
              "      <td>2017.000000</td>\n",
              "      <td>3.000000</td>\n",
              "      <td>35.000000</td>\n",
              "    </tr>\n",
              "    <tr>\n",
              "      <th>75%</th>\n",
              "      <td>2018.000000</td>\n",
              "      <td>5.000000</td>\n",
              "      <td>49.000000</td>\n",
              "    </tr>\n",
              "    <tr>\n",
              "      <th>max</th>\n",
              "      <td>2018.000000</td>\n",
              "      <td>21.000000</td>\n",
              "      <td>100.000000</td>\n",
              "    </tr>\n",
              "  </tbody>\n",
              "</table>\n",
              "</div>\n",
              "      <button class=\"colab-df-convert\" onclick=\"convertToInteractive('df-c42bccef-9c73-4fe6-b3d0-5a009ee3dbc6')\"\n",
              "              title=\"Convert this dataframe to an interactive table.\"\n",
              "              style=\"display:none;\">\n",
              "        \n",
              "  <svg xmlns=\"http://www.w3.org/2000/svg\" height=\"24px\"viewBox=\"0 0 24 24\"\n",
              "       width=\"24px\">\n",
              "    <path d=\"M0 0h24v24H0V0z\" fill=\"none\"/>\n",
              "    <path d=\"M18.56 5.44l.94 2.06.94-2.06 2.06-.94-2.06-.94-.94-2.06-.94 2.06-2.06.94zm-11 1L8.5 8.5l.94-2.06 2.06-.94-2.06-.94L8.5 2.5l-.94 2.06-2.06.94zm10 10l.94 2.06.94-2.06 2.06-.94-2.06-.94-.94-2.06-.94 2.06-2.06.94z\"/><path d=\"M17.41 7.96l-1.37-1.37c-.4-.4-.92-.59-1.43-.59-.52 0-1.04.2-1.43.59L10.3 9.45l-7.72 7.72c-.78.78-.78 2.05 0 2.83L4 21.41c.39.39.9.59 1.41.59.51 0 1.02-.2 1.41-.59l7.78-7.78 2.81-2.81c.8-.78.8-2.07 0-2.86zM5.41 20L4 18.59l7.72-7.72 1.47 1.35L5.41 20z\"/>\n",
              "  </svg>\n",
              "      </button>\n",
              "      \n",
              "  <style>\n",
              "    .colab-df-container {\n",
              "      display:flex;\n",
              "      flex-wrap:wrap;\n",
              "      gap: 12px;\n",
              "    }\n",
              "\n",
              "    .colab-df-convert {\n",
              "      background-color: #E8F0FE;\n",
              "      border: none;\n",
              "      border-radius: 50%;\n",
              "      cursor: pointer;\n",
              "      display: none;\n",
              "      fill: #1967D2;\n",
              "      height: 32px;\n",
              "      padding: 0 0 0 0;\n",
              "      width: 32px;\n",
              "    }\n",
              "\n",
              "    .colab-df-convert:hover {\n",
              "      background-color: #E2EBFA;\n",
              "      box-shadow: 0px 1px 2px rgba(60, 64, 67, 0.3), 0px 1px 3px 1px rgba(60, 64, 67, 0.15);\n",
              "      fill: #174EA6;\n",
              "    }\n",
              "\n",
              "    [theme=dark] .colab-df-convert {\n",
              "      background-color: #3B4455;\n",
              "      fill: #D2E3FC;\n",
              "    }\n",
              "\n",
              "    [theme=dark] .colab-df-convert:hover {\n",
              "      background-color: #434B5C;\n",
              "      box-shadow: 0px 1px 3px 1px rgba(0, 0, 0, 0.15);\n",
              "      filter: drop-shadow(0px 1px 2px rgba(0, 0, 0, 0.3));\n",
              "      fill: #FFFFFF;\n",
              "    }\n",
              "  </style>\n",
              "\n",
              "      <script>\n",
              "        const buttonEl =\n",
              "          document.querySelector('#df-c42bccef-9c73-4fe6-b3d0-5a009ee3dbc6 button.colab-df-convert');\n",
              "        buttonEl.style.display =\n",
              "          google.colab.kernel.accessAllowed ? 'block' : 'none';\n",
              "\n",
              "        async function convertToInteractive(key) {\n",
              "          const element = document.querySelector('#df-c42bccef-9c73-4fe6-b3d0-5a009ee3dbc6');\n",
              "          const dataTable =\n",
              "            await google.colab.kernel.invokeFunction('convertToInteractive',\n",
              "                                                     [key], {});\n",
              "          if (!dataTable) return;\n",
              "\n",
              "          const docLinkHtml = 'Like what you see? Visit the ' +\n",
              "            '<a target=\"_blank\" href=https://colab.research.google.com/notebooks/data_table.ipynb>data table notebook</a>'\n",
              "            + ' to learn more about interactive tables.';\n",
              "          element.innerHTML = '';\n",
              "          dataTable['output_type'] = 'display_data';\n",
              "          await google.colab.output.renderOutput(dataTable, element);\n",
              "          const docLink = document.createElement('div');\n",
              "          docLink.innerHTML = docLinkHtml;\n",
              "          element.appendChild(docLink);\n",
              "        }\n",
              "      </script>\n",
              "    </div>\n",
              "  </div>\n",
              "  "
            ]
          },
          "metadata": {},
          "execution_count": 151
        }
      ]
    },
    {
      "cell_type": "code",
      "source": [
        "train.corr()"
      ],
      "metadata": {
        "colab": {
          "base_uri": "https://localhost:8080/",
          "height": 143
        },
        "id": "7bEwQaWtt1-o",
        "outputId": "485b2153-48ba-4e2e-f5cb-ddf8e665abd1"
      },
      "execution_count": null,
      "outputs": [
        {
          "output_type": "execute_result",
          "data": {
            "text/plain": [
              "                       year  household_size  age_of_respondent\n",
              "year               1.000000       -0.052264          -0.019330\n",
              "household_size    -0.052264        1.000000          -0.129729\n",
              "age_of_respondent -0.019330       -0.129729           1.000000"
            ],
            "text/html": [
              "\n",
              "  <div id=\"df-5f166050-ece7-446a-9158-3b7129c11abe\">\n",
              "    <div class=\"colab-df-container\">\n",
              "      <div>\n",
              "<style scoped>\n",
              "    .dataframe tbody tr th:only-of-type {\n",
              "        vertical-align: middle;\n",
              "    }\n",
              "\n",
              "    .dataframe tbody tr th {\n",
              "        vertical-align: top;\n",
              "    }\n",
              "\n",
              "    .dataframe thead th {\n",
              "        text-align: right;\n",
              "    }\n",
              "</style>\n",
              "<table border=\"1\" class=\"dataframe\">\n",
              "  <thead>\n",
              "    <tr style=\"text-align: right;\">\n",
              "      <th></th>\n",
              "      <th>year</th>\n",
              "      <th>household_size</th>\n",
              "      <th>age_of_respondent</th>\n",
              "    </tr>\n",
              "  </thead>\n",
              "  <tbody>\n",
              "    <tr>\n",
              "      <th>year</th>\n",
              "      <td>1.000000</td>\n",
              "      <td>-0.052264</td>\n",
              "      <td>-0.019330</td>\n",
              "    </tr>\n",
              "    <tr>\n",
              "      <th>household_size</th>\n",
              "      <td>-0.052264</td>\n",
              "      <td>1.000000</td>\n",
              "      <td>-0.129729</td>\n",
              "    </tr>\n",
              "    <tr>\n",
              "      <th>age_of_respondent</th>\n",
              "      <td>-0.019330</td>\n",
              "      <td>-0.129729</td>\n",
              "      <td>1.000000</td>\n",
              "    </tr>\n",
              "  </tbody>\n",
              "</table>\n",
              "</div>\n",
              "      <button class=\"colab-df-convert\" onclick=\"convertToInteractive('df-5f166050-ece7-446a-9158-3b7129c11abe')\"\n",
              "              title=\"Convert this dataframe to an interactive table.\"\n",
              "              style=\"display:none;\">\n",
              "        \n",
              "  <svg xmlns=\"http://www.w3.org/2000/svg\" height=\"24px\"viewBox=\"0 0 24 24\"\n",
              "       width=\"24px\">\n",
              "    <path d=\"M0 0h24v24H0V0z\" fill=\"none\"/>\n",
              "    <path d=\"M18.56 5.44l.94 2.06.94-2.06 2.06-.94-2.06-.94-.94-2.06-.94 2.06-2.06.94zm-11 1L8.5 8.5l.94-2.06 2.06-.94-2.06-.94L8.5 2.5l-.94 2.06-2.06.94zm10 10l.94 2.06.94-2.06 2.06-.94-2.06-.94-.94-2.06-.94 2.06-2.06.94z\"/><path d=\"M17.41 7.96l-1.37-1.37c-.4-.4-.92-.59-1.43-.59-.52 0-1.04.2-1.43.59L10.3 9.45l-7.72 7.72c-.78.78-.78 2.05 0 2.83L4 21.41c.39.39.9.59 1.41.59.51 0 1.02-.2 1.41-.59l7.78-7.78 2.81-2.81c.8-.78.8-2.07 0-2.86zM5.41 20L4 18.59l7.72-7.72 1.47 1.35L5.41 20z\"/>\n",
              "  </svg>\n",
              "      </button>\n",
              "      \n",
              "  <style>\n",
              "    .colab-df-container {\n",
              "      display:flex;\n",
              "      flex-wrap:wrap;\n",
              "      gap: 12px;\n",
              "    }\n",
              "\n",
              "    .colab-df-convert {\n",
              "      background-color: #E8F0FE;\n",
              "      border: none;\n",
              "      border-radius: 50%;\n",
              "      cursor: pointer;\n",
              "      display: none;\n",
              "      fill: #1967D2;\n",
              "      height: 32px;\n",
              "      padding: 0 0 0 0;\n",
              "      width: 32px;\n",
              "    }\n",
              "\n",
              "    .colab-df-convert:hover {\n",
              "      background-color: #E2EBFA;\n",
              "      box-shadow: 0px 1px 2px rgba(60, 64, 67, 0.3), 0px 1px 3px 1px rgba(60, 64, 67, 0.15);\n",
              "      fill: #174EA6;\n",
              "    }\n",
              "\n",
              "    [theme=dark] .colab-df-convert {\n",
              "      background-color: #3B4455;\n",
              "      fill: #D2E3FC;\n",
              "    }\n",
              "\n",
              "    [theme=dark] .colab-df-convert:hover {\n",
              "      background-color: #434B5C;\n",
              "      box-shadow: 0px 1px 3px 1px rgba(0, 0, 0, 0.15);\n",
              "      filter: drop-shadow(0px 1px 2px rgba(0, 0, 0, 0.3));\n",
              "      fill: #FFFFFF;\n",
              "    }\n",
              "  </style>\n",
              "\n",
              "      <script>\n",
              "        const buttonEl =\n",
              "          document.querySelector('#df-5f166050-ece7-446a-9158-3b7129c11abe button.colab-df-convert');\n",
              "        buttonEl.style.display =\n",
              "          google.colab.kernel.accessAllowed ? 'block' : 'none';\n",
              "\n",
              "        async function convertToInteractive(key) {\n",
              "          const element = document.querySelector('#df-5f166050-ece7-446a-9158-3b7129c11abe');\n",
              "          const dataTable =\n",
              "            await google.colab.kernel.invokeFunction('convertToInteractive',\n",
              "                                                     [key], {});\n",
              "          if (!dataTable) return;\n",
              "\n",
              "          const docLinkHtml = 'Like what you see? Visit the ' +\n",
              "            '<a target=\"_blank\" href=https://colab.research.google.com/notebooks/data_table.ipynb>data table notebook</a>'\n",
              "            + ' to learn more about interactive tables.';\n",
              "          element.innerHTML = '';\n",
              "          dataTable['output_type'] = 'display_data';\n",
              "          await google.colab.output.renderOutput(dataTable, element);\n",
              "          const docLink = document.createElement('div');\n",
              "          docLink.innerHTML = docLinkHtml;\n",
              "          element.appendChild(docLink);\n",
              "        }\n",
              "      </script>\n",
              "    </div>\n",
              "  </div>\n",
              "  "
            ]
          },
          "metadata": {},
          "execution_count": 152
        }
      ]
    },
    {
      "cell_type": "code",
      "source": [
        "sb.heatmap(train.corr(), annot=True)"
      ],
      "metadata": {
        "colab": {
          "base_uri": "https://localhost:8080/",
          "height": 288
        },
        "id": "KeC5tpxK5vKG",
        "outputId": "aade6a6e-0e6c-436a-f547-39c6d2c41f26"
      },
      "execution_count": null,
      "outputs": [
        {
          "output_type": "execute_result",
          "data": {
            "text/plain": [
              "<matplotlib.axes._subplots.AxesSubplot at 0x7f8e1e4e0df0>"
            ]
          },
          "metadata": {},
          "execution_count": 153
        },
        {
          "output_type": "display_data",
          "data": {
            "text/plain": [
              "<Figure size 432x288 with 2 Axes>"
            ],
            "image/png": "[encoded data removed]"
          },
          "metadata": {
            "needs_background": "light"
          }
        }
      ]
    },
    {
      "cell_type": "markdown",
      "source": [
        "# Feature Processing & Engineering\n",
        "Here is the section to **clean**, **process** the dataset and **create new features**."
      ],
      "metadata": {
        "id": "R8WB7j-3fxzL"
      }
    },
    {
      "cell_type": "markdown",
      "source": [
        "## Drop Duplicates"
      ],
      "metadata": {
        "id": "X6Rh5SimmcGe"
      }
    },
    {
      "cell_type": "code",
      "source": [
        "# Use pandas.DataFrame.drop_duplicates method\n",
        "_ = train.shape[0]\n",
        "train.drop_duplicates(inplace=True)\n",
        "n_duplicated = _ - train.shape[0]\n",
        "print(\"There is no duplicated rows in the dataset\") if n_duplicated==0 else print(f\"'{n_duplicated}' duplicated rows in the dataset\")"
      ],
      "metadata": {
        "id": "dIBrDy1Pmo2_",
        "colab": {
          "base_uri": "https://localhost:8080/"
        },
        "outputId": "87346022-7e2b-4bc7-caed-92971acbe3d4"
      },
      "execution_count": null,
      "outputs": [
        {
          "output_type": "stream",
          "name": "stdout",
          "text": [
            "There is no duplicated rows in the dataset\n"
          ]
        }
      ]
    },
    {
      "cell_type": "markdown",
      "source": [
        "## Dataset Splitting"
      ],
      "metadata": {
        "id": "wxYGw6zug8lI"
      }
    },
    {
      "cell_type": "code",
      "source": [
        "# Please specify \n",
        "to_ignore_cols = [\n",
        "    \"uniqueid\", # ID\n",
        "    \"\",\n",
        "]"
      ],
      "metadata": {
        "id": "p-dnv3h8Ets2"
      },
      "execution_count": null,
      "outputs": []
    },
    {
      "cell_type": "code",
      "source": [
        "num_cols = list(set(test.select_dtypes('number')).intersection(train.select_dtypes('number')) - set(to_ignore_cols))\n",
        "cat_cols = list(set(test.select_dtypes(exclude='number')).intersection(train.select_dtypes(exclude='number')) - set(to_ignore_cols))\n",
        "print(f\"The '{len(num_cols)}' numeric columns are : {num_cols}\\nThe '{len(cat_cols)}' categorical columns are : {cat_cols}\" )\n",
        "\n",
        "plausible_targets = list(set(train) - set(test))\n",
        "print(f\"The '{len(plausible_targets)}' plausible target columns are : {plausible_targets}\")\n",
        "plausible_targets_dict = {i:col for (i,col) in enumerate(plausible_targets) }\n",
        "target_col = plausible_targets[0] if len(plausible_targets)==1 else plausible_targets[int(input(f\"Please enter the index of your target, {plausible_targets_dict}\\n>\"))]\n",
        "print(f\"The target is : {target_col}\")"
      ],
      "metadata": {
        "colab": {
          "base_uri": "https://localhost:8080/"
        },
        "id": "boS3sgFdO1aB",
        "outputId": "ea40fc5f-127a-4375-e42c-f2fb3275add0"
      },
      "execution_count": null,
      "outputs": [
        {
          "output_type": "stream",
          "name": "stdout",
          "text": [
            "The '3' numeric columns are : ['year', 'age_of_respondent', 'household_size']\n",
            "The '8' categorical columns are : ['location_type', 'cellphone_access', 'relationship_with_head', 'job_type', 'education_level', 'marital_status', 'gender_of_respondent', 'country']\n",
            "The '1' plausible target columns are : ['bank_account']\n",
            "The target is : bank_account\n"
          ]
        }
      ]
    },
    {
      "cell_type": "code",
      "source": [
        "X = train[num_cols+cat_cols]\n",
        "y = train[target_col]\n",
        "\n",
        "X_test = test[num_cols+cat_cols]"
      ],
      "metadata": {
        "id": "mopS3uapPO1G"
      },
      "execution_count": null,
      "outputs": []
    },
    {
      "cell_type": "code",
      "source": [
        "# Use train_test_split with a random_state, and add stratify for Classification\n",
        "stratify = y if y.dtype == \"O\" else None\n",
        "X_train, X_eval, y_train, y_eval = train_test_split(X, y, test_size = 0.2, random_state = 1, stratify = stratify )\n",
        "\n",
        "X_train.shape, y_train.shape, X_eval.shape, y_eval.shape"
      ],
      "metadata": {
        "id": "cbsbMbs1hDzo",
        "colab": {
          "base_uri": "https://localhost:8080/"
        },
        "outputId": "f4276486-bbdb-456a-9e4b-5c79cfb14b36"
      },
      "execution_count": null,
      "outputs": [
        {
          "output_type": "execute_result",
          "data": {
            "text/plain": [
              "((18819, 11), (18819,), (4705, 11), (4705,))"
            ]
          },
          "metadata": {},
          "execution_count": 158
        }
      ]
    },
    {
      "cell_type": "markdown",
      "source": [
        "## Impute Missing Values"
      ],
      "metadata": {
        "id": "dLJuYG_JgBH8"
      }
    },
    {
      "cell_type": "code",
      "source": [
        "# Use sklearn.impute.SimpleImputer"
      ],
      "metadata": {
        "id": "52POL1F8gLEa"
      },
      "execution_count": null,
      "outputs": []
    },
    {
      "cell_type": "code",
      "source": [
        "num_imputer = SimpleImputer(strategy=\"mean\").fit(X_train[num_cols])\n",
        "cat_imputer = SimpleImputer(strategy=\"most_frequent\").fit(X_train[cat_cols])"
      ],
      "metadata": {
        "id": "TRxD5WLP7Goy"
      },
      "execution_count": null,
      "outputs": []
    },
    {
      "cell_type": "code",
      "source": [
        "# num_imputer = SimpleImputer(strategy=\"mean\")\n",
        "# num_imputer.fit(X_train[num_cols]) # return the fitted exact SimpleImputer()"
      ],
      "metadata": {
        "id": "pEEChcCIyPbQ"
      },
      "execution_count": null,
      "outputs": []
    },
    {
      "cell_type": "code",
      "source": [
        "num_imputer.transform(X_train[num_cols])"
      ],
      "metadata": {
        "colab": {
          "base_uri": "https://localhost:8080/"
        },
        "id": "vzL8EBf2ylRJ",
        "outputId": "1c343b0d-2c07-404d-d533-28c1146a74e9"
      },
      "execution_count": null,
      "outputs": [
        {
          "output_type": "execute_result",
          "data": {
            "text/plain": [
              "array([[2.017e+03, 5.500e+01, 4.000e+00],\n",
              "       [2.018e+03, 4.000e+01, 2.000e+00],\n",
              "       [2.018e+03, 2.500e+01, 4.000e+00],\n",
              "       ...,\n",
              "       [2.017e+03, 2.500e+01, 2.000e+00],\n",
              "       [2.017e+03, 6.500e+01, 3.000e+00],\n",
              "       [2.018e+03, 5.800e+01, 5.000e+00]])"
            ]
          },
          "metadata": {},
          "execution_count": 162
        }
      ]
    },
    {
      "cell_type": "code",
      "source": [
        "X_train_num_imputed = pd.DataFrame(num_imputer.transform(X_train[num_cols]), columns=num_cols)\n",
        "X_eval_num_imputed = pd.DataFrame(num_imputer.transform(X_eval[num_cols]), columns=num_cols)\n",
        "X_test_num_imputed = pd.DataFrame(num_imputer.transform(X_test[num_cols]), columns=num_cols)\n",
        "\n",
        "X_train_cat_imputed = pd.DataFrame(cat_imputer.transform(X_train[cat_cols]), columns=cat_cols)\n",
        "X_eval_cat_imputed = pd.DataFrame(cat_imputer.transform(X_eval[cat_cols]), columns=cat_cols)\n",
        "X_test_cat_imputed = pd.DataFrame(cat_imputer.transform(X_test[cat_cols]), columns=cat_cols)\n",
        "\n",
        "X_train_imputed = pd.concat([X_train_num_imputed, X_train_cat_imputed], axis=1)\n",
        "X_eval_imputed = pd.concat([X_eval_num_imputed, X_eval_cat_imputed], axis=1)\n",
        "X_test_imputed = pd.concat([X_test_num_imputed, X_test_cat_imputed], axis=1)"
      ],
      "metadata": {
        "id": "U5jAIxj89d8c"
      },
      "execution_count": null,
      "outputs": []
    },
    {
      "cell_type": "code",
      "source": [
        "X_train_imputed.head()"
      ],
      "metadata": {
        "colab": {
          "base_uri": "https://localhost:8080/",
          "height": 374
        },
        "id": "mulhs5-VWxrL",
        "outputId": "2e13940a-8827-4226-dee2-e87abd8ec89c"
      },
      "execution_count": null,
      "outputs": [
        {
          "output_type": "execute_result",
          "data": {
            "text/plain": [
              "     year  age_of_respondent  household_size location_type cellphone_access  \\\n",
              "0  2017.0               55.0             4.0         Rural              Yes   \n",
              "1  2018.0               40.0             2.0         Urban              Yes   \n",
              "2  2018.0               25.0             4.0         Rural              Yes   \n",
              "3  2017.0               50.0             3.0         Urban               No   \n",
              "4  2018.0               22.0             4.0         Urban              Yes   \n",
              "\n",
              "  relationship_with_head             job_type      education_level  \\\n",
              "0                 Spouse        Self employed    Primary education   \n",
              "1      Head of Household  Informally employed  Secondary education   \n",
              "2                  Child  Farming and Fishing   Tertiary education   \n",
              "3                 Spouse        Self employed  No formal education   \n",
              "4                  Child        Self employed  Secondary education   \n",
              "\n",
              "            marital_status gender_of_respondent   country  \n",
              "0     Single/Never Married               Female  Tanzania  \n",
              "1  Married/Living together               Female     Kenya  \n",
              "2     Single/Never Married                 Male     Kenya  \n",
              "3     Single/Never Married               Female  Tanzania  \n",
              "4     Single/Never Married                 Male     Kenya  "
            ],
            "text/html": [
              "\n",
              "  <div id=\"df-4c95773a-a010-43ea-a111-c744a1323cfb\">\n",
              "    <div class=\"colab-df-container\">\n",
              "      <div>\n",
              "<style scoped>\n",
              "    .dataframe tbody tr th:only-of-type {\n",
              "        vertical-align: middle;\n",
              "    }\n",
              "\n",
              "    .dataframe tbody tr th {\n",
              "        vertical-align: top;\n",
              "    }\n",
              "\n",
              "    .dataframe thead th {\n",
              "        text-align: right;\n",
              "    }\n",
              "</style>\n",
              "<table border=\"1\" class=\"dataframe\">\n",
              "  <thead>\n",
              "    <tr style=\"text-align: right;\">\n",
              "      <th></th>\n",
              "      <th>year</th>\n",
              "      <th>age_of_respondent</th>\n",
              "      <th>household_size</th>\n",
              "      <th>location_type</th>\n",
              "      <th>cellphone_access</th>\n",
              "      <th>relationship_with_head</th>\n",
              "      <th>job_type</th>\n",
              "      <th>education_level</th>\n",
              "      <th>marital_status</th>\n",
              "      <th>gender_of_respondent</th>\n",
              "      <th>country</th>\n",
              "    </tr>\n",
              "  </thead>\n",
              "  <tbody>\n",
              "    <tr>\n",
              "      <th>0</th>\n",
              "      <td>2017.0</td>\n",
              "      <td>55.0</td>\n",
              "      <td>4.0</td>\n",
              "      <td>Rural</td>\n",
              "      <td>Yes</td>\n",
              "      <td>Spouse</td>\n",
              "      <td>Self employed</td>\n",
              "      <td>Primary education</td>\n",
              "      <td>Single/Never Married</td>\n",
              "      <td>Female</td>\n",
              "      <td>Tanzania</td>\n",
              "    </tr>\n",
              "    <tr>\n",
              "      <th>1</th>\n",
              "      <td>2018.0</td>\n",
              "      <td>40.0</td>\n",
              "      <td>2.0</td>\n",
              "      <td>Urban</td>\n",
              "      <td>Yes</td>\n",
              "      <td>Head of Household</td>\n",
              "      <td>Informally employed</td>\n",
              "      <td>Secondary education</td>\n",
              "      <td>Married/Living together</td>\n",
              "      <td>Female</td>\n",
              "      <td>Kenya</td>\n",
              "    </tr>\n",
              "    <tr>\n",
              "      <th>2</th>\n",
              "      <td>2018.0</td>\n",
              "      <td>25.0</td>\n",
              "      <td>4.0</td>\n",
              "      <td>Rural</td>\n",
              "      <td>Yes</td>\n",
              "      <td>Child</td>\n",
              "      <td>Farming and Fishing</td>\n",
              "      <td>Tertiary education</td>\n",
              "      <td>Single/Never Married</td>\n",
              "      <td>Male</td>\n",
              "      <td>Kenya</td>\n",
              "    </tr>\n",
              "    <tr>\n",
              "      <th>3</th>\n",
              "      <td>2017.0</td>\n",
              "      <td>50.0</td>\n",
              "      <td>3.0</td>\n",
              "      <td>Urban</td>\n",
              "      <td>No</td>\n",
              "      <td>Spouse</td>\n",
              "      <td>Self employed</td>\n",
              "      <td>No formal education</td>\n",
              "      <td>Single/Never Married</td>\n",
              "      <td>Female</td>\n",
              "      <td>Tanzania</td>\n",
              "    </tr>\n",
              "    <tr>\n",
              "      <th>4</th>\n",
              "      <td>2018.0</td>\n",
              "      <td>22.0</td>\n",
              "      <td>4.0</td>\n",
              "      <td>Urban</td>\n",
              "      <td>Yes</td>\n",
              "      <td>Child</td>\n",
              "      <td>Self employed</td>\n",
              "      <td>Secondary education</td>\n",
              "      <td>Single/Never Married</td>\n",
              "      <td>Male</td>\n",
              "      <td>Kenya</td>\n",
              "    </tr>\n",
              "  </tbody>\n",
              "</table>\n",
              "</div>\n",
              "      <button class=\"colab-df-convert\" onclick=\"convertToInteractive('df-4c95773a-a010-43ea-a111-c744a1323cfb')\"\n",
              "              title=\"Convert this dataframe to an interactive table.\"\n",
              "              style=\"display:none;\">\n",
              "        \n",
              "  <svg xmlns=\"http://www.w3.org/2000/svg\" height=\"24px\"viewBox=\"0 0 24 24\"\n",
              "       width=\"24px\">\n",
              "    <path d=\"M0 0h24v24H0V0z\" fill=\"none\"/>\n",
              "    <path d=\"M18.56 5.44l.94 2.06.94-2.06 2.06-.94-2.06-.94-.94-2.06-.94 2.06-2.06.94zm-11 1L8.5 8.5l.94-2.06 2.06-.94-2.06-.94L8.5 2.5l-.94 2.06-2.06.94zm10 10l.94 2.06.94-2.06 2.06-.94-2.06-.94-.94-2.06-.94 2.06-2.06.94z\"/><path d=\"M17.41 7.96l-1.37-1.37c-.4-.4-.92-.59-1.43-.59-.52 0-1.04.2-1.43.59L10.3 9.45l-7.72 7.72c-.78.78-.78 2.05 0 2.83L4 21.41c.39.39.9.59 1.41.59.51 0 1.02-.2 1.41-.59l7.78-7.78 2.81-2.81c.8-.78.8-2.07 0-2.86zM5.41 20L4 18.59l7.72-7.72 1.47 1.35L5.41 20z\"/>\n",
              "  </svg>\n",
              "      </button>\n",
              "      \n",
              "  <style>\n",
              "    .colab-df-container {\n",
              "      display:flex;\n",
              "      flex-wrap:wrap;\n",
              "      gap: 12px;\n",
              "    }\n",
              "\n",
              "    .colab-df-convert {\n",
              "      background-color: #E8F0FE;\n",
              "      border: none;\n",
              "      border-radius: 50%;\n",
              "      cursor: pointer;\n",
              "      display: none;\n",
              "      fill: #1967D2;\n",
              "      height: 32px;\n",
              "      padding: 0 0 0 0;\n",
              "      width: 32px;\n",
              "    }\n",
              "\n",
              "    .colab-df-convert:hover {\n",
              "      background-color: #E2EBFA;\n",
              "      box-shadow: 0px 1px 2px rgba(60, 64, 67, 0.3), 0px 1px 3px 1px rgba(60, 64, 67, 0.15);\n",
              "      fill: #174EA6;\n",
              "    }\n",
              "\n",
              "    [theme=dark] .colab-df-convert {\n",
              "      background-color: #3B4455;\n",
              "      fill: #D2E3FC;\n",
              "    }\n",
              "\n",
              "    [theme=dark] .colab-df-convert:hover {\n",
              "      background-color: #434B5C;\n",
              "      box-shadow: 0px 1px 3px 1px rgba(0, 0, 0, 0.15);\n",
              "      filter: drop-shadow(0px 1px 2px rgba(0, 0, 0, 0.3));\n",
              "      fill: #FFFFFF;\n",
              "    }\n",
              "  </style>\n",
              "\n",
              "      <script>\n",
              "        const buttonEl =\n",
              "          document.querySelector('#df-4c95773a-a010-43ea-a111-c744a1323cfb button.colab-df-convert');\n",
              "        buttonEl.style.display =\n",
              "          google.colab.kernel.accessAllowed ? 'block' : 'none';\n",
              "\n",
              "        async function convertToInteractive(key) {\n",
              "          const element = document.querySelector('#df-4c95773a-a010-43ea-a111-c744a1323cfb');\n",
              "          const dataTable =\n",
              "            await google.colab.kernel.invokeFunction('convertToInteractive',\n",
              "                                                     [key], {});\n",
              "          if (!dataTable) return;\n",
              "\n",
              "          const docLinkHtml = 'Like what you see? Visit the ' +\n",
              "            '<a target=\"_blank\" href=https://colab.research.google.com/notebooks/data_table.ipynb>data table notebook</a>'\n",
              "            + ' to learn more about interactive tables.';\n",
              "          element.innerHTML = '';\n",
              "          dataTable['output_type'] = 'display_data';\n",
              "          await google.colab.output.renderOutput(dataTable, element);\n",
              "          const docLink = document.createElement('div');\n",
              "          docLink.innerHTML = docLinkHtml;\n",
              "          element.appendChild(docLink);\n",
              "        }\n",
              "      </script>\n",
              "    </div>\n",
              "  </div>\n",
              "  "
            ]
          },
          "metadata": {},
          "execution_count": 164
        }
      ]
    },
    {
      "cell_type": "markdown",
      "source": [
        "## New Features Creation"
      ],
      "metadata": {
        "id": "vOoXNG6lgLVD"
      }
    },
    {
      "cell_type": "code",
      "execution_count": null,
      "metadata": {
        "id": "fU5RQ0itegd4"
      },
      "outputs": [],
      "source": [
        "# Code here"
      ]
    },
    {
      "cell_type": "markdown",
      "source": [
        "## Features Encoding\n",
        "\n",
        "\n"
      ],
      "metadata": {
        "id": "eYkNdwQ-gRod"
      }
    },
    {
      "cell_type": "code",
      "source": [
        "# From sklearn.preprocessing use OneHotEncoder to encode the categorical features."
      ],
      "metadata": {
        "id": "99vphpwPgbUw"
      },
      "execution_count": null,
      "outputs": []
    },
    {
      "cell_type": "code",
      "source": [
        "[\"male\", \"female\"] # [[0, 1], [1,0]]"
      ],
      "metadata": {
        "colab": {
          "base_uri": "https://localhost:8080/"
        },
        "id": "hLUtMrqXzJS3",
        "outputId": "9119a550-0e78-4d11-a837-dfd990d739b6"
      },
      "execution_count": null,
      "outputs": [
        {
          "output_type": "execute_result",
          "data": {
            "text/plain": [
              "['male', 'female']"
            ]
          },
          "metadata": {},
          "execution_count": 167
        }
      ]
    },
    {
      "cell_type": "code",
      "source": [
        "encoder = OneHotEncoder(sparse=False, drop=\"first\").fit(\\\n",
        "    X_train_cat_imputed.append(X_eval_cat_imputed)\\\n",
        "    .append(X_test_cat_imputed)\\\n",
        "    )\n",
        "all_categories = encoder.categories_\n",
        "cat_encoded_cols = encoder.get_feature_names_out().tolist()\n"
      ],
      "metadata": {
        "id": "h8OOCWV2CfMt"
      },
      "execution_count": null,
      "outputs": []
    },
    {
      "cell_type": "code",
      "source": [
        "X_train_cat_encoded = pd.DataFrame(encoder.transform(X_train_cat_imputed), columns=cat_encoded_cols)\n",
        "X_eval_cat_encoded = pd.DataFrame(encoder.transform(X_eval_cat_imputed), columns=cat_encoded_cols)\n",
        "X_test_cat_encoded = pd.DataFrame(encoder.transform(X_test_cat_imputed), columns=cat_encoded_cols)"
      ],
      "metadata": {
        "id": "yh80o156GG5e"
      },
      "execution_count": null,
      "outputs": []
    },
    {
      "cell_type": "code",
      "source": [
        "encoder = OneHotEncoder(\n",
        "    categories=encoder.categories_, sparse_output=False, drop=\"first\", handle_unknown=\"ignore\"\n",
        "            )"
      ],
      "metadata": {
        "id": "qVCi0sAwZ4At"
      },
      "execution_count": null,
      "outputs": []
    },
    {
      "cell_type": "code",
      "source": [
        "encoder.categories"
      ],
      "metadata": {
        "colab": {
          "base_uri": "https://localhost:8080/"
        },
        "id": "i9fVcim6aB2o",
        "outputId": "8ef12a28-915a-4ba7-946a-1a58859f610b"
      },
      "execution_count": null,
      "outputs": [
        {
          "output_type": "execute_result",
          "data": {
            "text/plain": [
              "[array(['Rural', 'Urban'], dtype=object),\n",
              " array(['No', 'Yes'], dtype=object),\n",
              " array(['Child', 'Head of Household', 'Other non-relatives',\n",
              "        'Other relative', 'Parent', 'Spouse'], dtype=object),\n",
              " array(['Dont Know/Refuse to answer', 'Farming and Fishing',\n",
              "        'Formally employed Government', 'Formally employed Private',\n",
              "        'Government Dependent', 'Informally employed', 'No Income',\n",
              "        'Other Income', 'Remittance Dependent', 'Self employed'],\n",
              "       dtype=object),\n",
              " array(['No formal education', 'Other/Dont know/RTA', 'Primary education',\n",
              "        'Secondary education', 'Tertiary education',\n",
              "        'Vocational/Specialised training'], dtype=object),\n",
              " array(['Divorced/Seperated', 'Dont know', 'Married/Living together',\n",
              "        'Single/Never Married', 'Widowed'], dtype=object),\n",
              " array(['Female', 'Male'], dtype=object),\n",
              " array(['Kenya', 'Rwanda', 'Tanzania', 'Uganda'], dtype=object)]"
            ]
          },
          "metadata": {},
          "execution_count": 171
        }
      ]
    },
    {
      "cell_type": "markdown",
      "source": [
        "## Features Scaling\n"
      ],
      "metadata": {
        "id": "Q0TvhRVghEcP"
      }
    },
    {
      "cell_type": "code",
      "source": [
        "# From sklearn.preprocessing use StandardScaler, MinMaxScaler, etc."
      ],
      "metadata": {
        "id": "pf6WtuHphLBE"
      },
      "execution_count": null,
      "outputs": []
    },
    {
      "cell_type": "code",
      "source": [
        "scaler = RobustScaler().fit(X_train_num_imputed)"
      ],
      "metadata": {
        "id": "7GKQAiIVAyyl"
      },
      "execution_count": null,
      "outputs": []
    },
    {
      "cell_type": "code",
      "source": [
        "X_train_num_scaled = pd.DataFrame(scaler.transform(X_train_num_imputed), columns=num_cols)\n",
        "X_eval_num_scaled = pd.DataFrame(scaler.transform(X_eval_num_imputed), columns=num_cols)\n",
        "X_test_num_scaled = pd.DataFrame(scaler.transform(X_test_num_imputed), columns=num_cols)"
      ],
      "metadata": {
        "id": "uf8YgRVZBHH9"
      },
      "execution_count": null,
      "outputs": []
    },
    {
      "cell_type": "code",
      "source": [],
      "metadata": {
        "id": "5YFLv8RyH4sA"
      },
      "execution_count": null,
      "outputs": []
    },
    {
      "cell_type": "code",
      "source": [
        "X_train_ready = pd.concat([X_train_num_scaled, X_train_cat_encoded], axis=1)\n",
        "X_eval_ready = pd.concat([X_eval_num_scaled, X_eval_cat_encoded], axis=1)\n",
        "X_test_ready = pd.concat([X_test_num_scaled, X_test_cat_encoded], axis=1)"
      ],
      "metadata": {
        "id": "ib2b3DyuGu0M"
      },
      "execution_count": null,
      "outputs": []
    },
    {
      "cell_type": "code",
      "source": [
        "X_train_ready.head()"
      ],
      "metadata": {
        "colab": {
          "base_uri": "https://localhost:8080/",
          "height": 317
        },
        "id": "69IrvIstH5Yw",
        "outputId": "c45a4790-b400-40da-bd39-1711500edc48"
      },
      "execution_count": null,
      "outputs": [
        {
          "output_type": "execute_result",
          "data": {
            "text/plain": [
              "   year  age_of_respondent  household_size  location_type_Urban  \\\n",
              "0   0.0           0.869565        0.333333                  0.0   \n",
              "1   0.5           0.217391       -0.333333                  1.0   \n",
              "2   0.5          -0.434783        0.333333                  0.0   \n",
              "3   0.0           0.652174        0.000000                  1.0   \n",
              "4   0.5          -0.565217        0.333333                  1.0   \n",
              "\n",
              "   cellphone_access_Yes  relationship_with_head_Head of Household  \\\n",
              "0                   1.0                                       0.0   \n",
              "1                   1.0                                       1.0   \n",
              "2                   1.0                                       0.0   \n",
              "3                   0.0                                       0.0   \n",
              "4                   1.0                                       0.0   \n",
              "\n",
              "   relationship_with_head_Other non-relatives  \\\n",
              "0                                         0.0   \n",
              "1                                         0.0   \n",
              "2                                         0.0   \n",
              "3                                         0.0   \n",
              "4                                         0.0   \n",
              "\n",
              "   relationship_with_head_Other relative  relationship_with_head_Parent  \\\n",
              "0                                    0.0                            0.0   \n",
              "1                                    0.0                            0.0   \n",
              "2                                    0.0                            0.0   \n",
              "3                                    0.0                            0.0   \n",
              "4                                    0.0                            0.0   \n",
              "\n",
              "   relationship_with_head_Spouse  ...  education_level_Tertiary education  \\\n",
              "0                            1.0  ...                                 0.0   \n",
              "1                            0.0  ...                                 0.0   \n",
              "2                            0.0  ...                                 1.0   \n",
              "3                            1.0  ...                                 0.0   \n",
              "4                            0.0  ...                                 0.0   \n",
              "\n",
              "   education_level_Vocational/Specialised training  marital_status_Dont know  \\\n",
              "0                                              0.0                       0.0   \n",
              "1                                              0.0                       0.0   \n",
              "2                                              0.0                       0.0   \n",
              "3                                              0.0                       0.0   \n",
              "4                                              0.0                       0.0   \n",
              "\n",
              "   marital_status_Married/Living together  \\\n",
              "0                                     0.0   \n",
              "1                                     1.0   \n",
              "2                                     0.0   \n",
              "3                                     0.0   \n",
              "4                                     0.0   \n",
              "\n",
              "   marital_status_Single/Never Married  marital_status_Widowed  \\\n",
              "0                                  1.0                     0.0   \n",
              "1                                  0.0                     0.0   \n",
              "2                                  1.0                     0.0   \n",
              "3                                  1.0                     0.0   \n",
              "4                                  1.0                     0.0   \n",
              "\n",
              "   gender_of_respondent_Male  country_Rwanda  country_Tanzania  country_Uganda  \n",
              "0                        0.0             0.0               1.0             0.0  \n",
              "1                        0.0             0.0               0.0             0.0  \n",
              "2                        1.0             0.0               0.0             0.0  \n",
              "3                        0.0             0.0               1.0             0.0  \n",
              "4                        1.0             0.0               0.0             0.0  \n",
              "\n",
              "[5 rows x 32 columns]"
            ],
            "text/html": [
              "\n",
              "  <div id=\"df-0ab3448f-1d31-41d0-8e69-d3008ddfe30d\">\n",
              "    <div class=\"colab-df-container\">\n",
              "      <div>\n",
              "<style scoped>\n",
              "    .dataframe tbody tr th:only-of-type {\n",
              "        vertical-align: middle;\n",
              "    }\n",
              "\n",
              "    .dataframe tbody tr th {\n",
              "        vertical-align: top;\n",
              "    }\n",
              "\n",
              "    .dataframe thead th {\n",
              "        text-align: right;\n",
              "    }\n",
              "</style>\n",
              "<table border=\"1\" class=\"dataframe\">\n",
              "  <thead>\n",
              "    <tr style=\"text-align: right;\">\n",
              "      <th></th>\n",
              "      <th>year</th>\n",
              "      <th>age_of_respondent</th>\n",
              "      <th>household_size</th>\n",
              "      <th>location_type_Urban</th>\n",
              "      <th>cellphone_access_Yes</th>\n",
              "      <th>relationship_with_head_Head of Household</th>\n",
              "      <th>relationship_with_head_Other non-relatives</th>\n",
              "      <th>relationship_with_head_Other relative</th>\n",
              "      <th>relationship_with_head_Parent</th>\n",
              "      <th>relationship_with_head_Spouse</th>\n",
              "      <th>...</th>\n",
              "      <th>education_level_Tertiary education</th>\n",
              "      <th>education_level_Vocational/Specialised training</th>\n",
              "      <th>marital_status_Dont know</th>\n",
              "      <th>marital_status_Married/Living together</th>\n",
              "      <th>marital_status_Single/Never Married</th>\n",
              "      <th>marital_status_Widowed</th>\n",
              "      <th>gender_of_respondent_Male</th>\n",
              "      <th>country_Rwanda</th>\n",
              "      <th>country_Tanzania</th>\n",
              "      <th>country_Uganda</th>\n",
              "    </tr>\n",
              "  </thead>\n",
              "  <tbody>\n",
              "    <tr>\n",
              "      <th>0</th>\n",
              "      <td>0.0</td>\n",
              "      <td>0.869565</td>\n",
              "      <td>0.333333</td>\n",
              "      <td>0.0</td>\n",
              "      <td>1.0</td>\n",
              "      <td>0.0</td>\n",
              "      <td>0.0</td>\n",
              "      <td>0.0</td>\n",
              "      <td>0.0</td>\n",
              "      <td>1.0</td>\n",
              "      <td>...</td>\n",
              "      <td>0.0</td>\n",
              "      <td>0.0</td>\n",
              "      <td>0.0</td>\n",
              "      <td>0.0</td>\n",
              "      <td>1.0</td>\n",
              "      <td>0.0</td>\n",
              "      <td>0.0</td>\n",
              "      <td>0.0</td>\n",
              "      <td>1.0</td>\n",
              "      <td>0.0</td>\n",
              "    </tr>\n",
              "    <tr>\n",
              "      <th>1</th>\n",
              "      <td>0.5</td>\n",
              "      <td>0.217391</td>\n",
              "      <td>-0.333333</td>\n",
              "      <td>1.0</td>\n",
              "      <td>1.0</td>\n",
              "      <td>1.0</td>\n",
              "      <td>0.0</td>\n",
              "      <td>0.0</td>\n",
              "      <td>0.0</td>\n",
              "      <td>0.0</td>\n",
              "      <td>...</td>\n",
              "      <td>0.0</td>\n",
              "      <td>0.0</td>\n",
              "      <td>0.0</td>\n",
              "      <td>1.0</td>\n",
              "      <td>0.0</td>\n",
              "      <td>0.0</td>\n",
              "      <td>0.0</td>\n",
              "      <td>0.0</td>\n",
              "      <td>0.0</td>\n",
              "      <td>0.0</td>\n",
              "    </tr>\n",
              "    <tr>\n",
              "      <th>2</th>\n",
              "      <td>0.5</td>\n",
              "      <td>-0.434783</td>\n",
              "      <td>0.333333</td>\n",
              "      <td>0.0</td>\n",
              "      <td>1.0</td>\n",
              "      <td>0.0</td>\n",
              "      <td>0.0</td>\n",
              "      <td>0.0</td>\n",
              "      <td>0.0</td>\n",
              "      <td>0.0</td>\n",
              "      <td>...</td>\n",
              "      <td>1.0</td>\n",
              "      <td>0.0</td>\n",
              "      <td>0.0</td>\n",
              "      <td>0.0</td>\n",
              "      <td>1.0</td>\n",
              "      <td>0.0</td>\n",
              "      <td>1.0</td>\n",
              "      <td>0.0</td>\n",
              "      <td>0.0</td>\n",
              "      <td>0.0</td>\n",
              "    </tr>\n",
              "    <tr>\n",
              "      <th>3</th>\n",
              "      <td>0.0</td>\n",
              "      <td>0.652174</td>\n",
              "      <td>0.000000</td>\n",
              "      <td>1.0</td>\n",
              "      <td>0.0</td>\n",
              "      <td>0.0</td>\n",
              "      <td>0.0</td>\n",
              "      <td>0.0</td>\n",
              "      <td>0.0</td>\n",
              "      <td>1.0</td>\n",
              "      <td>...</td>\n",
              "      <td>0.0</td>\n",
              "      <td>0.0</td>\n",
              "      <td>0.0</td>\n",
              "      <td>0.0</td>\n",
              "      <td>1.0</td>\n",
              "      <td>0.0</td>\n",
              "      <td>0.0</td>\n",
              "      <td>0.0</td>\n",
              "      <td>1.0</td>\n",
              "      <td>0.0</td>\n",
              "    </tr>\n",
              "    <tr>\n",
              "      <th>4</th>\n",
              "      <td>0.5</td>\n",
              "      <td>-0.565217</td>\n",
              "      <td>0.333333</td>\n",
              "      <td>1.0</td>\n",
              "      <td>1.0</td>\n",
              "      <td>0.0</td>\n",
              "      <td>0.0</td>\n",
              "      <td>0.0</td>\n",
              "      <td>0.0</td>\n",
              "      <td>0.0</td>\n",
              "      <td>...</td>\n",
              "      <td>0.0</td>\n",
              "      <td>0.0</td>\n",
              "      <td>0.0</td>\n",
              "      <td>0.0</td>\n",
              "      <td>1.0</td>\n",
              "      <td>0.0</td>\n",
              "      <td>1.0</td>\n",
              "      <td>0.0</td>\n",
              "      <td>0.0</td>\n",
              "      <td>0.0</td>\n",
              "    </tr>\n",
              "  </tbody>\n",
              "</table>\n",
              "<p>5 rows × 32 columns</p>\n",
              "</div>\n",
              "      <button class=\"colab-df-convert\" onclick=\"convertToInteractive('df-0ab3448f-1d31-41d0-8e69-d3008ddfe30d')\"\n",
              "              title=\"Convert this dataframe to an interactive table.\"\n",
              "              style=\"display:none;\">\n",
              "        \n",
              "  <svg xmlns=\"http://www.w3.org/2000/svg\" height=\"24px\"viewBox=\"0 0 24 24\"\n",
              "       width=\"24px\">\n",
              "    <path d=\"M0 0h24v24H0V0z\" fill=\"none\"/>\n",
              "    <path d=\"M18.56 5.44l.94 2.06.94-2.06 2.06-.94-2.06-.94-.94-2.06-.94 2.06-2.06.94zm-11 1L8.5 8.5l.94-2.06 2.06-.94-2.06-.94L8.5 2.5l-.94 2.06-2.06.94zm10 10l.94 2.06.94-2.06 2.06-.94-2.06-.94-.94-2.06-.94 2.06-2.06.94z\"/><path d=\"M17.41 7.96l-1.37-1.37c-.4-.4-.92-.59-1.43-.59-.52 0-1.04.2-1.43.59L10.3 9.45l-7.72 7.72c-.78.78-.78 2.05 0 2.83L4 21.41c.39.39.9.59 1.41.59.51 0 1.02-.2 1.41-.59l7.78-7.78 2.81-2.81c.8-.78.8-2.07 0-2.86zM5.41 20L4 18.59l7.72-7.72 1.47 1.35L5.41 20z\"/>\n",
              "  </svg>\n",
              "      </button>\n",
              "      \n",
              "  <style>\n",
              "    .colab-df-container {\n",
              "      display:flex;\n",
              "      flex-wrap:wrap;\n",
              "      gap: 12px;\n",
              "    }\n",
              "\n",
              "    .colab-df-convert {\n",
              "      background-color: #E8F0FE;\n",
              "      border: none;\n",
              "      border-radius: 50%;\n",
              "      cursor: pointer;\n",
              "      display: none;\n",
              "      fill: #1967D2;\n",
              "      height: 32px;\n",
              "      padding: 0 0 0 0;\n",
              "      width: 32px;\n",
              "    }\n",
              "\n",
              "    .colab-df-convert:hover {\n",
              "      background-color: #E2EBFA;\n",
              "      box-shadow: 0px 1px 2px rgba(60, 64, 67, 0.3), 0px 1px 3px 1px rgba(60, 64, 67, 0.15);\n",
              "      fill: #174EA6;\n",
              "    }\n",
              "\n",
              "    [theme=dark] .colab-df-convert {\n",
              "      background-color: #3B4455;\n",
              "      fill: #D2E3FC;\n",
              "    }\n",
              "\n",
              "    [theme=dark] .colab-df-convert:hover {\n",
              "      background-color: #434B5C;\n",
              "      box-shadow: 0px 1px 3px 1px rgba(0, 0, 0, 0.15);\n",
              "      filter: drop-shadow(0px 1px 2px rgba(0, 0, 0, 0.3));\n",
              "      fill: #FFFFFF;\n",
              "    }\n",
              "  </style>\n",
              "\n",
              "      <script>\n",
              "        const buttonEl =\n",
              "          document.querySelector('#df-0ab3448f-1d31-41d0-8e69-d3008ddfe30d button.colab-df-convert');\n",
              "        buttonEl.style.display =\n",
              "          google.colab.kernel.accessAllowed ? 'block' : 'none';\n",
              "\n",
              "        async function convertToInteractive(key) {\n",
              "          const element = document.querySelector('#df-0ab3448f-1d31-41d0-8e69-d3008ddfe30d');\n",
              "          const dataTable =\n",
              "            await google.colab.kernel.invokeFunction('convertToInteractive',\n",
              "                                                     [key], {});\n",
              "          if (!dataTable) return;\n",
              "\n",
              "          const docLinkHtml = 'Like what you see? Visit the ' +\n",
              "            '<a target=\"_blank\" href=https://colab.research.google.com/notebooks/data_table.ipynb>data table notebook</a>'\n",
              "            + ' to learn more about interactive tables.';\n",
              "          element.innerHTML = '';\n",
              "          dataTable['output_type'] = 'display_data';\n",
              "          await google.colab.output.renderOutput(dataTable, element);\n",
              "          const docLink = document.createElement('div');\n",
              "          docLink.innerHTML = docLinkHtml;\n",
              "          element.appendChild(docLink);\n",
              "        }\n",
              "      </script>\n",
              "    </div>\n",
              "  </div>\n",
              "  "
            ]
          },
          "metadata": {},
          "execution_count": 176
        }
      ]
    },
    {
      "cell_type": "code",
      "source": [
        "X_eval_ready.head()"
      ],
      "metadata": {
        "colab": {
          "base_uri": "https://localhost:8080/",
          "height": 317
        },
        "id": "6UT1cQQXIAiy",
        "outputId": "edb12f6c-5acd-412e-f0ac-fa4d815787a6"
      },
      "execution_count": null,
      "outputs": [
        {
          "output_type": "execute_result",
          "data": {
            "text/plain": [
              "   year  age_of_respondent  household_size  location_type_Urban  \\\n",
              "0  -0.5          -0.086957        0.333333                  0.0   \n",
              "1  -0.5           0.521739        0.666667                  0.0   \n",
              "2   0.0          -0.565217       -0.333333                  0.0   \n",
              "3   0.5           1.652174       -0.333333                  0.0   \n",
              "4   0.5          -0.434783        0.000000                  0.0   \n",
              "\n",
              "   cellphone_access_Yes  relationship_with_head_Head of Household  \\\n",
              "0                   1.0                                       1.0   \n",
              "1                   1.0                                       1.0   \n",
              "2                   1.0                                       0.0   \n",
              "3                   1.0                                       0.0   \n",
              "4                   0.0                                       0.0   \n",
              "\n",
              "   relationship_with_head_Other non-relatives  \\\n",
              "0                                         0.0   \n",
              "1                                         0.0   \n",
              "2                                         0.0   \n",
              "3                                         0.0   \n",
              "4                                         0.0   \n",
              "\n",
              "   relationship_with_head_Other relative  relationship_with_head_Parent  \\\n",
              "0                                    0.0                            0.0   \n",
              "1                                    0.0                            0.0   \n",
              "2                                    1.0                            0.0   \n",
              "3                                    0.0                            0.0   \n",
              "4                                    0.0                            0.0   \n",
              "\n",
              "   relationship_with_head_Spouse  ...  education_level_Tertiary education  \\\n",
              "0                            0.0  ...                                 0.0   \n",
              "1                            0.0  ...                                 0.0   \n",
              "2                            0.0  ...                                 1.0   \n",
              "3                            1.0  ...                                 0.0   \n",
              "4                            1.0  ...                                 0.0   \n",
              "\n",
              "   education_level_Vocational/Specialised training  marital_status_Dont know  \\\n",
              "0                                              0.0                       0.0   \n",
              "1                                              0.0                       0.0   \n",
              "2                                              0.0                       0.0   \n",
              "3                                              1.0                       0.0   \n",
              "4                                              0.0                       0.0   \n",
              "\n",
              "   marital_status_Married/Living together  \\\n",
              "0                                     1.0   \n",
              "1                                     1.0   \n",
              "2                                     0.0   \n",
              "3                                     1.0   \n",
              "4                                     1.0   \n",
              "\n",
              "   marital_status_Single/Never Married  marital_status_Widowed  \\\n",
              "0                                  0.0                     0.0   \n",
              "1                                  0.0                     0.0   \n",
              "2                                  0.0                     0.0   \n",
              "3                                  0.0                     0.0   \n",
              "4                                  0.0                     0.0   \n",
              "\n",
              "   gender_of_respondent_Male  country_Rwanda  country_Tanzania  country_Uganda  \n",
              "0                        1.0             1.0               0.0             0.0  \n",
              "1                        1.0             1.0               0.0             0.0  \n",
              "2                        1.0             0.0               1.0             0.0  \n",
              "3                        0.0             0.0               0.0             0.0  \n",
              "4                        0.0             0.0               0.0             1.0  \n",
              "\n",
              "[5 rows x 32 columns]"
            ],
            "text/html": [
              "\n",
              "  <div id=\"df-de716ad8-976e-4cd6-93ea-fcbed91a9b7a\">\n",
              "    <div class=\"colab-df-container\">\n",
              "      <div>\n",
              "<style scoped>\n",
              "    .dataframe tbody tr th:only-of-type {\n",
              "        vertical-align: middle;\n",
              "    }\n",
              "\n",
              "    .dataframe tbody tr th {\n",
              "        vertical-align: top;\n",
              "    }\n",
              "\n",
              "    .dataframe thead th {\n",
              "        text-align: right;\n",
              "    }\n",
              "</style>\n",
              "<table border=\"1\" class=\"dataframe\">\n",
              "  <thead>\n",
              "    <tr style=\"text-align: right;\">\n",
              "      <th></th>\n",
              "      <th>year</th>\n",
              "      <th>age_of_respondent</th>\n",
              "      <th>household_size</th>\n",
              "      <th>location_type_Urban</th>\n",
              "      <th>cellphone_access_Yes</th>\n",
              "      <th>relationship_with_head_Head of Household</th>\n",
              "      <th>relationship_with_head_Other non-relatives</th>\n",
              "      <th>relationship_with_head_Other relative</th>\n",
              "      <th>relationship_with_head_Parent</th>\n",
              "      <th>relationship_with_head_Spouse</th>\n",
              "      <th>...</th>\n",
              "      <th>education_level_Tertiary education</th>\n",
              "      <th>education_level_Vocational/Specialised training</th>\n",
              "      <th>marital_status_Dont know</th>\n",
              "      <th>marital_status_Married/Living together</th>\n",
              "      <th>marital_status_Single/Never Married</th>\n",
              "      <th>marital_status_Widowed</th>\n",
              "      <th>gender_of_respondent_Male</th>\n",
              "      <th>country_Rwanda</th>\n",
              "      <th>country_Tanzania</th>\n",
              "      <th>country_Uganda</th>\n",
              "    </tr>\n",
              "  </thead>\n",
              "  <tbody>\n",
              "    <tr>\n",
              "      <th>0</th>\n",
              "      <td>-0.5</td>\n",
              "      <td>-0.086957</td>\n",
              "      <td>0.333333</td>\n",
              "      <td>0.0</td>\n",
              "      <td>1.0</td>\n",
              "      <td>1.0</td>\n",
              "      <td>0.0</td>\n",
              "      <td>0.0</td>\n",
              "      <td>0.0</td>\n",
              "      <td>0.0</td>\n",
              "      <td>...</td>\n",
              "      <td>0.0</td>\n",
              "      <td>0.0</td>\n",
              "      <td>0.0</td>\n",
              "      <td>1.0</td>\n",
              "      <td>0.0</td>\n",
              "      <td>0.0</td>\n",
              "      <td>1.0</td>\n",
              "      <td>1.0</td>\n",
              "      <td>0.0</td>\n",
              "      <td>0.0</td>\n",
              "    </tr>\n",
              "    <tr>\n",
              "      <th>1</th>\n",
              "      <td>-0.5</td>\n",
              "      <td>0.521739</td>\n",
              "      <td>0.666667</td>\n",
              "      <td>0.0</td>\n",
              "      <td>1.0</td>\n",
              "      <td>1.0</td>\n",
              "      <td>0.0</td>\n",
              "      <td>0.0</td>\n",
              "      <td>0.0</td>\n",
              "      <td>0.0</td>\n",
              "      <td>...</td>\n",
              "      <td>0.0</td>\n",
              "      <td>0.0</td>\n",
              "      <td>0.0</td>\n",
              "      <td>1.0</td>\n",
              "      <td>0.0</td>\n",
              "      <td>0.0</td>\n",
              "      <td>1.0</td>\n",
              "      <td>1.0</td>\n",
              "      <td>0.0</td>\n",
              "      <td>0.0</td>\n",
              "    </tr>\n",
              "    <tr>\n",
              "      <th>2</th>\n",
              "      <td>0.0</td>\n",
              "      <td>-0.565217</td>\n",
              "      <td>-0.333333</td>\n",
              "      <td>0.0</td>\n",
              "      <td>1.0</td>\n",
              "      <td>0.0</td>\n",
              "      <td>0.0</td>\n",
              "      <td>1.0</td>\n",
              "      <td>0.0</td>\n",
              "      <td>0.0</td>\n",
              "      <td>...</td>\n",
              "      <td>1.0</td>\n",
              "      <td>0.0</td>\n",
              "      <td>0.0</td>\n",
              "      <td>0.0</td>\n",
              "      <td>0.0</td>\n",
              "      <td>0.0</td>\n",
              "      <td>1.0</td>\n",
              "      <td>0.0</td>\n",
              "      <td>1.0</td>\n",
              "      <td>0.0</td>\n",
              "    </tr>\n",
              "    <tr>\n",
              "      <th>3</th>\n",
              "      <td>0.5</td>\n",
              "      <td>1.652174</td>\n",
              "      <td>-0.333333</td>\n",
              "      <td>0.0</td>\n",
              "      <td>1.0</td>\n",
              "      <td>0.0</td>\n",
              "      <td>0.0</td>\n",
              "      <td>0.0</td>\n",
              "      <td>0.0</td>\n",
              "      <td>1.0</td>\n",
              "      <td>...</td>\n",
              "      <td>0.0</td>\n",
              "      <td>1.0</td>\n",
              "      <td>0.0</td>\n",
              "      <td>1.0</td>\n",
              "      <td>0.0</td>\n",
              "      <td>0.0</td>\n",
              "      <td>0.0</td>\n",
              "      <td>0.0</td>\n",
              "      <td>0.0</td>\n",
              "      <td>0.0</td>\n",
              "    </tr>\n",
              "    <tr>\n",
              "      <th>4</th>\n",
              "      <td>0.5</td>\n",
              "      <td>-0.434783</td>\n",
              "      <td>0.000000</td>\n",
              "      <td>0.0</td>\n",
              "      <td>0.0</td>\n",
              "      <td>0.0</td>\n",
              "      <td>0.0</td>\n",
              "      <td>0.0</td>\n",
              "      <td>0.0</td>\n",
              "      <td>1.0</td>\n",
              "      <td>...</td>\n",
              "      <td>0.0</td>\n",
              "      <td>0.0</td>\n",
              "      <td>0.0</td>\n",
              "      <td>1.0</td>\n",
              "      <td>0.0</td>\n",
              "      <td>0.0</td>\n",
              "      <td>0.0</td>\n",
              "      <td>0.0</td>\n",
              "      <td>0.0</td>\n",
              "      <td>1.0</td>\n",
              "    </tr>\n",
              "  </tbody>\n",
              "</table>\n",
              "<p>5 rows × 32 columns</p>\n",
              "</div>\n",
              "      <button class=\"colab-df-convert\" onclick=\"convertToInteractive('df-de716ad8-976e-4cd6-93ea-fcbed91a9b7a')\"\n",
              "              title=\"Convert this dataframe to an interactive table.\"\n",
              "              style=\"display:none;\">\n",
              "        \n",
              "  <svg xmlns=\"http://www.w3.org/2000/svg\" height=\"24px\"viewBox=\"0 0 24 24\"\n",
              "       width=\"24px\">\n",
              "    <path d=\"M0 0h24v24H0V0z\" fill=\"none\"/>\n",
              "    <path d=\"M18.56 5.44l.94 2.06.94-2.06 2.06-.94-2.06-.94-.94-2.06-.94 2.06-2.06.94zm-11 1L8.5 8.5l.94-2.06 2.06-.94-2.06-.94L8.5 2.5l-.94 2.06-2.06.94zm10 10l.94 2.06.94-2.06 2.06-.94-2.06-.94-.94-2.06-.94 2.06-2.06.94z\"/><path d=\"M17.41 7.96l-1.37-1.37c-.4-.4-.92-.59-1.43-.59-.52 0-1.04.2-1.43.59L10.3 9.45l-7.72 7.72c-.78.78-.78 2.05 0 2.83L4 21.41c.39.39.9.59 1.41.59.51 0 1.02-.2 1.41-.59l7.78-7.78 2.81-2.81c.8-.78.8-2.07 0-2.86zM5.41 20L4 18.59l7.72-7.72 1.47 1.35L5.41 20z\"/>\n",
              "  </svg>\n",
              "      </button>\n",
              "      \n",
              "  <style>\n",
              "    .colab-df-container {\n",
              "      display:flex;\n",
              "      flex-wrap:wrap;\n",
              "      gap: 12px;\n",
              "    }\n",
              "\n",
              "    .colab-df-convert {\n",
              "      background-color: #E8F0FE;\n",
              "      border: none;\n",
              "      border-radius: 50%;\n",
              "      cursor: pointer;\n",
              "      display: none;\n",
              "      fill: #1967D2;\n",
              "      height: 32px;\n",
              "      padding: 0 0 0 0;\n",
              "      width: 32px;\n",
              "    }\n",
              "\n",
              "    .colab-df-convert:hover {\n",
              "      background-color: #E2EBFA;\n",
              "      box-shadow: 0px 1px 2px rgba(60, 64, 67, 0.3), 0px 1px 3px 1px rgba(60, 64, 67, 0.15);\n",
              "      fill: #174EA6;\n",
              "    }\n",
              "\n",
              "    [theme=dark] .colab-df-convert {\n",
              "      background-color: #3B4455;\n",
              "      fill: #D2E3FC;\n",
              "    }\n",
              "\n",
              "    [theme=dark] .colab-df-convert:hover {\n",
              "      background-color: #434B5C;\n",
              "      box-shadow: 0px 1px 3px 1px rgba(0, 0, 0, 0.15);\n",
              "      filter: drop-shadow(0px 1px 2px rgba(0, 0, 0, 0.3));\n",
              "      fill: #FFFFFF;\n",
              "    }\n",
              "  </style>\n",
              "\n",
              "      <script>\n",
              "        const buttonEl =\n",
              "          document.querySelector('#df-de716ad8-976e-4cd6-93ea-fcbed91a9b7a button.colab-df-convert');\n",
              "        buttonEl.style.display =\n",
              "          google.colab.kernel.accessAllowed ? 'block' : 'none';\n",
              "\n",
              "        async function convertToInteractive(key) {\n",
              "          const element = document.querySelector('#df-de716ad8-976e-4cd6-93ea-fcbed91a9b7a');\n",
              "          const dataTable =\n",
              "            await google.colab.kernel.invokeFunction('convertToInteractive',\n",
              "                                                     [key], {});\n",
              "          if (!dataTable) return;\n",
              "\n",
              "          const docLinkHtml = 'Like what you see? Visit the ' +\n",
              "            '<a target=\"_blank\" href=https://colab.research.google.com/notebooks/data_table.ipynb>data table notebook</a>'\n",
              "            + ' to learn more about interactive tables.';\n",
              "          element.innerHTML = '';\n",
              "          dataTable['output_type'] = 'display_data';\n",
              "          await google.colab.output.renderOutput(dataTable, element);\n",
              "          const docLink = document.createElement('div');\n",
              "          docLink.innerHTML = docLinkHtml;\n",
              "          element.appendChild(docLink);\n",
              "        }\n",
              "      </script>\n",
              "    </div>\n",
              "  </div>\n",
              "  "
            ]
          },
          "metadata": {},
          "execution_count": 177
        }
      ]
    },
    {
      "cell_type": "code",
      "source": [
        "X_test.head()"
      ],
      "metadata": {
        "colab": {
          "base_uri": "https://localhost:8080/",
          "height": 391
        },
        "id": "q0NDUXnGLJJ2",
        "outputId": "68fc6943-166e-4393-d127-1ad1ac97b18d"
      },
      "execution_count": null,
      "outputs": [
        {
          "output_type": "execute_result",
          "data": {
            "text/plain": [
              "   year  age_of_respondent  household_size location_type cellphone_access  \\\n",
              "0  2018                 30               3         Urban              Yes   \n",
              "1  2018                 51               7         Urban              Yes   \n",
              "2  2018                 77               3         Rural               No   \n",
              "3  2018                 39               6         Rural               No   \n",
              "4  2018                 16               3         Urban               No   \n",
              "\n",
              "  relationship_with_head                      job_type  \\\n",
              "0      Head of Household  Formally employed Government   \n",
              "1      Head of Household     Formally employed Private   \n",
              "2                 Parent          Remittance Dependent   \n",
              "3      Head of Household          Remittance Dependent   \n",
              "4                  Child          Remittance Dependent   \n",
              "\n",
              "                   education_level           marital_status  \\\n",
              "0              Secondary education  Married/Living together   \n",
              "1  Vocational/Specialised training  Married/Living together   \n",
              "2              No formal education  Married/Living together   \n",
              "3                Primary education  Married/Living together   \n",
              "4              Secondary education     Single/Never Married   \n",
              "\n",
              "  gender_of_respondent country  \n",
              "0                 Male   Kenya  \n",
              "1                 Male   Kenya  \n",
              "2               Female   Kenya  \n",
              "3               Female   Kenya  \n",
              "4                 Male   Kenya  "
            ],
            "text/html": [
              "\n",
              "  <div id=\"df-b7e838b5-7d37-423c-9b89-34b866550bd7\">\n",
              "    <div class=\"colab-df-container\">\n",
              "      <div>\n",
              "<style scoped>\n",
              "    .dataframe tbody tr th:only-of-type {\n",
              "        vertical-align: middle;\n",
              "    }\n",
              "\n",
              "    .dataframe tbody tr th {\n",
              "        vertical-align: top;\n",
              "    }\n",
              "\n",
              "    .dataframe thead th {\n",
              "        text-align: right;\n",
              "    }\n",
              "</style>\n",
              "<table border=\"1\" class=\"dataframe\">\n",
              "  <thead>\n",
              "    <tr style=\"text-align: right;\">\n",
              "      <th></th>\n",
              "      <th>year</th>\n",
              "      <th>age_of_respondent</th>\n",
              "      <th>household_size</th>\n",
              "      <th>location_type</th>\n",
              "      <th>cellphone_access</th>\n",
              "      <th>relationship_with_head</th>\n",
              "      <th>job_type</th>\n",
              "      <th>education_level</th>\n",
              "      <th>marital_status</th>\n",
              "      <th>gender_of_respondent</th>\n",
              "      <th>country</th>\n",
              "    </tr>\n",
              "  </thead>\n",
              "  <tbody>\n",
              "    <tr>\n",
              "      <th>0</th>\n",
              "      <td>2018</td>\n",
              "      <td>30</td>\n",
              "      <td>3</td>\n",
              "      <td>Urban</td>\n",
              "      <td>Yes</td>\n",
              "      <td>Head of Household</td>\n",
              "      <td>Formally employed Government</td>\n",
              "      <td>Secondary education</td>\n",
              "      <td>Married/Living together</td>\n",
              "      <td>Male</td>\n",
              "      <td>Kenya</td>\n",
              "    </tr>\n",
              "    <tr>\n",
              "      <th>1</th>\n",
              "      <td>2018</td>\n",
              "      <td>51</td>\n",
              "      <td>7</td>\n",
              "      <td>Urban</td>\n",
              "      <td>Yes</td>\n",
              "      <td>Head of Household</td>\n",
              "      <td>Formally employed Private</td>\n",
              "      <td>Vocational/Specialised training</td>\n",
              "      <td>Married/Living together</td>\n",
              "      <td>Male</td>\n",
              "      <td>Kenya</td>\n",
              "    </tr>\n",
              "    <tr>\n",
              "      <th>2</th>\n",
              "      <td>2018</td>\n",
              "      <td>77</td>\n",
              "      <td>3</td>\n",
              "      <td>Rural</td>\n",
              "      <td>No</td>\n",
              "      <td>Parent</td>\n",
              "      <td>Remittance Dependent</td>\n",
              "      <td>No formal education</td>\n",
              "      <td>Married/Living together</td>\n",
              "      <td>Female</td>\n",
              "      <td>Kenya</td>\n",
              "    </tr>\n",
              "    <tr>\n",
              "      <th>3</th>\n",
              "      <td>2018</td>\n",
              "      <td>39</td>\n",
              "      <td>6</td>\n",
              "      <td>Rural</td>\n",
              "      <td>No</td>\n",
              "      <td>Head of Household</td>\n",
              "      <td>Remittance Dependent</td>\n",
              "      <td>Primary education</td>\n",
              "      <td>Married/Living together</td>\n",
              "      <td>Female</td>\n",
              "      <td>Kenya</td>\n",
              "    </tr>\n",
              "    <tr>\n",
              "      <th>4</th>\n",
              "      <td>2018</td>\n",
              "      <td>16</td>\n",
              "      <td>3</td>\n",
              "      <td>Urban</td>\n",
              "      <td>No</td>\n",
              "      <td>Child</td>\n",
              "      <td>Remittance Dependent</td>\n",
              "      <td>Secondary education</td>\n",
              "      <td>Single/Never Married</td>\n",
              "      <td>Male</td>\n",
              "      <td>Kenya</td>\n",
              "    </tr>\n",
              "  </tbody>\n",
              "</table>\n",
              "</div>\n",
              "      <button class=\"colab-df-convert\" onclick=\"convertToInteractive('df-b7e838b5-7d37-423c-9b89-34b866550bd7')\"\n",
              "              title=\"Convert this dataframe to an interactive table.\"\n",
              "              style=\"display:none;\">\n",
              "        \n",
              "  <svg xmlns=\"http://www.w3.org/2000/svg\" height=\"24px\"viewBox=\"0 0 24 24\"\n",
              "       width=\"24px\">\n",
              "    <path d=\"M0 0h24v24H0V0z\" fill=\"none\"/>\n",
              "    <path d=\"M18.56 5.44l.94 2.06.94-2.06 2.06-.94-2.06-.94-.94-2.06-.94 2.06-2.06.94zm-11 1L8.5 8.5l.94-2.06 2.06-.94-2.06-.94L8.5 2.5l-.94 2.06-2.06.94zm10 10l.94 2.06.94-2.06 2.06-.94-2.06-.94-.94-2.06-.94 2.06-2.06.94z\"/><path d=\"M17.41 7.96l-1.37-1.37c-.4-.4-.92-.59-1.43-.59-.52 0-1.04.2-1.43.59L10.3 9.45l-7.72 7.72c-.78.78-.78 2.05 0 2.83L4 21.41c.39.39.9.59 1.41.59.51 0 1.02-.2 1.41-.59l7.78-7.78 2.81-2.81c.8-.78.8-2.07 0-2.86zM5.41 20L4 18.59l7.72-7.72 1.47 1.35L5.41 20z\"/>\n",
              "  </svg>\n",
              "      </button>\n",
              "      \n",
              "  <style>\n",
              "    .colab-df-container {\n",
              "      display:flex;\n",
              "      flex-wrap:wrap;\n",
              "      gap: 12px;\n",
              "    }\n",
              "\n",
              "    .colab-df-convert {\n",
              "      background-color: #E8F0FE;\n",
              "      border: none;\n",
              "      border-radius: 50%;\n",
              "      cursor: pointer;\n",
              "      display: none;\n",
              "      fill: #1967D2;\n",
              "      height: 32px;\n",
              "      padding: 0 0 0 0;\n",
              "      width: 32px;\n",
              "    }\n",
              "\n",
              "    .colab-df-convert:hover {\n",
              "      background-color: #E2EBFA;\n",
              "      box-shadow: 0px 1px 2px rgba(60, 64, 67, 0.3), 0px 1px 3px 1px rgba(60, 64, 67, 0.15);\n",
              "      fill: #174EA6;\n",
              "    }\n",
              "\n",
              "    [theme=dark] .colab-df-convert {\n",
              "      background-color: #3B4455;\n",
              "      fill: #D2E3FC;\n",
              "    }\n",
              "\n",
              "    [theme=dark] .colab-df-convert:hover {\n",
              "      background-color: #434B5C;\n",
              "      box-shadow: 0px 1px 3px 1px rgba(0, 0, 0, 0.15);\n",
              "      filter: drop-shadow(0px 1px 2px rgba(0, 0, 0, 0.3));\n",
              "      fill: #FFFFFF;\n",
              "    }\n",
              "  </style>\n",
              "\n",
              "      <script>\n",
              "        const buttonEl =\n",
              "          document.querySelector('#df-b7e838b5-7d37-423c-9b89-34b866550bd7 button.colab-df-convert');\n",
              "        buttonEl.style.display =\n",
              "          google.colab.kernel.accessAllowed ? 'block' : 'none';\n",
              "\n",
              "        async function convertToInteractive(key) {\n",
              "          const element = document.querySelector('#df-b7e838b5-7d37-423c-9b89-34b866550bd7');\n",
              "          const dataTable =\n",
              "            await google.colab.kernel.invokeFunction('convertToInteractive',\n",
              "                                                     [key], {});\n",
              "          if (!dataTable) return;\n",
              "\n",
              "          const docLinkHtml = 'Like what you see? Visit the ' +\n",
              "            '<a target=\"_blank\" href=https://colab.research.google.com/notebooks/data_table.ipynb>data table notebook</a>'\n",
              "            + ' to learn more about interactive tables.';\n",
              "          element.innerHTML = '';\n",
              "          dataTable['output_type'] = 'display_data';\n",
              "          await google.colab.output.renderOutput(dataTable, element);\n",
              "          const docLink = document.createElement('div');\n",
              "          docLink.innerHTML = docLinkHtml;\n",
              "          element.appendChild(docLink);\n",
              "        }\n",
              "      </script>\n",
              "    </div>\n",
              "  </div>\n",
              "  "
            ]
          },
          "metadata": {},
          "execution_count": 178
        }
      ]
    },
    {
      "cell_type": "code",
      "source": [],
      "metadata": {
        "id": "YZUsItEDIF8G"
      },
      "execution_count": null,
      "outputs": []
    },
    {
      "cell_type": "code",
      "source": [
        "# feature pipelines\n",
        "num_pipe = Pipeline( steps=[(\"num_imputer\", num_imputer), (\"scaler\", scaler)])\n",
        "cat_pipe = Pipeline( steps=[(\"cat_imputer\", cat_imputer), (\"encoder\", encoder)])\n",
        "\n",
        "# end2end features preprocessor\n",
        "preprocessor = ColumnTransformer(\n",
        "    (\n",
        "        (\"numerical\", num_pipe, num_cols),\n",
        "        (\"categorical\", cat_pipe, cat_cols,),\n",
        "    ),\n",
        "    # verbose_feature_names_out=False,\n",
        ")\n",
        "preprocessor.set_output(transform=\"pandas\")\n",
        "\n",
        "# end2end pipeline\n",
        "clf = Pipeline([('preprocessor', preprocessor), ('classifier', KNeighborsClassifier())])\n",
        "clf.set_output(transform=\"pandas\")"
      ],
      "metadata": {
        "colab": {
          "base_uri": "https://localhost:8080/",
          "height": 225
        },
        "id": "ZkKY-29TF7eK",
        "outputId": "c045755d-3ad6-4ee8-9778-ee35a2fb0222"
      },
      "execution_count": null,
      "outputs": [
        {
          "output_type": "execute_result",
          "data": {
            "text/plain": [
              "Pipeline(steps=[('preprocessor',\n",
              "                 ColumnTransformer(transformers=(('numerical',\n",
              "                                                  Pipeline(steps=[('num_imputer',\n",
              "                                                                   SimpleImputer()),\n",
              "                                                                  ('scaler',\n",
              "                                                                   RobustScaler())]),\n",
              "                                                  ['year', 'age_of_respondent',\n",
              "                                                   'household_size']),\n",
              "                                                 ('categorical',\n",
              "                                                  Pipeline(steps=[('cat_imputer',\n",
              "                                                                   SimpleImputer(strategy='most_frequent')),\n",
              "                                                                  ('encoder',\n",
              "                                                                   OneHotEncoder(categories=[array(['Rural', 'Urban'], dt...\n",
              "       'Single/Never Married', 'Widowed'], dtype=object),\n",
              "                                                                                             array(['Female', 'Male'], dtype=object),\n",
              "                                                                                             array(['Kenya', 'Rwanda', 'Tanzania', 'Uganda'], dtype=object)],\n",
              "                                                                                 drop='first',\n",
              "                                                                                 handle_unknown='ignore',\n",
              "                                                                                 sparse_output=False))]),\n",
              "                                                  ['location_type',\n",
              "                                                   'cellphone_access',\n",
              "                                                   'relationship_with_head',\n",
              "                                                   'job_type',\n",
              "                                                   'education_level',\n",
              "                                                   'marital_status',\n",
              "                                                   'gender_of_respondent',\n",
              "                                                   'country'])))),\n",
              "                ('classifier', KNeighborsClassifier())])"
            ],
            "text/html": [
              "<style>#sk-container-id-6 {color: black;background-color: white;}#sk-container-id-6 pre{padding: 0;}#sk-container-id-6 div.sk-toggleable {background-color: white;}#sk-container-id-6 label.sk-toggleable__label {cursor: pointer;display: block;width: 100%;margin-bottom: 0;padding: 0.3em;box-sizing: border-box;text-align: center;}#sk-container-id-6 label.sk-toggleable__label-arrow:before {content: \"▸\";float: left;margin-right: 0.25em;color: #696969;}#sk-container-id-6 label.sk-toggleable__label-arrow:hover:before {color: black;}#sk-container-id-6 div.sk-estimator:hover label.sk-toggleable__label-arrow:before {color: black;}#sk-container-id-6 div.sk-toggleable__content {max-height: 0;max-width: 0;overflow: hidden;text-align: left;background-color: #f0f8ff;}#sk-container-id-6 div.sk-toggleable__content pre {margin: 0.2em;color: black;border-radius: 0.25em;background-color: #f0f8ff;}#sk-container-id-6 input.sk-toggleable__control:checked~div.sk-toggleable__content {max-height: 200px;max-width: 100%;overflow: auto;}#sk-container-id-6 input.sk-toggleable__control:checked~label.sk-toggleable__label-arrow:before {content: \"▾\";}#sk-container-id-6 div.sk-estimator input.sk-toggleable__control:checked~label.sk-toggleable__label {background-color: #d4ebff;}#sk-container-id-6 div.sk-label input.sk-toggleable__control:checked~label.sk-toggleable__label {background-color: #d4ebff;}#sk-container-id-6 input.sk-hidden--visually {border: 0;clip: rect(1px 1px 1px 1px);clip: rect(1px, 1px, 1px, 1px);height: 1px;margin: -1px;overflow: hidden;padding: 0;position: absolute;width: 1px;}#sk-container-id-6 div.sk-estimator {font-family: monospace;background-color: #f0f8ff;border: 1px dotted black;border-radius: 0.25em;box-sizing: border-box;margin-bottom: 0.5em;}#sk-container-id-6 div.sk-estimator:hover {background-color: #d4ebff;}#sk-container-id-6 div.sk-parallel-item::after {content: \"\";width: 100%;border-bottom: 1px solid gray;flex-grow: 1;}#sk-container-id-6 div.sk-label:hover label.sk-toggleable__label {background-color: #d4ebff;}#sk-container-id-6 div.sk-serial::before {content: \"\";position: absolute;border-left: 1px solid gray;box-sizing: border-box;top: 0;bottom: 0;left: 50%;z-index: 0;}#sk-container-id-6 div.sk-serial {display: flex;flex-direction: column;align-items: center;background-color: white;padding-right: 0.2em;padding-left: 0.2em;position: relative;}#sk-container-id-6 div.sk-item {position: relative;z-index: 1;}#sk-container-id-6 div.sk-parallel {display: flex;align-items: stretch;justify-content: center;background-color: white;position: relative;}#sk-container-id-6 div.sk-item::before, #sk-container-id-6 div.sk-parallel-item::before {content: \"\";position: absolute;border-left: 1px solid gray;box-sizing: border-box;top: 0;bottom: 0;left: 50%;z-index: -1;}#sk-container-id-6 div.sk-parallel-item {display: flex;flex-direction: column;z-index: 1;position: relative;background-color: white;}#sk-container-id-6 div.sk-parallel-item:first-child::after {align-self: flex-end;width: 50%;}#sk-container-id-6 div.sk-parallel-item:last-child::after {align-self: flex-start;width: 50%;}#sk-container-id-6 div.sk-parallel-item:only-child::after {width: 0;}#sk-container-id-6 div.sk-dashed-wrapped {border: 1px dashed gray;margin: 0 0.4em 0.5em 0.4em;box-sizing: border-box;padding-bottom: 0.4em;background-color: white;}#sk-container-id-6 div.sk-label label {font-family: monospace;font-weight: bold;display: inline-block;line-height: 1.2em;}#sk-container-id-6 div.sk-label-container {text-align: center;}#sk-container-id-6 div.sk-container {/* jupyter's `normalize.less` sets `[hidden] { display: none; }` but bootstrap.min.css set `[hidden] { display: none !important; }` so we also need the `!important` here to be able to override the default hidden behavior on the sphinx rendered scikit-learn.org. See: https://github.com/scikit-learn/scikit-learn/issues/21755 */display: inline-block !important;position: relative;}#sk-container-id-6 div.sk-text-repr-fallback {display: none;}</style><div id=\"sk-container-id-6\" class=\"sk-top-container\"><div class=\"sk-text-repr-fallback\"><pre>Pipeline(steps=[(&#x27;preprocessor&#x27;,\n",
              "                 ColumnTransformer(transformers=((&#x27;numerical&#x27;,\n",
              "                                                  Pipeline(steps=[(&#x27;num_imputer&#x27;,\n",
              "                                                                   SimpleImputer()),\n",
              "                                                                  (&#x27;scaler&#x27;,\n",
              "                                                                   RobustScaler())]),\n",
              "                                                  [&#x27;year&#x27;, &#x27;age_of_respondent&#x27;,\n",
              "                                                   &#x27;household_size&#x27;]),\n",
              "                                                 (&#x27;categorical&#x27;,\n",
              "                                                  Pipeline(steps=[(&#x27;cat_imputer&#x27;,\n",
              "                                                                   SimpleImputer(strategy=&#x27;most_frequent&#x27;)),\n",
              "                                                                  (&#x27;encoder&#x27;,\n",
              "                                                                   OneHotEncoder(categories=[array([&#x27;Rural&#x27;, &#x27;Urban&#x27;], dt...\n",
              "       &#x27;Single/Never Married&#x27;, &#x27;Widowed&#x27;], dtype=object),\n",
              "                                                                                             array([&#x27;Female&#x27;, &#x27;Male&#x27;], dtype=object),\n",
              "                                                                                             array([&#x27;Kenya&#x27;, &#x27;Rwanda&#x27;, &#x27;Tanzania&#x27;, &#x27;Uganda&#x27;], dtype=object)],\n",
              "                                                                                 drop=&#x27;first&#x27;,\n",
              "                                                                                 handle_unknown=&#x27;ignore&#x27;,\n",
              "                                                                                 sparse_output=False))]),\n",
              "                                                  [&#x27;location_type&#x27;,\n",
              "                                                   &#x27;cellphone_access&#x27;,\n",
              "                                                   &#x27;relationship_with_head&#x27;,\n",
              "                                                   &#x27;job_type&#x27;,\n",
              "                                                   &#x27;education_level&#x27;,\n",
              "                                                   &#x27;marital_status&#x27;,\n",
              "                                                   &#x27;gender_of_respondent&#x27;,\n",
              "                                                   &#x27;country&#x27;])))),\n",
              "                (&#x27;classifier&#x27;, KNeighborsClassifier())])</pre><b>In a Jupyter environment, please rerun this cell to show the HTML representation or trust the notebook. <br />On GitHub, the HTML representation is unable to render, please try loading this page with nbviewer.org.</b></div><div class=\"sk-container\" hidden><div class=\"sk-item sk-dashed-wrapped\"><div class=\"sk-label-container\"><div class=\"sk-label sk-toggleable\"><input class=\"sk-toggleable__control sk-hidden--visually\" id=\"sk-estimator-id-14\" type=\"checkbox\" ><label for=\"sk-estimator-id-14\" class=\"sk-toggleable__label sk-toggleable__label-arrow\">Pipeline</label><div class=\"sk-toggleable__content\"><pre>Pipeline(steps=[(&#x27;preprocessor&#x27;,\n",
              "                 ColumnTransformer(transformers=((&#x27;numerical&#x27;,\n",
              "                                                  Pipeline(steps=[(&#x27;num_imputer&#x27;,\n",
              "                                                                   SimpleImputer()),\n",
              "                                                                  (&#x27;scaler&#x27;,\n",
              "                                                                   RobustScaler())]),\n",
              "                                                  [&#x27;year&#x27;, &#x27;age_of_respondent&#x27;,\n",
              "                                                   &#x27;household_size&#x27;]),\n",
              "                                                 (&#x27;categorical&#x27;,\n",
              "                                                  Pipeline(steps=[(&#x27;cat_imputer&#x27;,\n",
              "                                                                   SimpleImputer(strategy=&#x27;most_frequent&#x27;)),\n",
              "                                                                  (&#x27;encoder&#x27;,\n",
              "                                                                   OneHotEncoder(categories=[array([&#x27;Rural&#x27;, &#x27;Urban&#x27;], dt...\n",
              "       &#x27;Single/Never Married&#x27;, &#x27;Widowed&#x27;], dtype=object),\n",
              "                                                                                             array([&#x27;Female&#x27;, &#x27;Male&#x27;], dtype=object),\n",
              "                                                                                             array([&#x27;Kenya&#x27;, &#x27;Rwanda&#x27;, &#x27;Tanzania&#x27;, &#x27;Uganda&#x27;], dtype=object)],\n",
              "                                                                                 drop=&#x27;first&#x27;,\n",
              "                                                                                 handle_unknown=&#x27;ignore&#x27;,\n",
              "                                                                                 sparse_output=False))]),\n",
              "                                                  [&#x27;location_type&#x27;,\n",
              "                                                   &#x27;cellphone_access&#x27;,\n",
              "                                                   &#x27;relationship_with_head&#x27;,\n",
              "                                                   &#x27;job_type&#x27;,\n",
              "                                                   &#x27;education_level&#x27;,\n",
              "                                                   &#x27;marital_status&#x27;,\n",
              "                                                   &#x27;gender_of_respondent&#x27;,\n",
              "                                                   &#x27;country&#x27;])))),\n",
              "                (&#x27;classifier&#x27;, KNeighborsClassifier())])</pre></div></div></div><div class=\"sk-serial\"><div class=\"sk-item sk-dashed-wrapped\"><div class=\"sk-label-container\"><div class=\"sk-label sk-toggleable\"><input class=\"sk-toggleable__control sk-hidden--visually\" id=\"sk-estimator-id-15\" type=\"checkbox\" ><label for=\"sk-estimator-id-15\" class=\"sk-toggleable__label sk-toggleable__label-arrow\">preprocessor: ColumnTransformer</label><div class=\"sk-toggleable__content\"><pre>ColumnTransformer(transformers=((&#x27;numerical&#x27;,\n",
              "                                 Pipeline(steps=[(&#x27;num_imputer&#x27;,\n",
              "                                                  SimpleImputer()),\n",
              "                                                 (&#x27;scaler&#x27;, RobustScaler())]),\n",
              "                                 [&#x27;year&#x27;, &#x27;age_of_respondent&#x27;,\n",
              "                                  &#x27;household_size&#x27;]),\n",
              "                                (&#x27;categorical&#x27;,\n",
              "                                 Pipeline(steps=[(&#x27;cat_imputer&#x27;,\n",
              "                                                  SimpleImputer(strategy=&#x27;most_frequent&#x27;)),\n",
              "                                                 (&#x27;encoder&#x27;,\n",
              "                                                  OneHotEncoder(categories=[array([&#x27;Rural&#x27;, &#x27;Urban&#x27;], dtype=object),\n",
              "                                                                            array([&#x27;No&#x27;, &#x27;Yes&#x27;], d...\n",
              "                                                                            array([&#x27;Divorced/Seperated&#x27;, &#x27;Dont know&#x27;, &#x27;Married/Living together&#x27;,\n",
              "       &#x27;Single/Never Married&#x27;, &#x27;Widowed&#x27;], dtype=object),\n",
              "                                                                            array([&#x27;Female&#x27;, &#x27;Male&#x27;], dtype=object),\n",
              "                                                                            array([&#x27;Kenya&#x27;, &#x27;Rwanda&#x27;, &#x27;Tanzania&#x27;, &#x27;Uganda&#x27;], dtype=object)],\n",
              "                                                                drop=&#x27;first&#x27;,\n",
              "                                                                handle_unknown=&#x27;ignore&#x27;,\n",
              "                                                                sparse_output=False))]),\n",
              "                                 [&#x27;location_type&#x27;, &#x27;cellphone_access&#x27;,\n",
              "                                  &#x27;relationship_with_head&#x27;, &#x27;job_type&#x27;,\n",
              "                                  &#x27;education_level&#x27;, &#x27;marital_status&#x27;,\n",
              "                                  &#x27;gender_of_respondent&#x27;, &#x27;country&#x27;])))</pre></div></div></div><div class=\"sk-parallel\"><div class=\"sk-parallel-item\"><div class=\"sk-item\"><div class=\"sk-label-container\"><div class=\"sk-label sk-toggleable\"><input class=\"sk-toggleable__control sk-hidden--visually\" id=\"sk-estimator-id-16\" type=\"checkbox\" ><label for=\"sk-estimator-id-16\" class=\"sk-toggleable__label sk-toggleable__label-arrow\">numerical</label><div class=\"sk-toggleable__content\"><pre>[&#x27;year&#x27;, &#x27;age_of_respondent&#x27;, &#x27;household_size&#x27;]</pre></div></div></div><div class=\"sk-serial\"><div class=\"sk-item\"><div class=\"sk-serial\"><div class=\"sk-item\"><div class=\"sk-estimator sk-toggleable\"><input class=\"sk-toggleable__control sk-hidden--visually\" id=\"sk-estimator-id-17\" type=\"checkbox\" ><label for=\"sk-estimator-id-17\" class=\"sk-toggleable__label sk-toggleable__label-arrow\">SimpleImputer</label><div class=\"sk-toggleable__content\"><pre>SimpleImputer()</pre></div></div></div><div class=\"sk-item\"><div class=\"sk-estimator sk-toggleable\"><input class=\"sk-toggleable__control sk-hidden--visually\" id=\"sk-estimator-id-18\" type=\"checkbox\" ><label for=\"sk-estimator-id-18\" class=\"sk-toggleable__label sk-toggleable__label-arrow\">RobustScaler</label><div class=\"sk-toggleable__content\"><pre>RobustScaler()</pre></div></div></div></div></div></div></div></div><div class=\"sk-parallel-item\"><div class=\"sk-item\"><div class=\"sk-label-container\"><div class=\"sk-label sk-toggleable\"><input class=\"sk-toggleable__control sk-hidden--visually\" id=\"sk-estimator-id-19\" type=\"checkbox\" ><label for=\"sk-estimator-id-19\" class=\"sk-toggleable__label sk-toggleable__label-arrow\">categorical</label><div class=\"sk-toggleable__content\"><pre>[&#x27;location_type&#x27;, &#x27;cellphone_access&#x27;, &#x27;relationship_with_head&#x27;, &#x27;job_type&#x27;, &#x27;education_level&#x27;, &#x27;marital_status&#x27;, &#x27;gender_of_respondent&#x27;, &#x27;country&#x27;]</pre></div></div></div><div class=\"sk-serial\"><div class=\"sk-item\"><div class=\"sk-serial\"><div class=\"sk-item\"><div class=\"sk-estimator sk-toggleable\"><input class=\"sk-toggleable__control sk-hidden--visually\" id=\"sk-estimator-id-20\" type=\"checkbox\" ><label for=\"sk-estimator-id-20\" class=\"sk-toggleable__label sk-toggleable__label-arrow\">SimpleImputer</label><div class=\"sk-toggleable__content\"><pre>SimpleImputer(strategy=&#x27;most_frequent&#x27;)</pre></div></div></div><div class=\"sk-item\"><div class=\"sk-estimator sk-toggleable\"><input class=\"sk-toggleable__control sk-hidden--visually\" id=\"sk-estimator-id-21\" type=\"checkbox\" ><label for=\"sk-estimator-id-21\" class=\"sk-toggleable__label sk-toggleable__label-arrow\">OneHotEncoder</label><div class=\"sk-toggleable__content\"><pre>OneHotEncoder(categories=[array([&#x27;Rural&#x27;, &#x27;Urban&#x27;], dtype=object),\n",
              "                          array([&#x27;No&#x27;, &#x27;Yes&#x27;], dtype=object),\n",
              "                          array([&#x27;Child&#x27;, &#x27;Head of Household&#x27;, &#x27;Other non-relatives&#x27;,\n",
              "       &#x27;Other relative&#x27;, &#x27;Parent&#x27;, &#x27;Spouse&#x27;], dtype=object),\n",
              "                          array([&#x27;Dont Know/Refuse to answer&#x27;, &#x27;Farming and Fishing&#x27;,\n",
              "       &#x27;Formally employed Government&#x27;, &#x27;Formally employed Private&#x27;,\n",
              "       &#x27;Government Dependent&#x27;, &#x27;Informally employed&#x27;...\n",
              "       &#x27;Secondary education&#x27;, &#x27;Tertiary education&#x27;,\n",
              "       &#x27;Vocational/Specialised training&#x27;], dtype=object),\n",
              "                          array([&#x27;Divorced/Seperated&#x27;, &#x27;Dont know&#x27;, &#x27;Married/Living together&#x27;,\n",
              "       &#x27;Single/Never Married&#x27;, &#x27;Widowed&#x27;], dtype=object),\n",
              "                          array([&#x27;Female&#x27;, &#x27;Male&#x27;], dtype=object),\n",
              "                          array([&#x27;Kenya&#x27;, &#x27;Rwanda&#x27;, &#x27;Tanzania&#x27;, &#x27;Uganda&#x27;], dtype=object)],\n",
              "              drop=&#x27;first&#x27;, handle_unknown=&#x27;ignore&#x27;, sparse_output=False)</pre></div></div></div></div></div></div></div></div></div></div><div class=\"sk-item\"><div class=\"sk-estimator sk-toggleable\"><input class=\"sk-toggleable__control sk-hidden--visually\" id=\"sk-estimator-id-22\" type=\"checkbox\" ><label for=\"sk-estimator-id-22\" class=\"sk-toggleable__label sk-toggleable__label-arrow\">KNeighborsClassifier</label><div class=\"sk-toggleable__content\"><pre>KNeighborsClassifier()</pre></div></div></div></div></div></div></div>"
            ]
          },
          "metadata": {},
          "execution_count": 179
        }
      ]
    },
    {
      "cell_type": "markdown",
      "source": [
        "## Optional: Train Dataset Balancing "
      ],
      "metadata": {
        "id": "4-UlAVv4iYz8"
      }
    },
    {
      "cell_type": "code",
      "source": [
        "# Use Over-sampling/Under-sampling methods, more details here: https://imbalanced-learn.org/stable/install.html"
      ],
      "metadata": {
        "id": "ySLn254IiujE"
      },
      "execution_count": null,
      "outputs": []
    },
    {
      "cell_type": "markdown",
      "source": [
        "# Machine Learning Modeling \n",
        "Here is the section to **build**, **train**, **evaluate** and **compare** the models to each others."
      ],
      "metadata": {
        "id": "WloQgMqqf6bT"
      }
    },
    {
      "cell_type": "code",
      "source": [
        "models_trained = []"
      ],
      "metadata": {
        "id": "omaUw1mVMi_W"
      },
      "execution_count": null,
      "outputs": []
    },
    {
      "cell_type": "markdown",
      "source": [
        "## Simple Model #001\n",
        "\n",
        "Please, keep the following structure to try all the model you want."
      ],
      "metadata": {
        "id": "tTiiqCnG1FA2"
      }
    },
    {
      "cell_type": "markdown",
      "source": [
        "### Create the Model"
      ],
      "metadata": {
        "id": "46li5Z2z1ME7"
      }
    },
    {
      "cell_type": "code",
      "source": [
        "# Code here"
      ],
      "metadata": {
        "id": "1Fjv6pJt1uoV"
      },
      "execution_count": null,
      "outputs": []
    },
    {
      "cell_type": "code",
      "source": [
        "knn = KNeighborsClassifier()"
      ],
      "metadata": {
        "id": "p7M6IWgzIUie"
      },
      "execution_count": null,
      "outputs": []
    },
    {
      "cell_type": "code",
      "source": [
        "knn.__str__()"
      ],
      "metadata": {
        "colab": {
          "base_uri": "https://localhost:8080/",
          "height": 36
        },
        "id": "Joapc2zVIkkQ",
        "outputId": "b118d5f9-6b22-400f-c9bf-50dd3ed39ffd"
      },
      "execution_count": null,
      "outputs": [
        {
          "output_type": "execute_result",
          "data": {
            "text/plain": [
              "'KNeighborsClassifier()'"
            ],
            "application/vnd.google.colaboratory.intrinsic+json": {
              "type": "string"
            }
          },
          "metadata": {},
          "execution_count": 184
        }
      ]
    },
    {
      "cell_type": "markdown",
      "source": [
        "### Train the Model"
      ],
      "metadata": {
        "id": "XwHqTKk11U5f"
      }
    },
    {
      "cell_type": "code",
      "source": [
        "# Use the .fit method"
      ],
      "metadata": {
        "id": "fgsct6LH1v9e"
      },
      "execution_count": null,
      "outputs": []
    },
    {
      "cell_type": "code",
      "source": [
        "knn.fit(X_train_ready, y_train)"
      ],
      "metadata": {
        "colab": {
          "base_uri": "https://localhost:8080/",
          "height": 74
        },
        "id": "j1SzaawhIymL",
        "outputId": "60a438d2-b1a1-49b7-8ed2-da344d7124a0"
      },
      "execution_count": null,
      "outputs": [
        {
          "output_type": "execute_result",
          "data": {
            "text/plain": [
              "KNeighborsClassifier()"
            ],
            "text/html": [
              "<style>#sk-container-id-7 {color: black;background-color: white;}#sk-container-id-7 pre{padding: 0;}#sk-container-id-7 div.sk-toggleable {background-color: white;}#sk-container-id-7 label.sk-toggleable__label {cursor: pointer;display: block;width: 100%;margin-bottom: 0;padding: 0.3em;box-sizing: border-box;text-align: center;}#sk-container-id-7 label.sk-toggleable__label-arrow:before {content: \"▸\";float: left;margin-right: 0.25em;color: #696969;}#sk-container-id-7 label.sk-toggleable__label-arrow:hover:before {color: black;}#sk-container-id-7 div.sk-estimator:hover label.sk-toggleable__label-arrow:before {color: black;}#sk-container-id-7 div.sk-toggleable__content {max-height: 0;max-width: 0;overflow: hidden;text-align: left;background-color: #f0f8ff;}#sk-container-id-7 div.sk-toggleable__content pre {margin: 0.2em;color: black;border-radius: 0.25em;background-color: #f0f8ff;}#sk-container-id-7 input.sk-toggleable__control:checked~div.sk-toggleable__content {max-height: 200px;max-width: 100%;overflow: auto;}#sk-container-id-7 input.sk-toggleable__control:checked~label.sk-toggleable__label-arrow:before {content: \"▾\";}#sk-container-id-7 div.sk-estimator input.sk-toggleable__control:checked~label.sk-toggleable__label {background-color: #d4ebff;}#sk-container-id-7 div.sk-label input.sk-toggleable__control:checked~label.sk-toggleable__label {background-color: #d4ebff;}#sk-container-id-7 input.sk-hidden--visually {border: 0;clip: rect(1px 1px 1px 1px);clip: rect(1px, 1px, 1px, 1px);height: 1px;margin: -1px;overflow: hidden;padding: 0;position: absolute;width: 1px;}#sk-container-id-7 div.sk-estimator {font-family: monospace;background-color: #f0f8ff;border: 1px dotted black;border-radius: 0.25em;box-sizing: border-box;margin-bottom: 0.5em;}#sk-container-id-7 div.sk-estimator:hover {background-color: #d4ebff;}#sk-container-id-7 div.sk-parallel-item::after {content: \"\";width: 100%;border-bottom: 1px solid gray;flex-grow: 1;}#sk-container-id-7 div.sk-label:hover label.sk-toggleable__label {background-color: #d4ebff;}#sk-container-id-7 div.sk-serial::before {content: \"\";position: absolute;border-left: 1px solid gray;box-sizing: border-box;top: 0;bottom: 0;left: 50%;z-index: 0;}#sk-container-id-7 div.sk-serial {display: flex;flex-direction: column;align-items: center;background-color: white;padding-right: 0.2em;padding-left: 0.2em;position: relative;}#sk-container-id-7 div.sk-item {position: relative;z-index: 1;}#sk-container-id-7 div.sk-parallel {display: flex;align-items: stretch;justify-content: center;background-color: white;position: relative;}#sk-container-id-7 div.sk-item::before, #sk-container-id-7 div.sk-parallel-item::before {content: \"\";position: absolute;border-left: 1px solid gray;box-sizing: border-box;top: 0;bottom: 0;left: 50%;z-index: -1;}#sk-container-id-7 div.sk-parallel-item {display: flex;flex-direction: column;z-index: 1;position: relative;background-color: white;}#sk-container-id-7 div.sk-parallel-item:first-child::after {align-self: flex-end;width: 50%;}#sk-container-id-7 div.sk-parallel-item:last-child::after {align-self: flex-start;width: 50%;}#sk-container-id-7 div.sk-parallel-item:only-child::after {width: 0;}#sk-container-id-7 div.sk-dashed-wrapped {border: 1px dashed gray;margin: 0 0.4em 0.5em 0.4em;box-sizing: border-box;padding-bottom: 0.4em;background-color: white;}#sk-container-id-7 div.sk-label label {font-family: monospace;font-weight: bold;display: inline-block;line-height: 1.2em;}#sk-container-id-7 div.sk-label-container {text-align: center;}#sk-container-id-7 div.sk-container {/* jupyter's `normalize.less` sets `[hidden] { display: none; }` but bootstrap.min.css set `[hidden] { display: none !important; }` so we also need the `!important` here to be able to override the default hidden behavior on the sphinx rendered scikit-learn.org. See: https://github.com/scikit-learn/scikit-learn/issues/21755 */display: inline-block !important;position: relative;}#sk-container-id-7 div.sk-text-repr-fallback {display: none;}</style><div id=\"sk-container-id-7\" class=\"sk-top-container\"><div class=\"sk-text-repr-fallback\"><pre>KNeighborsClassifier()</pre><b>In a Jupyter environment, please rerun this cell to show the HTML representation or trust the notebook. <br />On GitHub, the HTML representation is unable to render, please try loading this page with nbviewer.org.</b></div><div class=\"sk-container\" hidden><div class=\"sk-item\"><div class=\"sk-estimator sk-toggleable\"><input class=\"sk-toggleable__control sk-hidden--visually\" id=\"sk-estimator-id-23\" type=\"checkbox\" checked><label for=\"sk-estimator-id-23\" class=\"sk-toggleable__label sk-toggleable__label-arrow\">KNeighborsClassifier</label><div class=\"sk-toggleable__content\"><pre>KNeighborsClassifier()</pre></div></div></div></div></div>"
            ]
          },
          "metadata": {},
          "execution_count": 186
        }
      ]
    },
    {
      "cell_type": "code",
      "source": [
        "models_trained.append(knn)"
      ],
      "metadata": {
        "id": "xJ9oqqA4MpZh"
      },
      "execution_count": null,
      "outputs": []
    },
    {
      "cell_type": "markdown",
      "source": [
        "### Evaluate the Model on the Evaluation dataset (Evalset)"
      ],
      "metadata": {
        "id": "M6aXGMEf1Yra"
      }
    },
    {
      "cell_type": "code",
      "source": [
        "# Compute the valid metrics for the use case # Optional: show the classification report "
      ],
      "metadata": {
        "id": "9XBrsspR1wso"
      },
      "execution_count": null,
      "outputs": []
    },
    {
      "cell_type": "code",
      "source": [
        "y_eval_pred = knn.predict(X_eval_ready)"
      ],
      "metadata": {
        "id": "3ezBM1SwJBb6"
      },
      "execution_count": null,
      "outputs": []
    },
    {
      "cell_type": "code",
      "source": [
        "print(classification_report(y_true=y_eval, y_pred=y_eval_pred,\n",
        "                    #   labels=None, target_names=None, \n",
        "                      ))"
      ],
      "metadata": {
        "colab": {
          "base_uri": "https://localhost:8080/"
        },
        "id": "k-Cz_h5RJWpL",
        "outputId": "4fd919ba-392c-4ddd-bb18-59068683e0a6"
      },
      "execution_count": null,
      "outputs": [
        {
          "output_type": "stream",
          "name": "stdout",
          "text": [
            "              precision    recall  f1-score   support\n",
            "\n",
            "          No       0.90      0.96      0.93      4043\n",
            "         Yes       0.58      0.35      0.44       662\n",
            "\n",
            "    accuracy                           0.87      4705\n",
            "   macro avg       0.74      0.66      0.68      4705\n",
            "weighted avg       0.86      0.87      0.86      4705\n",
            "\n"
          ]
        }
      ]
    },
    {
      "cell_type": "markdown",
      "source": [
        "### Predict on an unknown dataset (Testset)"
      ],
      "metadata": {
        "id": "001NdcP11dMu"
      }
    },
    {
      "cell_type": "code",
      "source": [
        "# Use .predict method # .predict_proba is available just for classification"
      ],
      "metadata": {
        "id": "mWnGeGn0i3b0"
      },
      "execution_count": null,
      "outputs": []
    },
    {
      "cell_type": "markdown",
      "source": [
        "## Simple Model #002"
      ],
      "metadata": {
        "id": "A54gPujOmqaV"
      }
    },
    {
      "cell_type": "markdown",
      "source": [
        "### Create the Model"
      ],
      "metadata": {
        "id": "MC6WaxZUmqaW"
      }
    },
    {
      "cell_type": "code",
      "source": [
        "# Code here"
      ],
      "metadata": {
        "id": "THTw7OjhmqaW"
      },
      "execution_count": null,
      "outputs": []
    },
    {
      "cell_type": "code",
      "source": [
        "ada = AdaBoostClassifier()"
      ],
      "metadata": {
        "id": "f-lC2CpXNAQj"
      },
      "execution_count": null,
      "outputs": []
    },
    {
      "cell_type": "markdown",
      "source": [
        "### Train the Model"
      ],
      "metadata": {
        "id": "n7CV9W0DmqaW"
      }
    },
    {
      "cell_type": "code",
      "source": [
        "# Use the .fit method"
      ],
      "metadata": {
        "id": "uQMdz0JPmqaW"
      },
      "execution_count": null,
      "outputs": []
    },
    {
      "cell_type": "code",
      "source": [
        "ada.fit(X_train_ready, y_train)"
      ],
      "metadata": {
        "colab": {
          "base_uri": "https://localhost:8080/",
          "height": 74
        },
        "id": "sToavhVwNJw5",
        "outputId": "82af5ddf-b7d9-4ff6-f972-78f3d8f67388"
      },
      "execution_count": null,
      "outputs": [
        {
          "output_type": "execute_result",
          "data": {
            "text/plain": [
              "AdaBoostClassifier()"
            ],
            "text/html": [
              "<style>#sk-container-id-8 {color: black;background-color: white;}#sk-container-id-8 pre{padding: 0;}#sk-container-id-8 div.sk-toggleable {background-color: white;}#sk-container-id-8 label.sk-toggleable__label {cursor: pointer;display: block;width: 100%;margin-bottom: 0;padding: 0.3em;box-sizing: border-box;text-align: center;}#sk-container-id-8 label.sk-toggleable__label-arrow:before {content: \"▸\";float: left;margin-right: 0.25em;color: #696969;}#sk-container-id-8 label.sk-toggleable__label-arrow:hover:before {color: black;}#sk-container-id-8 div.sk-estimator:hover label.sk-toggleable__label-arrow:before {color: black;}#sk-container-id-8 div.sk-toggleable__content {max-height: 0;max-width: 0;overflow: hidden;text-align: left;background-color: #f0f8ff;}#sk-container-id-8 div.sk-toggleable__content pre {margin: 0.2em;color: black;border-radius: 0.25em;background-color: #f0f8ff;}#sk-container-id-8 input.sk-toggleable__control:checked~div.sk-toggleable__content {max-height: 200px;max-width: 100%;overflow: auto;}#sk-container-id-8 input.sk-toggleable__control:checked~label.sk-toggleable__label-arrow:before {content: \"▾\";}#sk-container-id-8 div.sk-estimator input.sk-toggleable__control:checked~label.sk-toggleable__label {background-color: #d4ebff;}#sk-container-id-8 div.sk-label input.sk-toggleable__control:checked~label.sk-toggleable__label {background-color: #d4ebff;}#sk-container-id-8 input.sk-hidden--visually {border: 0;clip: rect(1px 1px 1px 1px);clip: rect(1px, 1px, 1px, 1px);height: 1px;margin: -1px;overflow: hidden;padding: 0;position: absolute;width: 1px;}#sk-container-id-8 div.sk-estimator {font-family: monospace;background-color: #f0f8ff;border: 1px dotted black;border-radius: 0.25em;box-sizing: border-box;margin-bottom: 0.5em;}#sk-container-id-8 div.sk-estimator:hover {background-color: #d4ebff;}#sk-container-id-8 div.sk-parallel-item::after {content: \"\";width: 100%;border-bottom: 1px solid gray;flex-grow: 1;}#sk-container-id-8 div.sk-label:hover label.sk-toggleable__label {background-color: #d4ebff;}#sk-container-id-8 div.sk-serial::before {content: \"\";position: absolute;border-left: 1px solid gray;box-sizing: border-box;top: 0;bottom: 0;left: 50%;z-index: 0;}#sk-container-id-8 div.sk-serial {display: flex;flex-direction: column;align-items: center;background-color: white;padding-right: 0.2em;padding-left: 0.2em;position: relative;}#sk-container-id-8 div.sk-item {position: relative;z-index: 1;}#sk-container-id-8 div.sk-parallel {display: flex;align-items: stretch;justify-content: center;background-color: white;position: relative;}#sk-container-id-8 div.sk-item::before, #sk-container-id-8 div.sk-parallel-item::before {content: \"\";position: absolute;border-left: 1px solid gray;box-sizing: border-box;top: 0;bottom: 0;left: 50%;z-index: -1;}#sk-container-id-8 div.sk-parallel-item {display: flex;flex-direction: column;z-index: 1;position: relative;background-color: white;}#sk-container-id-8 div.sk-parallel-item:first-child::after {align-self: flex-end;width: 50%;}#sk-container-id-8 div.sk-parallel-item:last-child::after {align-self: flex-start;width: 50%;}#sk-container-id-8 div.sk-parallel-item:only-child::after {width: 0;}#sk-container-id-8 div.sk-dashed-wrapped {border: 1px dashed gray;margin: 0 0.4em 0.5em 0.4em;box-sizing: border-box;padding-bottom: 0.4em;background-color: white;}#sk-container-id-8 div.sk-label label {font-family: monospace;font-weight: bold;display: inline-block;line-height: 1.2em;}#sk-container-id-8 div.sk-label-container {text-align: center;}#sk-container-id-8 div.sk-container {/* jupyter's `normalize.less` sets `[hidden] { display: none; }` but bootstrap.min.css set `[hidden] { display: none !important; }` so we also need the `!important` here to be able to override the default hidden behavior on the sphinx rendered scikit-learn.org. See: https://github.com/scikit-learn/scikit-learn/issues/21755 */display: inline-block !important;position: relative;}#sk-container-id-8 div.sk-text-repr-fallback {display: none;}</style><div id=\"sk-container-id-8\" class=\"sk-top-container\"><div class=\"sk-text-repr-fallback\"><pre>AdaBoostClassifier()</pre><b>In a Jupyter environment, please rerun this cell to show the HTML representation or trust the notebook. <br />On GitHub, the HTML representation is unable to render, please try loading this page with nbviewer.org.</b></div><div class=\"sk-container\" hidden><div class=\"sk-item\"><div class=\"sk-estimator sk-toggleable\"><input class=\"sk-toggleable__control sk-hidden--visually\" id=\"sk-estimator-id-24\" type=\"checkbox\" checked><label for=\"sk-estimator-id-24\" class=\"sk-toggleable__label sk-toggleable__label-arrow\">AdaBoostClassifier</label><div class=\"sk-toggleable__content\"><pre>AdaBoostClassifier()</pre></div></div></div></div></div>"
            ]
          },
          "metadata": {},
          "execution_count": 195
        }
      ]
    },
    {
      "cell_type": "code",
      "source": [
        "models_trained.append(ada)"
      ],
      "metadata": {
        "id": "hVyX-xh0M20I"
      },
      "execution_count": null,
      "outputs": []
    },
    {
      "cell_type": "markdown",
      "source": [
        "### Evaluate the Model on the Evaluation dataset (Evalset)"
      ],
      "metadata": {
        "id": "f1Fb-2_PmqaW"
      }
    },
    {
      "cell_type": "code",
      "source": [
        "# Compute the valid metrics for the use case # Optional: show the classification report "
      ],
      "metadata": {
        "id": "oz3-pxgDmqaW"
      },
      "execution_count": null,
      "outputs": []
    },
    {
      "cell_type": "markdown",
      "source": [
        "### Predict on a unknown dataset (Testset)"
      ],
      "metadata": {
        "id": "7-x7GFqxmqaW"
      }
    },
    {
      "cell_type": "code",
      "source": [
        "# Use .predict method # .predict_proba is available just for classification"
      ],
      "metadata": {
        "id": "ORaQB1zLmqaW"
      },
      "execution_count": null,
      "outputs": []
    },
    {
      "cell_type": "markdown",
      "source": [
        "## Models comparison\n",
        "Create a pandas dataframe that will allow you to compare your models.\n",
        "\n",
        "Find a sample frame below :\n",
        "\n",
        "|     | Model_Name     | Metric (metric_name)    | Details  |\n",
        "|:---:|:--------------:|:--------------:|:-----------------:|\n",
        "| 0   |  -             |  -             | -                 |\n",
        "| 1   |  -             |  -             | -                 |\n",
        "\n",
        "\n",
        "You might use the pandas dataframe method `.sort_values()` to sort the dataframe regarding the metric."
      ],
      "metadata": {
        "id": "S73ZUqkUmyz_"
      }
    },
    {
      "cell_type": "code",
      "source": [
        "metric = f1_score"
      ],
      "metadata": {
        "id": "UVgzqxwCOL8g"
      },
      "execution_count": null,
      "outputs": []
    },
    {
      "cell_type": "code",
      "source": [
        "info = [ {\"Model_Name\": model.__str__(),\n",
        "          f\"Metric ({metric.__name__})\": metric(\n",
        "              y_true=y_eval,\n",
        "              y_pred=model.predict(X_eval_ready),\n",
        "              pos_label=\"Yes\"\n",
        "              ),\n",
        "          } for model in models_trained ]"
      ],
      "metadata": {
        "id": "rzJMSjRCNS99"
      },
      "execution_count": null,
      "outputs": []
    },
    {
      "cell_type": "code",
      "source": [
        "info"
      ],
      "metadata": {
        "colab": {
          "base_uri": "https://localhost:8080/"
        },
        "id": "2KJT9qBSawGx",
        "outputId": "1d79ccd3-37c0-4247-dbba-c034a6d84fec"
      },
      "execution_count": null,
      "outputs": [
        {
          "output_type": "execute_result",
          "data": {
            "text/plain": [
              "[{'Model_Name': 'KNeighborsClassifier()',\n",
              "  'Metric (f1_score)': 0.44048734770384257},\n",
              " {'Model_Name': 'AdaBoostClassifier()',\n",
              "  'Metric (f1_score)': 0.44193216855087364}]"
            ]
          },
          "metadata": {},
          "execution_count": 201
        }
      ]
    },
    {
      "cell_type": "code",
      "source": [
        "pd.DataFrame(info).sort_values(ascending=False, by=f\"Metric ({metric.__name__})\")"
      ],
      "metadata": {
        "id": "jpwLiOo9pVIQ",
        "colab": {
          "base_uri": "https://localhost:8080/",
          "height": 112
        },
        "outputId": "3dbd03ea-2982-4eaa-cf56-4eef5ca91bf9"
      },
      "execution_count": null,
      "outputs": [
        {
          "output_type": "execute_result",
          "data": {
            "text/plain": [
              "               Model_Name  Metric (f1_score)\n",
              "1    AdaBoostClassifier()           0.441932\n",
              "0  KNeighborsClassifier()           0.440487"
            ],
            "text/html": [
              "\n",
              "  <div id=\"df-95bf47e4-4cd5-4d18-a71d-d59702905569\">\n",
              "    <div class=\"colab-df-container\">\n",
              "      <div>\n",
              "<style scoped>\n",
              "    .dataframe tbody tr th:only-of-type {\n",
              "        vertical-align: middle;\n",
              "    }\n",
              "\n",
              "    .dataframe tbody tr th {\n",
              "        vertical-align: top;\n",
              "    }\n",
              "\n",
              "    .dataframe thead th {\n",
              "        text-align: right;\n",
              "    }\n",
              "</style>\n",
              "<table border=\"1\" class=\"dataframe\">\n",
              "  <thead>\n",
              "    <tr style=\"text-align: right;\">\n",
              "      <th></th>\n",
              "      <th>Model_Name</th>\n",
              "      <th>Metric (f1_score)</th>\n",
              "    </tr>\n",
              "  </thead>\n",
              "  <tbody>\n",
              "    <tr>\n",
              "      <th>1</th>\n",
              "      <td>AdaBoostClassifier()</td>\n",
              "      <td>0.441932</td>\n",
              "    </tr>\n",
              "    <tr>\n",
              "      <th>0</th>\n",
              "      <td>KNeighborsClassifier()</td>\n",
              "      <td>0.440487</td>\n",
              "    </tr>\n",
              "  </tbody>\n",
              "</table>\n",
              "</div>\n",
              "      <button class=\"colab-df-convert\" onclick=\"convertToInteractive('df-95bf47e4-4cd5-4d18-a71d-d59702905569')\"\n",
              "              title=\"Convert this dataframe to an interactive table.\"\n",
              "              style=\"display:none;\">\n",
              "        \n",
              "  <svg xmlns=\"http://www.w3.org/2000/svg\" height=\"24px\"viewBox=\"0 0 24 24\"\n",
              "       width=\"24px\">\n",
              "    <path d=\"M0 0h24v24H0V0z\" fill=\"none\"/>\n",
              "    <path d=\"M18.56 5.44l.94 2.06.94-2.06 2.06-.94-2.06-.94-.94-2.06-.94 2.06-2.06.94zm-11 1L8.5 8.5l.94-2.06 2.06-.94-2.06-.94L8.5 2.5l-.94 2.06-2.06.94zm10 10l.94 2.06.94-2.06 2.06-.94-2.06-.94-.94-2.06-.94 2.06-2.06.94z\"/><path d=\"M17.41 7.96l-1.37-1.37c-.4-.4-.92-.59-1.43-.59-.52 0-1.04.2-1.43.59L10.3 9.45l-7.72 7.72c-.78.78-.78 2.05 0 2.83L4 21.41c.39.39.9.59 1.41.59.51 0 1.02-.2 1.41-.59l7.78-7.78 2.81-2.81c.8-.78.8-2.07 0-2.86zM5.41 20L4 18.59l7.72-7.72 1.47 1.35L5.41 20z\"/>\n",
              "  </svg>\n",
              "      </button>\n",
              "      \n",
              "  <style>\n",
              "    .colab-df-container {\n",
              "      display:flex;\n",
              "      flex-wrap:wrap;\n",
              "      gap: 12px;\n",
              "    }\n",
              "\n",
              "    .colab-df-convert {\n",
              "      background-color: #E8F0FE;\n",
              "      border: none;\n",
              "      border-radius: 50%;\n",
              "      cursor: pointer;\n",
              "      display: none;\n",
              "      fill: #1967D2;\n",
              "      height: 32px;\n",
              "      padding: 0 0 0 0;\n",
              "      width: 32px;\n",
              "    }\n",
              "\n",
              "    .colab-df-convert:hover {\n",
              "      background-color: #E2EBFA;\n",
              "      box-shadow: 0px 1px 2px rgba(60, 64, 67, 0.3), 0px 1px 3px 1px rgba(60, 64, 67, 0.15);\n",
              "      fill: #174EA6;\n",
              "    }\n",
              "\n",
              "    [theme=dark] .colab-df-convert {\n",
              "      background-color: #3B4455;\n",
              "      fill: #D2E3FC;\n",
              "    }\n",
              "\n",
              "    [theme=dark] .colab-df-convert:hover {\n",
              "      background-color: #434B5C;\n",
              "      box-shadow: 0px 1px 3px 1px rgba(0, 0, 0, 0.15);\n",
              "      filter: drop-shadow(0px 1px 2px rgba(0, 0, 0, 0.3));\n",
              "      fill: #FFFFFF;\n",
              "    }\n",
              "  </style>\n",
              "\n",
              "      <script>\n",
              "        const buttonEl =\n",
              "          document.querySelector('#df-95bf47e4-4cd5-4d18-a71d-d59702905569 button.colab-df-convert');\n",
              "        buttonEl.style.display =\n",
              "          google.colab.kernel.accessAllowed ? 'block' : 'none';\n",
              "\n",
              "        async function convertToInteractive(key) {\n",
              "          const element = document.querySelector('#df-95bf47e4-4cd5-4d18-a71d-d59702905569');\n",
              "          const dataTable =\n",
              "            await google.colab.kernel.invokeFunction('convertToInteractive',\n",
              "                                                     [key], {});\n",
              "          if (!dataTable) return;\n",
              "\n",
              "          const docLinkHtml = 'Like what you see? Visit the ' +\n",
              "            '<a target=\"_blank\" href=https://colab.research.google.com/notebooks/data_table.ipynb>data table notebook</a>'\n",
              "            + ' to learn more about interactive tables.';\n",
              "          element.innerHTML = '';\n",
              "          dataTable['output_type'] = 'display_data';\n",
              "          await google.colab.output.renderOutput(dataTable, element);\n",
              "          const docLink = document.createElement('div');\n",
              "          docLink.innerHTML = docLinkHtml;\n",
              "          element.appendChild(docLink);\n",
              "        }\n",
              "      </script>\n",
              "    </div>\n",
              "  </div>\n",
              "  "
            ]
          },
          "metadata": {},
          "execution_count": 202
        }
      ]
    },
    {
      "cell_type": "markdown",
      "source": [
        "## Cross validation"
      ],
      "metadata": {
        "id": "kw4ap3DPV0tu"
      }
    },
    {
      "cell_type": "code",
      "source": [
        "def metric(gt, pred, thr=0.5):\n",
        "    pred = (pred >= thr).astype(int)\n",
        "    return f1_score(gt, pred,)"
      ],
      "metadata": {
        "id": "Bm3WGzOTjp83"
      },
      "execution_count": null,
      "outputs": []
    },
    {
      "cell_type": "code",
      "source": [
        "n_splits = 10\n",
        "splitter = StratifiedKFold\n",
        "folds = splitter(n_splits=n_splits, shuffle=True, random_state=0)"
      ],
      "metadata": {
        "id": "sSq44dr5V5gf"
      },
      "execution_count": null,
      "outputs": []
    },
    {
      "cell_type": "code",
      "source": [
        "lb = LabelBinarizer().fit(y.values)"
      ],
      "metadata": {
        "id": "e7wjgRY_mLkB"
      },
      "execution_count": null,
      "outputs": []
    },
    {
      "cell_type": "code",
      "source": [
        "class_to_idx = { \n",
        "    \"No\": 0 ,\n",
        "    \"Yes\": 1 ,\n",
        "    }\n",
        "\n",
        "\n",
        "# y.map(class_to_idx)"
      ],
      "metadata": {
        "id": "h4oMUdoPmxZ5"
      },
      "execution_count": null,
      "outputs": []
    },
    {
      "cell_type": "code",
      "source": [
        "score = 0\n",
        "scores_ = {\"lgbm\": [], \"cat\": [], \"xgb\": [], }\n",
        "scores = []\n",
        "oof = [] \n",
        "oof_test = []\n",
        "thr = 0.5\n",
        "\n",
        "for fold, (train_index, eval_index) in enumerate(folds.split(X, y)):\n",
        "    print('*'*35)\n",
        "    print('Fold', fold)\n",
        "\n",
        "    X_trainset, y_trainset  = preprocessor.fit_transform(X.iloc[train_index]), y[train_index].map(class_to_idx)\n",
        "    X_evalset, y_evalset  = preprocessor.transform(X.iloc[eval_index]), y[eval_index].map(class_to_idx)\n",
        "    testset = preprocessor.transform(test)\n",
        "\n",
        "    # # end2end pipeline\n",
        "    # pipe = Pipeline([('preprocessor', preprocessor),\n",
        "    #                   ('model', KNeighborsClassifier())])\n",
        "    # # model.set_output(transform=\"pandas\")\n",
        "    \n",
        "    # MODEL #001\n",
        "    model_001 = lgb.LGBMClassifier(n_estimators=10000, learning_rate=0.01)\n",
        "    model_002 = cat.CatBoostClassifier(n_estimators=10000, learning_rate=0.01)\n",
        "    model_003 = xgb.XGBClassifier(n_estimators=10000, learning_rate=0.01)\n",
        "    \n",
        "    for model in [model_001, model_002, model_003]:\n",
        "        print(\"-\"*20, model.__str__(),\"-\"*20)\n",
        "        model.fit(X_trainset, y_trainset,\n",
        "                eval_set=[(X_evalset, y_evalset)], \n",
        "                early_stopping_rounds=100,\n",
        "                verbose=100,\n",
        "                )\n",
        "        pred = model.predict_proba(X_evalset)\n",
        "        sc = metric(y_evalset, pred[:, 1], thr)\n",
        "\n",
        "        oof.extend(pred[:, 1])\n",
        "        oof_test.append(model.predict_proba(testset)[:, 1])\n",
        "\n",
        "        score += sc / (n_splits*3)\n",
        "        scores.append(sc)\n",
        "\n",
        "\n",
        "\n",
        "        print(\"F1 score:\", sc)\n",
        "        print(\"Gt Stats:\", Counter(y_evalset))\n",
        "        print(\"Pr Stats:\", Counter((pred[:, 1] >= thr).astype(int)))\n",
        "        print(classification_report(y_evalset, (pred[:, 1] >= thr).astype(int), target_names=lb.classes_))\n",
        "        ConfusionMatrixDisplay.from_predictions(y_evalset, (pred[:, 1] >= thr).astype(int), display_labels=lb.classes_)\n",
        "\n",
        "        print('-'*35)\n",
        "        print()\n",
        "\n",
        "    print('*'*35)\n",
        "    print()\n",
        "\n",
        "print('Avg F1-Score: ', score)"
      ],
      "metadata": {
        "colab": {
          "base_uri": "https://localhost:8080/",
          "height": 1000
        },
        "id": "-MjUmPlBaj4Q",
        "outputId": "5518bac3-0d16-434b-f4b5-c489bb7c2d25"
      },
      "execution_count": null,
      "outputs": [
        {
          "output_type": "stream",
          "name": "stdout",
          "text": [
            "***********************************\n",
            "Fold 0\n",
            "-------------------- LGBMClassifier(learning_rate=0.01, n_estimators=10000) --------------------\n",
            "[100]\tvalid_0's binary_logloss: 0.313452\n",
            "[200]\tvalid_0's binary_logloss: 0.294694\n",
            "[300]\tvalid_0's binary_logloss: 0.288891\n",
            "[400]\tvalid_0's binary_logloss: 0.287524\n",
            "[500]\tvalid_0's binary_logloss: 0.287063\n",
            "[600]\tvalid_0's binary_logloss: 0.287452\n",
            "F1 score: 0.4721689059500959\n",
            "Gt Stats: Counter({0: 2021, 1: 332})\n",
            "Pr Stats: Counter({0: 2164, 1: 189})\n",
            "              precision    recall  f1-score   support\n",
            "\n",
            "          No       0.90      0.97      0.93      2021\n",
            "         Yes       0.65      0.37      0.47       332\n",
            "\n",
            "    accuracy                           0.88      2353\n",
            "   macro avg       0.78      0.67      0.70      2353\n",
            "weighted avg       0.87      0.88      0.87      2353\n",
            "\n",
            "-----------------------------------\n",
            "\n",
            "-------------------- <catboost.core.CatBoostClassifier object at 0x7f8e1cad6b20> --------------------\n",
            "0:\tlearn: 0.6827274\ttest: 0.6826755\tbest: 0.6826755 (0)\ttotal: 6.95ms\tremaining: 1m 9s\n",
            "100:\tlearn: 0.3407767\ttest: 0.3463188\tbest: 0.3463188 (100)\ttotal: 733ms\tremaining: 1m 11s\n",
            "200:\tlearn: 0.2958473\ttest: 0.3037165\tbest: 0.3037165 (200)\ttotal: 1.45s\tremaining: 1m 10s\n",
            "300:\tlearn: 0.2832495\ttest: 0.2934745\tbest: 0.2934745 (300)\ttotal: 2.16s\tremaining: 1m 9s\n",
            "400:\tlearn: 0.2773551\ttest: 0.2897057\tbest: 0.2897057 (400)\ttotal: 2.87s\tremaining: 1m 8s\n",
            "500:\tlearn: 0.2737375\ttest: 0.2881261\tbest: 0.2881261 (500)\ttotal: 3.57s\tremaining: 1m 7s\n",
            "600:\tlearn: 0.2710044\ttest: 0.2875371\tbest: 0.2875371 (600)\ttotal: 4.25s\tremaining: 1m 6s\n",
            "700:\tlearn: 0.2687403\ttest: 0.2872312\tbest: 0.2871725 (677)\ttotal: 4.97s\tremaining: 1m 5s\n",
            "800:\tlearn: 0.2667578\ttest: 0.2870116\tbest: 0.2869826 (781)\ttotal: 5.67s\tremaining: 1m 5s\n",
            "900:\tlearn: 0.2648930\ttest: 0.2870023\tbest: 0.2869567 (845)\ttotal: 6.38s\tremaining: 1m 4s\n",
            "Stopped by overfitting detector  (100 iterations wait)\n",
            "\n",
            "bestTest = 0.2869566889\n",
            "bestIteration = 845\n",
            "\n",
            "Shrink model to first 846 iterations.\n",
            "F1 score: 0.45849802371541504\n",
            "Gt Stats: Counter({0: 2021, 1: 332})\n",
            "Pr Stats: Counter({0: 2179, 1: 174})\n",
            "              precision    recall  f1-score   support\n",
            "\n",
            "          No       0.90      0.97      0.93      2021\n",
            "         Yes       0.67      0.35      0.46       332\n",
            "\n",
            "    accuracy                           0.88      2353\n",
            "   macro avg       0.78      0.66      0.70      2353\n",
            "weighted avg       0.87      0.88      0.87      2353\n",
            "\n",
            "-----------------------------------\n",
            "\n",
            "-------------------- XGBClassifier(base_score=None, booster=None, callbacks=None,\n",
            "              colsample_bylevel=None, colsample_bynode=None,\n",
            "              colsample_bytree=None, early_stopping_rounds=None,\n",
            "              enable_categorical=False, eval_metric=None, feature_types=None,\n",
            "              gamma=None, gpu_id=None, grow_policy=None, importance_type=None,\n",
            "              interaction_constraints=None, learning_rate=0.01, max_bin=None,\n",
            "              max_cat_threshold=None, max_cat_to_onehot=None,\n",
            "              max_delta_step=None, max_depth=None, max_leaves=None,\n",
            "              min_child_weight=None, missing=nan, monotone_constraints=None,\n",
            "              n_estimators=10000, n_jobs=None, num_parallel_tree=None,\n",
            "              predictor=None, random_state=None, ...) --------------------\n",
            "[0]\tvalidation_0-logloss:0.68692\n",
            "[100]\tvalidation_0-logloss:0.39342\n",
            "[200]\tvalidation_0-logloss:0.32259\n",
            "[300]\tvalidation_0-logloss:0.30011\n",
            "[400]\tvalidation_0-logloss:0.29322\n",
            "[500]\tvalidation_0-logloss:0.29050\n",
            "[600]\tvalidation_0-logloss:0.28962\n",
            "[700]\tvalidation_0-logloss:0.28882\n",
            "[800]\tvalidation_0-logloss:0.28813\n",
            "[900]\tvalidation_0-logloss:0.28797\n",
            "[1000]\tvalidation_0-logloss:0.28834\n",
            "[1022]\tvalidation_0-logloss:0.28838\n",
            "F1 score: 0.4796905222437137\n",
            "Gt Stats: Counter({0: 2021, 1: 332})\n",
            "Pr Stats: Counter({0: 2168, 1: 185})\n",
            "              precision    recall  f1-score   support\n",
            "\n",
            "          No       0.90      0.97      0.94      2021\n",
            "         Yes       0.67      0.37      0.48       332\n",
            "\n",
            "    accuracy                           0.89      2353\n",
            "   macro avg       0.79      0.67      0.71      2353\n",
            "weighted avg       0.87      0.89      0.87      2353\n",
            "\n",
            "-----------------------------------\n",
            "\n",
            "***********************************\n",
            "\n",
            "***********************************\n",
            "Fold 1\n",
            "-------------------- LGBMClassifier(learning_rate=0.01, n_estimators=10000) --------------------\n",
            "[100]\tvalid_0's binary_logloss: 0.311597\n",
            "[200]\tvalid_0's binary_logloss: 0.290852\n",
            "[300]\tvalid_0's binary_logloss: 0.282696\n",
            "[400]\tvalid_0's binary_logloss: 0.279414\n",
            "[500]\tvalid_0's binary_logloss: 0.277852\n",
            "[600]\tvalid_0's binary_logloss: 0.277175\n",
            "[700]\tvalid_0's binary_logloss: 0.276958\n",
            "F1 score: 0.4590818363273453\n",
            "Gt Stats: Counter({0: 2021, 1: 332})\n",
            "Pr Stats: Counter({0: 2184, 1: 169})\n",
            "              precision    recall  f1-score   support\n",
            "\n",
            "          No       0.90      0.97      0.94      2021\n",
            "         Yes       0.68      0.35      0.46       332\n",
            "\n",
            "    accuracy                           0.88      2353\n",
            "   macro avg       0.79      0.66      0.70      2353\n",
            "weighted avg       0.87      0.88      0.87      2353\n",
            "\n",
            "-----------------------------------\n",
            "\n",
            "-------------------- <catboost.core.CatBoostClassifier object at 0x7f8e1cd4d850> --------------------\n",
            "0:\tlearn: 0.6826702\ttest: 0.6828371\tbest: 0.6828371 (0)\ttotal: 6.61ms\tremaining: 1m 6s\n",
            "100:\tlearn: 0.3426219\ttest: 0.3451551\tbest: 0.3451551 (100)\ttotal: 689ms\tremaining: 1m 7s\n",
            "200:\tlearn: 0.2971206\ttest: 0.3001180\tbest: 0.3001180 (200)\ttotal: 1.41s\tremaining: 1m 8s\n",
            "300:\tlearn: 0.2844027\ttest: 0.2879141\tbest: 0.2879141 (300)\ttotal: 2.12s\tremaining: 1m 8s\n",
            "400:\tlearn: 0.2784014\ttest: 0.2825161\tbest: 0.2825161 (400)\ttotal: 2.84s\tremaining: 1m 8s\n",
            "500:\tlearn: 0.2747996\ttest: 0.2799367\tbest: 0.2799367 (500)\ttotal: 3.56s\tremaining: 1m 7s\n",
            "600:\tlearn: 0.2719608\ttest: 0.2783582\tbest: 0.2783582 (600)\ttotal: 4.28s\tremaining: 1m 6s\n",
            "700:\tlearn: 0.2697616\ttest: 0.2772464\tbest: 0.2772453 (699)\ttotal: 4.99s\tremaining: 1m 6s\n",
            "800:\tlearn: 0.2676796\ttest: 0.2765796\tbest: 0.2765796 (800)\ttotal: 5.72s\tremaining: 1m 5s\n",
            "900:\tlearn: 0.2658095\ttest: 0.2760316\tbest: 0.2760316 (900)\ttotal: 6.45s\tremaining: 1m 5s\n",
            "1000:\tlearn: 0.2639399\ttest: 0.2758075\tbest: 0.2757690 (998)\ttotal: 7.17s\tremaining: 1m 4s\n",
            "1100:\tlearn: 0.2621034\ttest: 0.2755956\tbest: 0.2755956 (1100)\ttotal: 8.95s\tremaining: 1m 12s\n",
            "1200:\tlearn: 0.2602801\ttest: 0.2754093\tbest: 0.2753924 (1198)\ttotal: 10.8s\tremaining: 1m 19s\n",
            "1300:\tlearn: 0.2587254\ttest: 0.2752948\tbest: 0.2752361 (1283)\ttotal: 11.6s\tremaining: 1m 17s\n",
            "Stopped by overfitting detector  (100 iterations wait)\n",
            "\n",
            "bestTest = 0.2752360905\n",
            "bestIteration = 1283\n",
            "\n",
            "Shrink model to first 1284 iterations.\n",
            "F1 score: 0.4634146341463415\n",
            "Gt Stats: Counter({0: 2021, 1: 332})\n",
            "Pr Stats: Counter({0: 2193, 1: 160})\n",
            "              precision    recall  f1-score   support\n",
            "\n",
            "          No       0.90      0.98      0.94      2021\n",
            "         Yes       0.71      0.34      0.46       332\n",
            "\n",
            "    accuracy                           0.89      2353\n",
            "   macro avg       0.81      0.66      0.70      2353\n",
            "weighted avg       0.87      0.89      0.87      2353\n",
            "\n",
            "-----------------------------------\n",
            "\n",
            "-------------------- XGBClassifier(base_score=None, booster=None, callbacks=None,\n",
            "              colsample_bylevel=None, colsample_bynode=None,\n",
            "              colsample_bytree=None, early_stopping_rounds=None,\n",
            "              enable_categorical=False, eval_metric=None, feature_types=None,\n",
            "              gamma=None, gpu_id=None, grow_policy=None, importance_type=None,\n",
            "              interaction_constraints=None, learning_rate=0.01, max_bin=None,\n",
            "              max_cat_threshold=None, max_cat_to_onehot=None,\n",
            "              max_delta_step=None, max_depth=None, max_leaves=None,\n",
            "              min_child_weight=None, missing=nan, monotone_constraints=None,\n",
            "              n_estimators=10000, n_jobs=None, num_parallel_tree=None,\n",
            "              predictor=None, random_state=None, ...) --------------------\n",
            "[0]\tvalidation_0-logloss:0.68689\n",
            "[100]\tvalidation_0-logloss:0.39117\n",
            "[200]\tvalidation_0-logloss:0.31761\n",
            "[300]\tvalidation_0-logloss:0.29377\n",
            "[400]\tvalidation_0-logloss:0.28544\n",
            "[500]\tvalidation_0-logloss:0.28171\n",
            "[600]\tvalidation_0-logloss:0.27971\n",
            "[700]\tvalidation_0-logloss:0.27893\n",
            "[800]\tvalidation_0-logloss:0.27806\n",
            "[900]\tvalidation_0-logloss:0.27754\n",
            "[1000]\tvalidation_0-logloss:0.27717\n",
            "[1100]\tvalidation_0-logloss:0.27689\n",
            "[1200]\tvalidation_0-logloss:0.27664\n",
            "[1300]\tvalidation_0-logloss:0.27681\n",
            "[1301]\tvalidation_0-logloss:0.27682\n",
            "F1 score: 0.4686868686868687\n",
            "Gt Stats: Counter({0: 2021, 1: 332})\n",
            "Pr Stats: Counter({0: 2190, 1: 163})\n",
            "              precision    recall  f1-score   support\n",
            "\n",
            "          No       0.90      0.98      0.94      2021\n",
            "         Yes       0.71      0.35      0.47       332\n",
            "\n",
            "    accuracy                           0.89      2353\n",
            "   macro avg       0.81      0.66      0.70      2353\n",
            "weighted avg       0.87      0.89      0.87      2353\n",
            "\n",
            "-----------------------------------\n",
            "\n",
            "***********************************\n",
            "\n",
            "***********************************\n",
            "Fold 2\n",
            "-------------------- LGBMClassifier(learning_rate=0.01, n_estimators=10000) --------------------\n",
            "[100]\tvalid_0's binary_logloss: 0.300607\n",
            "[200]\tvalid_0's binary_logloss: 0.279654\n",
            "[300]\tvalid_0's binary_logloss: 0.272269\n",
            "[400]\tvalid_0's binary_logloss: 0.270441\n",
            "[500]\tvalid_0's binary_logloss: 0.269844\n",
            "[600]\tvalid_0's binary_logloss: 0.270041\n",
            "F1 score: 0.5162523900573613\n",
            "Gt Stats: Counter({0: 2022, 1: 331})\n",
            "Pr Stats: Counter({0: 2161, 1: 192})\n",
            "              precision    recall  f1-score   support\n",
            "\n",
            "          No       0.91      0.97      0.94      2022\n",
            "         Yes       0.70      0.41      0.52       331\n",
            "\n",
            "    accuracy                           0.89      2353\n",
            "   macro avg       0.81      0.69      0.73      2353\n",
            "weighted avg       0.88      0.89      0.88      2353\n",
            "\n",
            "-----------------------------------\n",
            "\n",
            "-------------------- <catboost.core.CatBoostClassifier object at 0x7f8e1c73eb80> --------------------\n",
            "0:\tlearn: 0.6827369\ttest: 0.6826693\tbest: 0.6826693 (0)\ttotal: 16.7ms\tremaining: 2m 46s\n",
            "100:\tlearn: 0.3419899\ttest: 0.3355248\tbest: 0.3355248 (100)\ttotal: 739ms\tremaining: 1m 12s\n",
            "200:\tlearn: 0.2983671\ttest: 0.2894745\tbest: 0.2894745 (200)\ttotal: 1.49s\tremaining: 1m 12s\n",
            "300:\tlearn: 0.2855116\ttest: 0.2765094\tbest: 0.2765094 (300)\ttotal: 2.21s\tremaining: 1m 11s\n",
            "400:\tlearn: 0.2794098\ttest: 0.2715552\tbest: 0.2715552 (400)\ttotal: 2.93s\tremaining: 1m 10s\n",
            "500:\tlearn: 0.2757658\ttest: 0.2692757\tbest: 0.2692757 (500)\ttotal: 3.63s\tremaining: 1m 8s\n",
            "600:\tlearn: 0.2730203\ttest: 0.2677812\tbest: 0.2677812 (600)\ttotal: 4.34s\tremaining: 1m 7s\n",
            "700:\tlearn: 0.2706863\ttest: 0.2668728\tbest: 0.2668661 (699)\ttotal: 5.47s\tremaining: 1m 12s\n",
            "800:\tlearn: 0.2686589\ttest: 0.2663307\tbest: 0.2663084 (799)\ttotal: 7.46s\tremaining: 1m 25s\n",
            "900:\tlearn: 0.2668774\ttest: 0.2661614\tbest: 0.2661614 (900)\ttotal: 8.67s\tremaining: 1m 27s\n",
            "1000:\tlearn: 0.2650062\ttest: 0.2659490\tbest: 0.2659346 (999)\ttotal: 9.37s\tremaining: 1m 24s\n",
            "Stopped by overfitting detector  (100 iterations wait)\n",
            "\n",
            "bestTest = 0.2659346222\n",
            "bestIteration = 999\n",
            "\n",
            "Shrink model to first 1000 iterations.\n",
            "F1 score: 0.503968253968254\n",
            "Gt Stats: Counter({0: 2022, 1: 331})\n",
            "Pr Stats: Counter({0: 2180, 1: 173})\n",
            "              precision    recall  f1-score   support\n",
            "\n",
            "          No       0.91      0.98      0.94      2022\n",
            "         Yes       0.73      0.38      0.50       331\n",
            "\n",
            "    accuracy                           0.89      2353\n",
            "   macro avg       0.82      0.68      0.72      2353\n",
            "weighted avg       0.88      0.89      0.88      2353\n",
            "\n",
            "-----------------------------------\n",
            "\n",
            "-------------------- XGBClassifier(base_score=None, booster=None, callbacks=None,\n",
            "              colsample_bylevel=None, colsample_bynode=None,\n",
            "              colsample_bytree=None, early_stopping_rounds=None,\n",
            "              enable_categorical=False, eval_metric=None, feature_types=None,\n",
            "              gamma=None, gpu_id=None, grow_policy=None, importance_type=None,\n",
            "              interaction_constraints=None, learning_rate=0.01, max_bin=None,\n",
            "              max_cat_threshold=None, max_cat_to_onehot=None,\n",
            "              max_delta_step=None, max_depth=None, max_leaves=None,\n",
            "              min_child_weight=None, missing=nan, monotone_constraints=None,\n",
            "              n_estimators=10000, n_jobs=None, num_parallel_tree=None,\n",
            "              predictor=None, random_state=None, ...) --------------------\n",
            "[0]\tvalidation_0-logloss:0.68682\n",
            "[100]\tvalidation_0-logloss:0.38468\n",
            "[200]\tvalidation_0-logloss:0.30940\n",
            "[300]\tvalidation_0-logloss:0.28404\n",
            "[400]\tvalidation_0-logloss:0.27619\n",
            "[500]\tvalidation_0-logloss:0.27211\n",
            "[600]\tvalidation_0-logloss:0.26994\n",
            "[700]\tvalidation_0-logloss:0.26917\n",
            "[800]\tvalidation_0-logloss:0.26885\n",
            "[900]\tvalidation_0-logloss:0.26879\n",
            "[1000]\tvalidation_0-logloss:0.26903\n",
            "[1013]\tvalidation_0-logloss:0.26911\n",
            "F1 score: 0.5203883495145631\n",
            "Gt Stats: Counter({0: 2022, 1: 331})\n",
            "Pr Stats: Counter({0: 2169, 1: 184})\n",
            "              precision    recall  f1-score   support\n",
            "\n",
            "          No       0.91      0.98      0.94      2022\n",
            "         Yes       0.73      0.40      0.52       331\n",
            "\n",
            "    accuracy                           0.90      2353\n",
            "   macro avg       0.82      0.69      0.73      2353\n",
            "weighted avg       0.88      0.90      0.88      2353\n",
            "\n",
            "-----------------------------------\n",
            "\n",
            "***********************************\n",
            "\n",
            "***********************************\n",
            "Fold 3\n",
            "-------------------- LGBMClassifier(learning_rate=0.01, n_estimators=10000) --------------------\n",
            "[100]\tvalid_0's binary_logloss: 0.316775\n",
            "[200]\tvalid_0's binary_logloss: 0.298233\n",
            "[300]\tvalid_0's binary_logloss: 0.292592\n",
            "[400]\tvalid_0's binary_logloss: 0.29136\n",
            "[500]\tvalid_0's binary_logloss: 0.290573\n",
            "[600]\tvalid_0's binary_logloss: 0.290461\n",
            "[700]\tvalid_0's binary_logloss: 0.290639\n",
            "F1 score: 0.4584980237154151\n",
            "Gt Stats: Counter({0: 2022, 1: 331})\n",
            "Pr Stats: Counter({0: 2178, 1: 175})\n",
            "              precision    recall  f1-score   support\n",
            "\n",
            "          No       0.90      0.97      0.93      2022\n",
            "         Yes       0.66      0.35      0.46       331\n",
            "\n",
            "    accuracy                           0.88      2353\n",
            "   macro avg       0.78      0.66      0.70      2353\n",
            "weighted avg       0.87      0.88      0.87      2353\n",
            "\n",
            "-----------------------------------\n",
            "\n",
            "-------------------- <catboost.core.CatBoostClassifier object at 0x7f8e1cce6c70> --------------------\n",
            "0:\tlearn: 0.6826580\ttest: 0.6828892\tbest: 0.6828892 (0)\ttotal: 6.64ms\tremaining: 1m 6s\n",
            "100:\tlearn: 0.3403555\ttest: 0.3462252\tbest: 0.3462252 (100)\ttotal: 696ms\tremaining: 1m 8s\n",
            "200:\tlearn: 0.2953161\ttest: 0.3048763\tbest: 0.3048763 (200)\ttotal: 1.42s\tremaining: 1m 9s\n",
            "300:\tlearn: 0.2829122\ttest: 0.2947302\tbest: 0.2947302 (300)\ttotal: 2.13s\tremaining: 1m 8s\n",
            "400:\tlearn: 0.2771084\ttest: 0.2902362\tbest: 0.2902362 (400)\ttotal: 2.85s\tremaining: 1m 8s\n",
            "500:\tlearn: 0.2734532\ttest: 0.2878602\tbest: 0.2878602 (500)\ttotal: 4.65s\tremaining: 1m 28s\n",
            "600:\tlearn: 0.2707166\ttest: 0.2863916\tbest: 0.2863916 (600)\ttotal: 6.5s\tremaining: 1m 41s\n",
            "700:\tlearn: 0.2683726\ttest: 0.2855260\tbest: 0.2855217 (699)\ttotal: 7.22s\tremaining: 1m 35s\n",
            "800:\tlearn: 0.2663280\ttest: 0.2848972\tbest: 0.2848851 (798)\ttotal: 7.94s\tremaining: 1m 31s\n",
            "900:\tlearn: 0.2645551\ttest: 0.2845447\tbest: 0.2845377 (895)\ttotal: 8.63s\tremaining: 1m 27s\n",
            "1000:\tlearn: 0.2627911\ttest: 0.2841927\tbest: 0.2841927 (1000)\ttotal: 9.33s\tremaining: 1m 23s\n",
            "1100:\tlearn: 0.2609720\ttest: 0.2841689\tbest: 0.2841226 (1064)\ttotal: 10s\tremaining: 1m 21s\n",
            "Stopped by overfitting detector  (100 iterations wait)\n",
            "\n",
            "bestTest = 0.2841226213\n",
            "bestIteration = 1064\n",
            "\n",
            "Shrink model to first 1065 iterations.\n",
            "F1 score: 0.47560975609756095\n",
            "Gt Stats: Counter({0: 2022, 1: 331})\n",
            "Pr Stats: Counter({0: 2192, 1: 161})\n",
            "              precision    recall  f1-score   support\n",
            "\n",
            "          No       0.90      0.98      0.94      2022\n",
            "         Yes       0.73      0.35      0.48       331\n",
            "\n",
            "    accuracy                           0.89      2353\n",
            "   macro avg       0.81      0.67      0.71      2353\n",
            "weighted avg       0.88      0.89      0.87      2353\n",
            "\n",
            "-----------------------------------\n",
            "\n",
            "-------------------- XGBClassifier(base_score=None, booster=None, callbacks=None,\n",
            "              colsample_bylevel=None, colsample_bynode=None,\n",
            "              colsample_bytree=None, early_stopping_rounds=None,\n",
            "              enable_categorical=False, eval_metric=None, feature_types=None,\n",
            "              gamma=None, gpu_id=None, grow_policy=None, importance_type=None,\n",
            "              interaction_constraints=None, learning_rate=0.01, max_bin=None,\n",
            "              max_cat_threshold=None, max_cat_to_onehot=None,\n",
            "              max_delta_step=None, max_depth=None, max_leaves=None,\n",
            "              min_child_weight=None, missing=nan, monotone_constraints=None,\n",
            "              n_estimators=10000, n_jobs=None, num_parallel_tree=None,\n",
            "              predictor=None, random_state=None, ...) --------------------\n",
            "[0]\tvalidation_0-logloss:0.68691\n",
            "[100]\tvalidation_0-logloss:0.39191\n",
            "[200]\tvalidation_0-logloss:0.32147\n",
            "[300]\tvalidation_0-logloss:0.29999\n",
            "[400]\tvalidation_0-logloss:0.29310\n",
            "[500]\tvalidation_0-logloss:0.29089\n",
            "[600]\tvalidation_0-logloss:0.28948\n",
            "[700]\tvalidation_0-logloss:0.28867\n",
            "[800]\tvalidation_0-logloss:0.28858\n",
            "[858]\tvalidation_0-logloss:0.28874\n",
            "F1 score: 0.4705882352941176\n",
            "Gt Stats: Counter({0: 2022, 1: 331})\n",
            "Pr Stats: Counter({0: 2191, 1: 162})\n",
            "              precision    recall  f1-score   support\n",
            "\n",
            "          No       0.90      0.98      0.94      2022\n",
            "         Yes       0.72      0.35      0.47       331\n",
            "\n",
            "    accuracy                           0.89      2353\n",
            "   macro avg       0.81      0.66      0.70      2353\n",
            "weighted avg       0.88      0.89      0.87      2353\n",
            "\n",
            "-----------------------------------\n",
            "\n",
            "***********************************\n",
            "\n",
            "***********************************\n",
            "Fold 4\n",
            "-------------------- LGBMClassifier(learning_rate=0.01, n_estimators=10000) --------------------\n",
            "[100]\tvalid_0's binary_logloss: 0.305765\n",
            "[200]\tvalid_0's binary_logloss: 0.284512\n",
            "[300]\tvalid_0's binary_logloss: 0.277002\n",
            "[400]\tvalid_0's binary_logloss: 0.274589\n",
            "[500]\tvalid_0's binary_logloss: 0.273123\n",
            "[600]\tvalid_0's binary_logloss: 0.272631\n",
            "[700]\tvalid_0's binary_logloss: 0.272165\n",
            "[800]\tvalid_0's binary_logloss: 0.271887\n",
            "[900]\tvalid_0's binary_logloss: 0.271711\n",
            "F1 score: 0.48387096774193555\n",
            "Gt Stats: Counter({0: 2021, 1: 331})\n",
            "Pr Stats: Counter({0: 2187, 1: 165})\n",
            "              precision    recall  f1-score   support\n",
            "\n",
            "          No       0.90      0.98      0.94      2021\n",
            "         Yes       0.73      0.36      0.48       331\n",
            "\n",
            "    accuracy                           0.89      2352\n",
            "   macro avg       0.82      0.67      0.71      2352\n",
            "weighted avg       0.88      0.89      0.88      2352\n",
            "\n",
            "-----------------------------------\n",
            "\n",
            "-------------------- <catboost.core.CatBoostClassifier object at 0x7f8e1e7e28b0> --------------------\n",
            "0:\tlearn: 0.6833978\ttest: 0.6832401\tbest: 0.6832401 (0)\ttotal: 6.82ms\tremaining: 1m 8s\n",
            "100:\tlearn: 0.3412389\ttest: 0.3376363\tbest: 0.3376363 (100)\ttotal: 723ms\tremaining: 1m 10s\n",
            "200:\tlearn: 0.2969370\ttest: 0.2937867\tbest: 0.2937867 (200)\ttotal: 1.45s\tremaining: 1m 10s\n",
            "300:\tlearn: 0.2845050\ttest: 0.2827171\tbest: 0.2827171 (300)\ttotal: 2.16s\tremaining: 1m 9s\n",
            "400:\tlearn: 0.2785989\ttest: 0.2786519\tbest: 0.2786519 (400)\ttotal: 2.85s\tremaining: 1m 8s\n",
            "500:\tlearn: 0.2747336\ttest: 0.2762927\tbest: 0.2762927 (500)\ttotal: 3.55s\tremaining: 1m 7s\n",
            "600:\tlearn: 0.2719689\ttest: 0.2751028\tbest: 0.2751028 (600)\ttotal: 4.24s\tremaining: 1m 6s\n",
            "700:\tlearn: 0.2695721\ttest: 0.2742927\tbest: 0.2742927 (700)\ttotal: 5.42s\tremaining: 1m 11s\n",
            "800:\tlearn: 0.2675178\ttest: 0.2738016\tbest: 0.2737805 (799)\ttotal: 7.31s\tremaining: 1m 23s\n",
            "900:\tlearn: 0.2656765\ttest: 0.2734972\tbest: 0.2734776 (887)\ttotal: 8.52s\tremaining: 1m 26s\n",
            "1000:\tlearn: 0.2638117\ttest: 0.2732206\tbest: 0.2732124 (999)\ttotal: 9.22s\tremaining: 1m 22s\n",
            "1100:\tlearn: 0.2618921\ttest: 0.2730448\tbest: 0.2730289 (1097)\ttotal: 9.92s\tremaining: 1m 20s\n",
            "1200:\tlearn: 0.2601736\ttest: 0.2730225\tbest: 0.2730225 (1200)\ttotal: 10.6s\tremaining: 1m 17s\n",
            "1300:\tlearn: 0.2586279\ttest: 0.2731067\tbest: 0.2730058 (1210)\ttotal: 11.3s\tremaining: 1m 15s\n",
            "Stopped by overfitting detector  (100 iterations wait)\n",
            "\n",
            "bestTest = 0.2730058233\n",
            "bestIteration = 1210\n",
            "\n",
            "Shrink model to first 1211 iterations.\n",
            "F1 score: 0.4858299595141701\n",
            "Gt Stats: Counter({0: 2021, 1: 331})\n",
            "Pr Stats: Counter({0: 2189, 1: 163})\n",
            "              precision    recall  f1-score   support\n",
            "\n",
            "          No       0.90      0.98      0.94      2021\n",
            "         Yes       0.74      0.36      0.49       331\n",
            "\n",
            "    accuracy                           0.89      2352\n",
            "   macro avg       0.82      0.67      0.71      2352\n",
            "weighted avg       0.88      0.89      0.88      2352\n",
            "\n",
            "-----------------------------------\n",
            "\n",
            "-------------------- XGBClassifier(base_score=None, booster=None, callbacks=None,\n",
            "              colsample_bylevel=None, colsample_bynode=None,\n",
            "              colsample_bytree=None, early_stopping_rounds=None,\n",
            "              enable_categorical=False, eval_metric=None, feature_types=None,\n",
            "              gamma=None, gpu_id=None, grow_policy=None, importance_type=None,\n",
            "              interaction_constraints=None, learning_rate=0.01, max_bin=None,\n",
            "              max_cat_threshold=None, max_cat_to_onehot=None,\n",
            "              max_delta_step=None, max_depth=None, max_leaves=None,\n",
            "              min_child_weight=None, missing=nan, monotone_constraints=None,\n",
            "              n_estimators=10000, n_jobs=None, num_parallel_tree=None,\n",
            "              predictor=None, random_state=None, ...) --------------------\n",
            "[0]\tvalidation_0-logloss:0.68680\n",
            "[100]\tvalidation_0-logloss:0.38576\n",
            "[200]\tvalidation_0-logloss:0.31135\n",
            "[300]\tvalidation_0-logloss:0.28748\n",
            "[400]\tvalidation_0-logloss:0.27885\n",
            "[500]\tvalidation_0-logloss:0.27618\n",
            "[600]\tvalidation_0-logloss:0.27476\n",
            "[700]\tvalidation_0-logloss:0.27402\n",
            "[800]\tvalidation_0-logloss:0.27341\n",
            "[900]\tvalidation_0-logloss:0.27317\n",
            "[1000]\tvalidation_0-logloss:0.27314\n",
            "[1059]\tvalidation_0-logloss:0.27324\n",
            "F1 score: 0.45901639344262296\n",
            "Gt Stats: Counter({0: 2021, 1: 331})\n",
            "Pr Stats: Counter({0: 2195, 1: 157})\n",
            "              precision    recall  f1-score   support\n",
            "\n",
            "          No       0.90      0.98      0.94      2021\n",
            "         Yes       0.71      0.34      0.46       331\n",
            "\n",
            "    accuracy                           0.89      2352\n",
            "   macro avg       0.81      0.66      0.70      2352\n",
            "weighted avg       0.87      0.89      0.87      2352\n",
            "\n",
            "-----------------------------------\n",
            "\n",
            "***********************************\n",
            "\n",
            "***********************************\n",
            "Fold 5\n",
            "-------------------- LGBMClassifier(learning_rate=0.01, n_estimators=10000) --------------------\n",
            "[100]\tvalid_0's binary_logloss: 0.307084\n",
            "[200]\tvalid_0's binary_logloss: 0.285534\n",
            "[300]\tvalid_0's binary_logloss: 0.278186\n",
            "[400]\tvalid_0's binary_logloss: 0.275903\n",
            "[500]\tvalid_0's binary_logloss: 0.275778\n",
            "F1 score: 0.44863731656184486\n",
            "Gt Stats: Counter({0: 2021, 1: 331})\n",
            "Pr Stats: Counter({0: 2206, 1: 146})\n",
            "              precision    recall  f1-score   support\n",
            "\n",
            "          No       0.90      0.98      0.94      2021\n",
            "         Yes       0.73      0.32      0.45       331\n",
            "\n",
            "    accuracy                           0.89      2352\n",
            "   macro avg       0.82      0.65      0.69      2352\n",
            "weighted avg       0.88      0.89      0.87      2352\n",
            "\n",
            "-----------------------------------\n",
            "\n",
            "-------------------- <catboost.core.CatBoostClassifier object at 0x7f8e1cb01490> --------------------\n",
            "0:\tlearn: 0.6826742\ttest: 0.6826920\tbest: 0.6826920 (0)\ttotal: 14.5ms\tremaining: 2m 25s\n",
            "100:\tlearn: 0.3433978\ttest: 0.3424839\tbest: 0.3424839 (100)\ttotal: 1.04s\tremaining: 1m 41s\n",
            "200:\tlearn: 0.2977499\ttest: 0.2973385\tbest: 0.2973385 (200)\ttotal: 3.04s\tremaining: 2m 28s\n",
            "300:\tlearn: 0.2849053\ttest: 0.2856866\tbest: 0.2856866 (300)\ttotal: 4.4s\tremaining: 2m 21s\n",
            "400:\tlearn: 0.2786316\ttest: 0.2808044\tbest: 0.2808044 (400)\ttotal: 5.1s\tremaining: 2m 2s\n",
            "500:\tlearn: 0.2748620\ttest: 0.2783480\tbest: 0.2783480 (500)\ttotal: 5.79s\tremaining: 1m 49s\n",
            "600:\tlearn: 0.2721369\ttest: 0.2769336\tbest: 0.2769336 (600)\ttotal: 6.5s\tremaining: 1m 41s\n",
            "700:\tlearn: 0.2698650\ttest: 0.2761201\tbest: 0.2761201 (700)\ttotal: 7.2s\tremaining: 1m 35s\n",
            "800:\tlearn: 0.2678498\ttest: 0.2754253\tbest: 0.2754253 (800)\ttotal: 7.89s\tremaining: 1m 30s\n",
            "900:\tlearn: 0.2661118\ttest: 0.2749608\tbest: 0.2749520 (890)\ttotal: 8.59s\tremaining: 1m 26s\n",
            "1000:\tlearn: 0.2643402\ttest: 0.2746185\tbest: 0.2746185 (1000)\ttotal: 9.29s\tremaining: 1m 23s\n",
            "1100:\tlearn: 0.2625937\ttest: 0.2745783\tbest: 0.2745670 (1094)\ttotal: 9.97s\tremaining: 1m 20s\n",
            "Stopped by overfitting detector  (100 iterations wait)\n",
            "\n",
            "bestTest = 0.2745669956\n",
            "bestIteration = 1094\n",
            "\n",
            "Shrink model to first 1095 iterations.\n",
            "F1 score: 0.4303797468354431\n",
            "Gt Stats: Counter({0: 2021, 1: 331})\n",
            "Pr Stats: Counter({0: 2209, 1: 143})\n",
            "              precision    recall  f1-score   support\n",
            "\n",
            "          No       0.90      0.98      0.94      2021\n",
            "         Yes       0.71      0.31      0.43       331\n",
            "\n",
            "    accuracy                           0.89      2352\n",
            "   macro avg       0.80      0.64      0.68      2352\n",
            "weighted avg       0.87      0.89      0.86      2352\n",
            "\n",
            "-----------------------------------\n",
            "\n",
            "-------------------- XGBClassifier(base_score=None, booster=None, callbacks=None,\n",
            "              colsample_bylevel=None, colsample_bynode=None,\n",
            "              colsample_bytree=None, early_stopping_rounds=None,\n",
            "              enable_categorical=False, eval_metric=None, feature_types=None,\n",
            "              gamma=None, gpu_id=None, grow_policy=None, importance_type=None,\n",
            "              interaction_constraints=None, learning_rate=0.01, max_bin=None,\n",
            "              max_cat_threshold=None, max_cat_to_onehot=None,\n",
            "              max_delta_step=None, max_depth=None, max_leaves=None,\n",
            "              min_child_weight=None, missing=nan, monotone_constraints=None,\n",
            "              n_estimators=10000, n_jobs=None, num_parallel_tree=None,\n",
            "              predictor=None, random_state=None, ...) --------------------\n",
            "[0]\tvalidation_0-logloss:0.68684\n",
            "[100]\tvalidation_0-logloss:0.38737\n",
            "[200]\tvalidation_0-logloss:0.31226\n",
            "[300]\tvalidation_0-logloss:0.28786\n",
            "[400]\tvalidation_0-logloss:0.28015\n",
            "[500]\tvalidation_0-logloss:0.27725\n",
            "[600]\tvalidation_0-logloss:0.27557\n",
            "[700]\tvalidation_0-logloss:0.27500\n",
            "[800]\tvalidation_0-logloss:0.27499\n",
            "[870]\tvalidation_0-logloss:0.27504\n",
            "F1 score: 0.4634655532359081\n",
            "Gt Stats: Counter({0: 2021, 1: 331})\n",
            "Pr Stats: Counter({0: 2204, 1: 148})\n",
            "              precision    recall  f1-score   support\n",
            "\n",
            "          No       0.90      0.98      0.94      2021\n",
            "         Yes       0.75      0.34      0.46       331\n",
            "\n",
            "    accuracy                           0.89      2352\n",
            "   macro avg       0.83      0.66      0.70      2352\n",
            "weighted avg       0.88      0.89      0.87      2352\n",
            "\n",
            "-----------------------------------\n",
            "\n",
            "***********************************\n",
            "\n",
            "***********************************\n",
            "Fold 6\n",
            "-------------------- LGBMClassifier(learning_rate=0.01, n_estimators=10000) --------------------\n",
            "[100]\tvalid_0's binary_logloss: 0.311891\n",
            "[200]\tvalid_0's binary_logloss: 0.29234\n",
            "[300]\tvalid_0's binary_logloss: 0.286812\n",
            "[400]\tvalid_0's binary_logloss: 0.284828\n",
            "[500]\tvalid_0's binary_logloss: 0.284311\n",
            "F1 score: 0.4543610547667343\n",
            "Gt Stats: Counter({0: 2021, 1: 331})\n",
            "Pr Stats: Counter({0: 2190, 1: 162})\n",
            "              precision    recall  f1-score   support\n",
            "\n",
            "          No       0.90      0.98      0.94      2021\n",
            "         Yes       0.69      0.34      0.45       331\n",
            "\n",
            "    accuracy                           0.89      2352\n",
            "   macro avg       0.80      0.66      0.70      2352\n",
            "weighted avg       0.87      0.89      0.87      2352\n",
            "\n",
            "-----------------------------------\n",
            "\n",
            "-------------------- <catboost.core.CatBoostClassifier object at 0x7f8e2d1fecd0> --------------------\n",
            "0:\tlearn: 0.6825842\ttest: 0.6825753\tbest: 0.6825753 (0)\ttotal: 6.55ms\tremaining: 1m 5s\n",
            "100:\tlearn: 0.3398895\ttest: 0.3440375\tbest: 0.3440375 (100)\ttotal: 717ms\tremaining: 1m 10s\n",
            "200:\tlearn: 0.2959312\ttest: 0.3033911\tbest: 0.3033911 (200)\ttotal: 1.43s\tremaining: 1m 9s\n",
            "300:\tlearn: 0.2835900\ttest: 0.2930506\tbest: 0.2930506 (300)\ttotal: 2.13s\tremaining: 1m 8s\n",
            "400:\tlearn: 0.2775159\ttest: 0.2889155\tbest: 0.2889155 (400)\ttotal: 2.83s\tremaining: 1m 7s\n",
            "500:\tlearn: 0.2738628\ttest: 0.2867119\tbest: 0.2867119 (500)\ttotal: 4.21s\tremaining: 1m 19s\n",
            "600:\tlearn: 0.2711269\ttest: 0.2853978\tbest: 0.2853978 (600)\ttotal: 6.19s\tremaining: 1m 36s\n",
            "700:\tlearn: 0.2687188\ttest: 0.2846516\tbest: 0.2846318 (699)\ttotal: 7.15s\tremaining: 1m 34s\n",
            "800:\tlearn: 0.2666165\ttest: 0.2840925\tbest: 0.2840925 (800)\ttotal: 7.85s\tremaining: 1m 30s\n",
            "900:\tlearn: 0.2647799\ttest: 0.2837688\tbest: 0.2837688 (900)\ttotal: 8.55s\tremaining: 1m 26s\n",
            "1000:\tlearn: 0.2630132\ttest: 0.2836889\tbest: 0.2836675 (999)\ttotal: 9.25s\tremaining: 1m 23s\n",
            "1100:\tlearn: 0.2612461\ttest: 0.2836100\tbest: 0.2835358 (1025)\ttotal: 9.95s\tremaining: 1m 20s\n",
            "Stopped by overfitting detector  (100 iterations wait)\n",
            "\n",
            "bestTest = 0.2835357555\n",
            "bestIteration = 1025\n",
            "\n",
            "Shrink model to first 1026 iterations.\n",
            "F1 score: 0.45081967213114754\n",
            "Gt Stats: Counter({0: 2021, 1: 331})\n",
            "Pr Stats: Counter({0: 2195, 1: 157})\n",
            "              precision    recall  f1-score   support\n",
            "\n",
            "          No       0.90      0.98      0.94      2021\n",
            "         Yes       0.70      0.33      0.45       331\n",
            "\n",
            "    accuracy                           0.89      2352\n",
            "   macro avg       0.80      0.65      0.69      2352\n",
            "weighted avg       0.87      0.89      0.87      2352\n",
            "\n",
            "-----------------------------------\n",
            "\n",
            "-------------------- XGBClassifier(base_score=None, booster=None, callbacks=None,\n",
            "              colsample_bylevel=None, colsample_bynode=None,\n",
            "              colsample_bytree=None, early_stopping_rounds=None,\n",
            "              enable_categorical=False, eval_metric=None, feature_types=None,\n",
            "              gamma=None, gpu_id=None, grow_policy=None, importance_type=None,\n",
            "              interaction_constraints=None, learning_rate=0.01, max_bin=None,\n",
            "              max_cat_threshold=None, max_cat_to_onehot=None,\n",
            "              max_delta_step=None, max_depth=None, max_leaves=None,\n",
            "              min_child_weight=None, missing=nan, monotone_constraints=None,\n",
            "              n_estimators=10000, n_jobs=None, num_parallel_tree=None,\n",
            "              predictor=None, random_state=None, ...) --------------------\n",
            "[0]\tvalidation_0-logloss:0.68685\n",
            "[100]\tvalidation_0-logloss:0.39129\n",
            "[200]\tvalidation_0-logloss:0.31981\n",
            "[300]\tvalidation_0-logloss:0.29833\n",
            "[400]\tvalidation_0-logloss:0.29088\n",
            "[500]\tvalidation_0-logloss:0.28766\n",
            "[600]\tvalidation_0-logloss:0.28664\n",
            "[700]\tvalidation_0-logloss:0.28661\n",
            "[732]\tvalidation_0-logloss:0.28655\n",
            "F1 score: 0.4356846473029046\n",
            "Gt Stats: Counter({0: 2021, 1: 331})\n",
            "Pr Stats: Counter({0: 2201, 1: 151})\n",
            "              precision    recall  f1-score   support\n",
            "\n",
            "          No       0.90      0.98      0.94      2021\n",
            "         Yes       0.70      0.32      0.44       331\n",
            "\n",
            "    accuracy                           0.88      2352\n",
            "   macro avg       0.80      0.65      0.69      2352\n",
            "weighted avg       0.87      0.88      0.87      2352\n",
            "\n",
            "-----------------------------------\n",
            "\n",
            "***********************************\n",
            "\n",
            "***********************************\n",
            "Fold 7\n",
            "-------------------- LGBMClassifier(learning_rate=0.01, n_estimators=10000) --------------------\n",
            "[100]\tvalid_0's binary_logloss: 0.316045\n",
            "[200]\tvalid_0's binary_logloss: 0.297454\n",
            "[300]\tvalid_0's binary_logloss: 0.29227\n",
            "[400]\tvalid_0's binary_logloss: 0.289523\n",
            "[500]\tvalid_0's binary_logloss: 0.288147\n",
            "[600]\tvalid_0's binary_logloss: 0.287939\n",
            "F1 score: 0.4811133200795229\n",
            "Gt Stats: Counter({0: 2021, 1: 331})\n",
            "Pr Stats: Counter({0: 2180, 1: 172})\n",
            "              precision    recall  f1-score   support\n",
            "\n",
            "          No       0.90      0.97      0.94      2021\n",
            "         Yes       0.70      0.37      0.48       331\n",
            "\n",
            "    accuracy                           0.89      2352\n",
            "   macro avg       0.80      0.67      0.71      2352\n",
            "weighted avg       0.88      0.89      0.87      2352\n",
            "\n",
            "-----------------------------------\n",
            "\n",
            "-------------------- <catboost.core.CatBoostClassifier object at 0x7f8e1cb69700> --------------------\n",
            "0:\tlearn: 0.6826044\ttest: 0.6828398\tbest: 0.6828398 (0)\ttotal: 6.97ms\tremaining: 1m 9s\n",
            "100:\tlearn: 0.3405930\ttest: 0.3477351\tbest: 0.3477351 (100)\ttotal: 1.56s\tremaining: 2m 33s\n",
            "200:\tlearn: 0.2956404\ttest: 0.3058512\tbest: 0.3058512 (200)\ttotal: 3.63s\tremaining: 2m 56s\n",
            "300:\tlearn: 0.2829169\ttest: 0.2955220\tbest: 0.2955220 (300)\ttotal: 4.44s\tremaining: 2m 23s\n",
            "400:\tlearn: 0.2770514\ttest: 0.2915409\tbest: 0.2915409 (400)\ttotal: 5.18s\tremaining: 2m 3s\n",
            "500:\tlearn: 0.2733806\ttest: 0.2894599\tbest: 0.2894599 (500)\ttotal: 5.91s\tremaining: 1m 52s\n",
            "600:\tlearn: 0.2707133\ttest: 0.2884280\tbest: 0.2884280 (600)\ttotal: 6.64s\tremaining: 1m 43s\n",
            "700:\tlearn: 0.2685590\ttest: 0.2879188\tbest: 0.2878892 (698)\ttotal: 7.34s\tremaining: 1m 37s\n",
            "800:\tlearn: 0.2666122\ttest: 0.2873712\tbest: 0.2873712 (800)\ttotal: 8.07s\tremaining: 1m 32s\n",
            "900:\tlearn: 0.2647668\ttest: 0.2870400\tbest: 0.2870343 (889)\ttotal: 8.81s\tremaining: 1m 29s\n",
            "1000:\tlearn: 0.2629723\ttest: 0.2868301\tbest: 0.2868125 (975)\ttotal: 9.53s\tremaining: 1m 25s\n",
            "1100:\tlearn: 0.2611843\ttest: 0.2868043\tbest: 0.2867567 (1085)\ttotal: 10.3s\tremaining: 1m 22s\n",
            "1200:\tlearn: 0.2596461\ttest: 0.2867913\tbest: 0.2867398 (1151)\ttotal: 11s\tremaining: 1m 20s\n",
            "Stopped by overfitting detector  (100 iterations wait)\n",
            "\n",
            "bestTest = 0.286739832\n",
            "bestIteration = 1151\n",
            "\n",
            "Shrink model to first 1152 iterations.\n",
            "F1 score: 0.46558704453441296\n",
            "Gt Stats: Counter({0: 2021, 1: 331})\n",
            "Pr Stats: Counter({0: 2189, 1: 163})\n",
            "              precision    recall  f1-score   support\n",
            "\n",
            "          No       0.90      0.98      0.94      2021\n",
            "         Yes       0.71      0.35      0.47       331\n",
            "\n",
            "    accuracy                           0.89      2352\n",
            "   macro avg       0.80      0.66      0.70      2352\n",
            "weighted avg       0.87      0.89      0.87      2352\n",
            "\n",
            "-----------------------------------\n",
            "\n",
            "-------------------- XGBClassifier(base_score=None, booster=None, callbacks=None,\n",
            "              colsample_bylevel=None, colsample_bynode=None,\n",
            "              colsample_bytree=None, early_stopping_rounds=None,\n",
            "              enable_categorical=False, eval_metric=None, feature_types=None,\n",
            "              gamma=None, gpu_id=None, grow_policy=None, importance_type=None,\n",
            "              interaction_constraints=None, learning_rate=0.01, max_bin=None,\n",
            "              max_cat_threshold=None, max_cat_to_onehot=None,\n",
            "              max_delta_step=None, max_depth=None, max_leaves=None,\n",
            "              min_child_weight=None, missing=nan, monotone_constraints=None,\n",
            "              n_estimators=10000, n_jobs=None, num_parallel_tree=None,\n",
            "              predictor=None, random_state=None, ...) --------------------\n",
            "[0]\tvalidation_0-logloss:0.68692\n",
            "[100]\tvalidation_0-logloss:0.39280\n",
            "[200]\tvalidation_0-logloss:0.32342\n",
            "[300]\tvalidation_0-logloss:0.30250\n",
            "[400]\tvalidation_0-logloss:0.29487\n",
            "[500]\tvalidation_0-logloss:0.29205\n",
            "[600]\tvalidation_0-logloss:0.29002\n",
            "[700]\tvalidation_0-logloss:0.28944\n",
            "[800]\tvalidation_0-logloss:0.28941\n",
            "[900]\tvalidation_0-logloss:0.28924\n",
            "[1000]\tvalidation_0-logloss:0.28930\n",
            "[1007]\tvalidation_0-logloss:0.28932\n",
            "F1 score: 0.47082494969818917\n",
            "Gt Stats: Counter({0: 2021, 1: 331})\n",
            "Pr Stats: Counter({0: 2186, 1: 166})\n",
            "              precision    recall  f1-score   support\n",
            "\n",
            "          No       0.90      0.98      0.94      2021\n",
            "         Yes       0.70      0.35      0.47       331\n",
            "\n",
            "    accuracy                           0.89      2352\n",
            "   macro avg       0.80      0.66      0.70      2352\n",
            "weighted avg       0.87      0.89      0.87      2352\n",
            "\n",
            "-----------------------------------\n",
            "\n",
            "***********************************\n",
            "\n",
            "***********************************\n",
            "Fold 8\n",
            "-------------------- LGBMClassifier(learning_rate=0.01, n_estimators=10000) --------------------\n",
            "[100]\tvalid_0's binary_logloss: 0.309536\n",
            "[200]\tvalid_0's binary_logloss: 0.288766\n",
            "[300]\tvalid_0's binary_logloss: 0.281028\n",
            "[400]\tvalid_0's binary_logloss: 0.278949\n",
            "[500]\tvalid_0's binary_logloss: 0.278803\n",
            "[600]\tvalid_0's binary_logloss: 0.278343\n",
            "[700]\tvalid_0's binary_logloss: 0.277944\n",
            "[800]\tvalid_0's binary_logloss: 0.277657\n",
            "[900]\tvalid_0's binary_logloss: 0.277689\n",
            "F1 score: 0.5058365758754865\n",
            "Gt Stats: Counter({0: 2021, 1: 331})\n",
            "Pr Stats: Counter({0: 2169, 1: 183})\n",
            "              precision    recall  f1-score   support\n",
            "\n",
            "          No       0.91      0.97      0.94      2021\n",
            "         Yes       0.71      0.39      0.51       331\n",
            "\n",
            "    accuracy                           0.89      2352\n",
            "   macro avg       0.81      0.68      0.72      2352\n",
            "weighted avg       0.88      0.89      0.88      2352\n",
            "\n",
            "-----------------------------------\n",
            "\n",
            "-------------------- <catboost.core.CatBoostClassifier object at 0x7f8e1e5a7430> --------------------\n",
            "0:\tlearn: 0.6826128\ttest: 0.6825662\tbest: 0.6825662 (0)\ttotal: 6.59ms\tremaining: 1m 5s\n",
            "100:\tlearn: 0.3401983\ttest: 0.3424568\tbest: 0.3424568 (100)\ttotal: 729ms\tremaining: 1m 11s\n",
            "200:\tlearn: 0.2966242\ttest: 0.3015619\tbest: 0.3015619 (200)\ttotal: 1.47s\tremaining: 1m 11s\n",
            "300:\tlearn: 0.2838226\ttest: 0.2906139\tbest: 0.2906139 (300)\ttotal: 2.21s\tremaining: 1m 11s\n",
            "400:\tlearn: 0.2778497\ttest: 0.2860311\tbest: 0.2860311 (400)\ttotal: 2.96s\tremaining: 1m 10s\n",
            "500:\tlearn: 0.2740327\ttest: 0.2837086\tbest: 0.2837086 (500)\ttotal: 3.7s\tremaining: 1m 10s\n",
            "600:\tlearn: 0.2712656\ttest: 0.2821683\tbest: 0.2821661 (599)\ttotal: 4.43s\tremaining: 1m 9s\n",
            "700:\tlearn: 0.2690688\ttest: 0.2811930\tbest: 0.2811930 (700)\ttotal: 5.14s\tremaining: 1m 8s\n",
            "800:\tlearn: 0.2670442\ttest: 0.2803594\tbest: 0.2803594 (800)\ttotal: 5.86s\tremaining: 1m 7s\n",
            "900:\tlearn: 0.2652423\ttest: 0.2798635\tbest: 0.2798384 (893)\ttotal: 6.57s\tremaining: 1m 6s\n",
            "1000:\tlearn: 0.2634333\ttest: 0.2792961\tbest: 0.2792751 (996)\ttotal: 7.83s\tremaining: 1m 10s\n",
            "1100:\tlearn: 0.2617514\ttest: 0.2791231\tbest: 0.2790730 (1079)\ttotal: 9.72s\tremaining: 1m 18s\n",
            "1200:\tlearn: 0.2600579\ttest: 0.2790068\tbest: 0.2789739 (1184)\ttotal: 11s\tremaining: 1m 20s\n",
            "1300:\tlearn: 0.2584698\ttest: 0.2789158\tbest: 0.2789126 (1299)\ttotal: 11.7s\tremaining: 1m 18s\n",
            "1400:\tlearn: 0.2570565\ttest: 0.2789042\tbest: 0.2788351 (1351)\ttotal: 12.4s\tremaining: 1m 15s\n",
            "Stopped by overfitting detector  (100 iterations wait)\n",
            "\n",
            "bestTest = 0.2788351008\n",
            "bestIteration = 1351\n",
            "\n",
            "Shrink model to first 1352 iterations.\n",
            "F1 score: 0.4900398406374502\n",
            "Gt Stats: Counter({0: 2021, 1: 331})\n",
            "Pr Stats: Counter({0: 2181, 1: 171})\n",
            "              precision    recall  f1-score   support\n",
            "\n",
            "          No       0.90      0.98      0.94      2021\n",
            "         Yes       0.72      0.37      0.49       331\n",
            "\n",
            "    accuracy                           0.89      2352\n",
            "   macro avg       0.81      0.67      0.71      2352\n",
            "weighted avg       0.88      0.89      0.88      2352\n",
            "\n",
            "-----------------------------------\n",
            "\n",
            "-------------------- XGBClassifier(base_score=None, booster=None, callbacks=None,\n",
            "              colsample_bylevel=None, colsample_bynode=None,\n",
            "              colsample_bytree=None, early_stopping_rounds=None,\n",
            "              enable_categorical=False, eval_metric=None, feature_types=None,\n",
            "              gamma=None, gpu_id=None, grow_policy=None, importance_type=None,\n",
            "              interaction_constraints=None, learning_rate=0.01, max_bin=None,\n",
            "              max_cat_threshold=None, max_cat_to_onehot=None,\n",
            "              max_delta_step=None, max_depth=None, max_leaves=None,\n",
            "              min_child_weight=None, missing=nan, monotone_constraints=None,\n",
            "              n_estimators=10000, n_jobs=None, num_parallel_tree=None,\n",
            "              predictor=None, random_state=None, ...) --------------------\n",
            "[0]\tvalidation_0-logloss:0.68678\n",
            "[100]\tvalidation_0-logloss:0.38657\n",
            "[200]\tvalidation_0-logloss:0.31561\n",
            "[300]\tvalidation_0-logloss:0.29341\n",
            "[400]\tvalidation_0-logloss:0.28474\n",
            "[500]\tvalidation_0-logloss:0.28114\n",
            "[600]\tvalidation_0-logloss:0.27970\n",
            "[700]\tvalidation_0-logloss:0.27928\n",
            "[800]\tvalidation_0-logloss:0.27835\n",
            "[900]\tvalidation_0-logloss:0.27792\n",
            "[1000]\tvalidation_0-logloss:0.27793\n",
            "[1100]\tvalidation_0-logloss:0.27771\n",
            "[1200]\tvalidation_0-logloss:0.27785\n",
            "[1230]\tvalidation_0-logloss:0.27802\n",
            "F1 score: 0.49900990099009895\n",
            "Gt Stats: Counter({0: 2021, 1: 331})\n",
            "Pr Stats: Counter({0: 2178, 1: 174})\n",
            "              precision    recall  f1-score   support\n",
            "\n",
            "          No       0.91      0.98      0.94      2021\n",
            "         Yes       0.72      0.38      0.50       331\n",
            "\n",
            "    accuracy                           0.89      2352\n",
            "   macro avg       0.82      0.68      0.72      2352\n",
            "weighted avg       0.88      0.89      0.88      2352\n",
            "\n",
            "-----------------------------------\n",
            "\n",
            "***********************************\n",
            "\n",
            "***********************************\n",
            "Fold 9\n",
            "-------------------- LGBMClassifier(learning_rate=0.01, n_estimators=10000) --------------------\n",
            "[100]\tvalid_0's binary_logloss: 0.307426\n",
            "[200]\tvalid_0's binary_logloss: 0.286729\n",
            "[300]\tvalid_0's binary_logloss: 0.279434\n",
            "[400]\tvalid_0's binary_logloss: 0.277477\n",
            "[500]\tvalid_0's binary_logloss: 0.276794\n",
            "F1 score: 0.46122448979591835\n",
            "Gt Stats: Counter({0: 2021, 1: 331})\n",
            "Pr Stats: Counter({0: 2193, 1: 159})\n",
            "              precision    recall  f1-score   support\n",
            "\n",
            "          No       0.90      0.98      0.94      2021\n",
            "         Yes       0.71      0.34      0.46       331\n",
            "\n",
            "    accuracy                           0.89      2352\n",
            "   macro avg       0.81      0.66      0.70      2352\n",
            "weighted avg       0.87      0.89      0.87      2352\n",
            "\n",
            "-----------------------------------\n",
            "\n",
            "-------------------- <catboost.core.CatBoostClassifier object at 0x7f8e1cbaec70> --------------------\n",
            "0:\tlearn: 0.6832342\ttest: 0.6831339\tbest: 0.6831339 (0)\ttotal: 6.74ms\tremaining: 1m 7s\n",
            "100:\tlearn: 0.3405761\ttest: 0.3393678\tbest: 0.3393678 (100)\ttotal: 723ms\tremaining: 1m 10s\n",
            "200:\tlearn: 0.2968720\ttest: 0.2964569\tbest: 0.2964569 (200)\ttotal: 1.46s\tremaining: 1m 11s\n",
            "300:\tlearn: 0.2843060\ttest: 0.2852329\tbest: 0.2852329 (300)\ttotal: 2.21s\tremaining: 1m 11s\n",
            "400:\tlearn: 0.2783906\ttest: 0.2807055\tbest: 0.2807032 (399)\ttotal: 2.93s\tremaining: 1m 10s\n",
            "500:\tlearn: 0.2748013\ttest: 0.2783406\tbest: 0.2783406 (500)\ttotal: 3.67s\tremaining: 1m 9s\n",
            "600:\tlearn: 0.2719584\ttest: 0.2770627\tbest: 0.2770616 (599)\ttotal: 4.41s\tremaining: 1m 8s\n",
            "700:\tlearn: 0.2696067\ttest: 0.2759815\tbest: 0.2759815 (700)\ttotal: 5.13s\tremaining: 1m 8s\n",
            "800:\tlearn: 0.2675459\ttest: 0.2753995\tbest: 0.2753995 (800)\ttotal: 5.86s\tremaining: 1m 7s\n",
            "900:\tlearn: 0.2657889\ttest: 0.2751240\tbest: 0.2751207 (889)\ttotal: 6.58s\tremaining: 1m 6s\n",
            "1000:\tlearn: 0.2639769\ttest: 0.2748636\tbest: 0.2748607 (999)\ttotal: 7.58s\tremaining: 1m 8s\n",
            "1100:\tlearn: 0.2621063\ttest: 0.2746984\tbest: 0.2746970 (1096)\ttotal: 9.65s\tremaining: 1m 18s\n",
            "1200:\tlearn: 0.2604016\ttest: 0.2746501\tbest: 0.2746343 (1196)\ttotal: 11.1s\tremaining: 1m 21s\n",
            "Stopped by overfitting detector  (100 iterations wait)\n",
            "\n",
            "bestTest = 0.2746343421\n",
            "bestIteration = 1196\n",
            "\n",
            "Shrink model to first 1197 iterations.\n",
            "F1 score: 0.4596273291925465\n",
            "Gt Stats: Counter({0: 2021, 1: 331})\n",
            "Pr Stats: Counter({0: 2200, 1: 152})\n",
            "              precision    recall  f1-score   support\n",
            "\n",
            "          No       0.90      0.98      0.94      2021\n",
            "         Yes       0.73      0.34      0.46       331\n",
            "\n",
            "    accuracy                           0.89      2352\n",
            "   macro avg       0.82      0.66      0.70      2352\n",
            "weighted avg       0.88      0.89      0.87      2352\n",
            "\n",
            "-----------------------------------\n",
            "\n",
            "-------------------- XGBClassifier(base_score=None, booster=None, callbacks=None,\n",
            "              colsample_bylevel=None, colsample_bynode=None,\n",
            "              colsample_bytree=None, early_stopping_rounds=None,\n",
            "              enable_categorical=False, eval_metric=None, feature_types=None,\n",
            "              gamma=None, gpu_id=None, grow_policy=None, importance_type=None,\n",
            "              interaction_constraints=None, learning_rate=0.01, max_bin=None,\n",
            "              max_cat_threshold=None, max_cat_to_onehot=None,\n",
            "              max_delta_step=None, max_depth=None, max_leaves=None,\n",
            "              min_child_weight=None, missing=nan, monotone_constraints=None,\n",
            "              n_estimators=10000, n_jobs=None, num_parallel_tree=None,\n",
            "              predictor=None, random_state=None, ...) --------------------\n",
            "[0]\tvalidation_0-logloss:0.68687\n",
            "[100]\tvalidation_0-logloss:0.38905\n",
            "[200]\tvalidation_0-logloss:0.31552\n",
            "[300]\tvalidation_0-logloss:0.29297\n",
            "[400]\tvalidation_0-logloss:0.28592\n",
            "[500]\tvalidation_0-logloss:0.28292\n",
            "[600]\tvalidation_0-logloss:0.28146\n",
            "[700]\tvalidation_0-logloss:0.28086\n",
            "[800]\tvalidation_0-logloss:0.28091\n",
            "[828]\tvalidation_0-logloss:0.28097\n",
            "F1 score: 0.4628099173553719\n",
            "Gt Stats: Counter({0: 2021, 1: 331})\n",
            "Pr Stats: Counter({0: 2199, 1: 153})\n",
            "              precision    recall  f1-score   support\n",
            "\n",
            "          No       0.90      0.98      0.94      2021\n",
            "         Yes       0.73      0.34      0.46       331\n",
            "\n",
            "    accuracy                           0.89      2352\n",
            "   macro avg       0.82      0.66      0.70      2352\n",
            "weighted avg       0.88      0.89      0.87      2352\n",
            "\n",
            "-----------------------------------\n",
            "\n",
            "***********************************\n",
            "\n",
            "Avg F1-Score:  0.47183281598029203\n"
          ]
        },
        {
          "output_type": "display_data",
          "data": {
            "text/plain": [
              "<Figure size 432x288 with 2 Axes>"
            ],
            "image/png": "[encoded data removed]"
          },
          "metadata": {
            "needs_background": "light"
          }
        },
        {
          "output_type": "display_data",
          "data": {
            "text/plain": [
              "<Figure size 432x288 with 2 Axes>"
            ],
            "image/png": "[encoded data removed]"
          },
          "metadata": {
            "needs_background": "light"
          }
        },
        {
          "output_type": "display_data",
          "data": {
            "text/plain": [
              "<Figure size 432x288 with 2 Axes>"
            ],
            "image/png": "[encoded data removed]"
          },
          "metadata": {
            "needs_background": "light"
          }
        },
        {
          "output_type": "display_data",
          "data": {
            "text/plain": [
              "<Figure size 432x288 with 2 Axes>"
            ],
            "image/png": "[encoded data removed]"
          },
          "metadata": {
            "needs_background": "light"
          }
        },
        {
          "output_type": "display_data",
          "data": {
            "text/plain": [
              "<Figure size 432x288 with 2 Axes>"
            ],
            "image/png": "[encoded data removed]"
          },
          "metadata": {
            "needs_background": "light"
          }
        },
        {
          "output_type": "display_data",
          "data": {
            "text/plain": [
              "<Figure size 432x288 with 2 Axes>"
            ],
            "image/png": "[encoded data removed]"
          },
          "metadata": {
            "needs_background": "light"
          }
        },
        {
          "output_type": "display_data",
          "data": {
            "text/plain": [
              "<Figure size 432x288 with 2 Axes>"
            ],
            "image/png": "[encoded data removed]"
          },
          "metadata": {
            "needs_background": "light"
          }
        },
        {
          "output_type": "display_data",
          "data": {
            "text/plain": [
              "<Figure size 432x288 with 2 Axes>"
            ],
            "image/png": "[encoded data removed]"
          },
          "metadata": {
            "needs_background": "light"
          }
        },
        {
          "output_type": "display_data",
          "data": {
            "text/plain": [
              "<Figure size 432x288 with 2 Axes>"
            ],
            "image/png": "[encoded data removed]"
          },
          "metadata": {
            "needs_background": "light"
          }
        },
        {
          "output_type": "display_data",
          "data": {
            "text/plain": [
              "<Figure size 432x288 with 2 Axes>"
            ],
            "image/png": "[encoded data removed]"
          },
          "metadata": {
            "needs_background": "light"
          }
        },
        {
          "output_type": "display_data",
          "data": {
            "text/plain": [
              "<Figure size 432x288 with 2 Axes>"
            ],
            "image/png": "[encoded data removed]"
          },
          "metadata": {
            "needs_background": "light"
          }
        },
        {
          "output_type": "display_data",
          "data": {
            "text/plain": [
              "<Figure size 432x288 with 2 Axes>"
            ],
            "image/png": "[encoded data removed]"
          },
          "metadata": {
            "needs_background": "light"
          }
        },
        {
          "output_type": "display_data",
          "data": {
            "text/plain": [
              "<Figure size 432x288 with 2 Axes>"
            ],
            "image/png": "[encoded data removed]"
          },
          "metadata": {
            "needs_background": "light"
          }
        },
        {
          "output_type": "display_data",
          "data": {
            "text/plain": [
              "<Figure size 432x288 with 2 Axes>"
            ],
            "image/png": "[encoded data removed]"
          },
          "metadata": {
            "needs_background": "light"
          }
        },
        {
          "output_type": "display_data",
          "data": {
            "text/plain": [
              "<Figure size 432x288 with 2 Axes>"
            ],
            "image/png": "[encoded data removed]"
          },
          "metadata": {
            "needs_background": "light"
          }
        },
        {
          "output_type": "display_data",
          "data": {
            "text/plain": [
              "<Figure size 432x288 with 2 Axes>"
            ],
            "image/png": "[encoded data removed]"
          },
          "metadata": {
            "needs_background": "light"
          }
        },
        {
          "output_type": "display_data",
          "data": {
            "text/plain": [
              "<Figure size 432x288 with 2 Axes>"
            ],
            "image/png": "[encoded data removed]"
          },
          "metadata": {
            "needs_background": "light"
          }
        },
        {
          "output_type": "display_data",
          "data": {
            "text/plain": [
              "<Figure size 432x288 with 2 Axes>"
            ],
            "image/png": "[encoded data removed]"
          },
          "metadata": {
            "needs_background": "light"
          }
        },
        {
          "output_type": "display_data",
          "data": {
            "text/plain": [
              "<Figure size 432x288 with 2 Axes>"
            ],
            "image/png": "[encoded data removed]"
          },
          "metadata": {
            "needs_background": "light"
          }
        },
        {
          "output_type": "display_data",
          "data": {
            "text/plain": [
              "<Figure size 432x288 with 2 Axes>"
            ],
            "image/png": "[encoded data removed]"
          },
          "metadata": {
            "needs_background": "light"
          }
        },
        {
          "output_type": "display_data",
          "data": {
            "text/plain": [
              "<Figure size 432x288 with 2 Axes>"
            ],
            "image/png": "[encoded data removed]"
          },
          "metadata": {
            "needs_background": "light"
          }
        },
        {
          "output_type": "display_data",
          "data": {
            "text/plain": [
              "<Figure size 432x288 with 2 Axes>"
            ],
            "image/png": "[encoded data removed]"
          },
          "metadata": {
            "needs_background": "light"
          }
        },
        {
          "output_type": "display_data",
          "data": {
            "text/plain": [
              "<Figure size 432x288 with 2 Axes>"
            ],
            "image/png": "[encoded data removed]"
          },
          "metadata": {
            "needs_background": "light"
          }
        },
        {
          "output_type": "display_data",
          "data": {
            "text/plain": [
              "<Figure size 432x288 with 2 Axes>"
            ],
            "image/png": "[encoded data removed]"
          },
          "metadata": {
            "needs_background": "light"
          }
        },
        {
          "output_type": "display_data",
          "data": {
            "text/plain": [
              "<Figure size 432x288 with 2 Axes>"
            ],
            "image/png": "[encoded data removed]"
          },
          "metadata": {
            "needs_background": "light"
          }
        },
        {
          "output_type": "display_data",
          "data": {
            "text/plain": [
              "<Figure size 432x288 with 2 Axes>"
            ],
            "image/png": "[encoded data removed]"
          },
          "metadata": {
            "needs_background": "light"
          }
        },
        {
          "output_type": "display_data",
          "data": {
            "text/plain": [
              "<Figure size 432x288 with 2 Axes>"
            ],
            "image/png": "[encoded data removed]"
          },
          "metadata": {
            "needs_background": "light"
          }
        },
        {
          "output_type": "display_data",
          "data": {
            "text/plain": [
              "<Figure size 432x288 with 2 Axes>"
            ],
            "image/png": "[encoded data removed]"
          },
          "metadata": {
            "needs_background": "light"
          }
        },
        {
          "output_type": "display_data",
          "data": {
            "text/plain": [
              "<Figure size 432x288 with 2 Axes>"
            ],
            "image/png": "[encoded data removed]"
          },
          "metadata": {
            "needs_background": "light"
          }
        },
        {
          "output_type": "display_data",
          "data": {
            "text/plain": [
              "<Figure size 432x288 with 2 Axes>"
            ],
            "image/png": "[encoded data removed]"
          },
          "metadata": {
            "needs_background": "light"
          }
        }
      ]
    },
    {
      "cell_type": "code",
      "source": [
        "# ConfusionMatrixDisplay.from_predictions(y_evalset, (pred[:, 1] >= thr).astype(int), display_labels=lb.classes_)\n"
      ],
      "metadata": {
        "id": "ew3d1AZ1sf3B"
      },
      "execution_count": null,
      "outputs": []
    },
    {
      "cell_type": "code",
      "source": [
        "# RocCurveDisplay.from_predictions(y_evalset, (pred[:, 1] >= thr).astype(int), )\n"
      ],
      "metadata": {
        "id": "Fh0tAl9XvVKk"
      },
      "execution_count": null,
      "outputs": []
    },
    {
      "cell_type": "markdown",
      "source": [
        "## Hyperparameters tuning \n",
        "\n",
        "Fine-tune the Top-k models (3 < k < 5) using a ` GridSearchCV`  (that is in sklearn.model_selection\n",
        ") to find the best hyperparameters and achieve the maximum performance of each of the Top-k models, then compare them again to select the best one."
      ],
      "metadata": {
        "id": "ezmrABneph31"
      }
    },
    {
      "cell_type": "code",
      "source": [
        "# Code here"
      ],
      "metadata": {
        "id": "FpTEDK9RrlRl"
      },
      "execution_count": null,
      "outputs": []
    },
    {
      "cell_type": "markdown",
      "source": [
        "# Export key components\n",
        "Here is the section to **export** the important ML objects that will be use to develop an app: *Encoder, Scaler, ColumnTransformer, Model, Pipeline, etc*."
      ],
      "metadata": {
        "id": "I_7_gsrX2VSk"
      }
    },
    {
      "cell_type": "code",
      "source": [
        "# Use pickle : put all your key components in a python dictionary and save it as a file that will be loaded in an app"
      ],
      "metadata": {
        "id": "32mviWyGAMqP"
      },
      "execution_count": null,
      "outputs": []
    },
    {
      "cell_type": "code",
      "source": [
        "# components = {\n",
        "#     \"num_imputer\": None,\n",
        "#     \"cat_imputer\": None,\n",
        "#     \"encoder\": None,\n",
        "#     \"scaler\": None,\n",
        "#     \"models\": models_trained,\n",
        "# }"
      ],
      "metadata": {
        "id": "iyvlwe5CQtiI"
      },
      "execution_count": null,
      "outputs": []
    },
    {
      "cell_type": "code",
      "source": [
        "# with open(\"ml.pkl\", \"wb\") as f :\n",
        "#     pickle.dump(components, f)"
      ],
      "metadata": {
        "id": "ThGHDenjRF9_"
      },
      "execution_count": null,
      "outputs": []
    },
    {
      "cell_type": "markdown",
      "source": [
        "# Submission\n"
      ],
      "metadata": {
        "id": "b3SZb9X0KtV5"
      }
    },
    {
      "cell_type": "code",
      "source": [
        "ss.head()"
      ],
      "metadata": {
        "colab": {
          "base_uri": "https://localhost:8080/",
          "height": 206
        },
        "id": "yqvbq-McLV6M",
        "outputId": "60bde7bb-462c-48e0-cdce-a455a2c44c5d"
      },
      "execution_count": null,
      "outputs": [
        {
          "output_type": "execute_result",
          "data": {
            "text/plain": [
              "            unique_id  bank_account\n",
              "0  uniqueid_1 x Kenya             0\n",
              "1  uniqueid_2 x Kenya             0\n",
              "2  uniqueid_3 x Kenya             0\n",
              "3  uniqueid_4 x Kenya             0\n",
              "4  uniqueid_5 x Kenya             0"
            ],
            "text/html": [
              "\n",
              "  <div id=\"df-2947a0cc-8691-4fa4-851e-0f0792cc9a20\">\n",
              "    <div class=\"colab-df-container\">\n",
              "      <div>\n",
              "<style scoped>\n",
              "    .dataframe tbody tr th:only-of-type {\n",
              "        vertical-align: middle;\n",
              "    }\n",
              "\n",
              "    .dataframe tbody tr th {\n",
              "        vertical-align: top;\n",
              "    }\n",
              "\n",
              "    .dataframe thead th {\n",
              "        text-align: right;\n",
              "    }\n",
              "</style>\n",
              "<table border=\"1\" class=\"dataframe\">\n",
              "  <thead>\n",
              "    <tr style=\"text-align: right;\">\n",
              "      <th></th>\n",
              "      <th>unique_id</th>\n",
              "      <th>bank_account</th>\n",
              "    </tr>\n",
              "  </thead>\n",
              "  <tbody>\n",
              "    <tr>\n",
              "      <th>0</th>\n",
              "      <td>uniqueid_1 x Kenya</td>\n",
              "      <td>0</td>\n",
              "    </tr>\n",
              "    <tr>\n",
              "      <th>1</th>\n",
              "      <td>uniqueid_2 x Kenya</td>\n",
              "      <td>0</td>\n",
              "    </tr>\n",
              "    <tr>\n",
              "      <th>2</th>\n",
              "      <td>uniqueid_3 x Kenya</td>\n",
              "      <td>0</td>\n",
              "    </tr>\n",
              "    <tr>\n",
              "      <th>3</th>\n",
              "      <td>uniqueid_4 x Kenya</td>\n",
              "      <td>0</td>\n",
              "    </tr>\n",
              "    <tr>\n",
              "      <th>4</th>\n",
              "      <td>uniqueid_5 x Kenya</td>\n",
              "      <td>0</td>\n",
              "    </tr>\n",
              "  </tbody>\n",
              "</table>\n",
              "</div>\n",
              "      <button class=\"colab-df-convert\" onclick=\"convertToInteractive('df-2947a0cc-8691-4fa4-851e-0f0792cc9a20')\"\n",
              "              title=\"Convert this dataframe to an interactive table.\"\n",
              "              style=\"display:none;\">\n",
              "        \n",
              "  <svg xmlns=\"http://www.w3.org/2000/svg\" height=\"24px\"viewBox=\"0 0 24 24\"\n",
              "       width=\"24px\">\n",
              "    <path d=\"M0 0h24v24H0V0z\" fill=\"none\"/>\n",
              "    <path d=\"M18.56 5.44l.94 2.06.94-2.06 2.06-.94-2.06-.94-.94-2.06-.94 2.06-2.06.94zm-11 1L8.5 8.5l.94-2.06 2.06-.94-2.06-.94L8.5 2.5l-.94 2.06-2.06.94zm10 10l.94 2.06.94-2.06 2.06-.94-2.06-.94-.94-2.06-.94 2.06-2.06.94z\"/><path d=\"M17.41 7.96l-1.37-1.37c-.4-.4-.92-.59-1.43-.59-.52 0-1.04.2-1.43.59L10.3 9.45l-7.72 7.72c-.78.78-.78 2.05 0 2.83L4 21.41c.39.39.9.59 1.41.59.51 0 1.02-.2 1.41-.59l7.78-7.78 2.81-2.81c.8-.78.8-2.07 0-2.86zM5.41 20L4 18.59l7.72-7.72 1.47 1.35L5.41 20z\"/>\n",
              "  </svg>\n",
              "      </button>\n",
              "      \n",
              "  <style>\n",
              "    .colab-df-container {\n",
              "      display:flex;\n",
              "      flex-wrap:wrap;\n",
              "      gap: 12px;\n",
              "    }\n",
              "\n",
              "    .colab-df-convert {\n",
              "      background-color: #E8F0FE;\n",
              "      border: none;\n",
              "      border-radius: 50%;\n",
              "      cursor: pointer;\n",
              "      display: none;\n",
              "      fill: #1967D2;\n",
              "      height: 32px;\n",
              "      padding: 0 0 0 0;\n",
              "      width: 32px;\n",
              "    }\n",
              "\n",
              "    .colab-df-convert:hover {\n",
              "      background-color: #E2EBFA;\n",
              "      box-shadow: 0px 1px 2px rgba(60, 64, 67, 0.3), 0px 1px 3px 1px rgba(60, 64, 67, 0.15);\n",
              "      fill: #174EA6;\n",
              "    }\n",
              "\n",
              "    [theme=dark] .colab-df-convert {\n",
              "      background-color: #3B4455;\n",
              "      fill: #D2E3FC;\n",
              "    }\n",
              "\n",
              "    [theme=dark] .colab-df-convert:hover {\n",
              "      background-color: #434B5C;\n",
              "      box-shadow: 0px 1px 3px 1px rgba(0, 0, 0, 0.15);\n",
              "      filter: drop-shadow(0px 1px 2px rgba(0, 0, 0, 0.3));\n",
              "      fill: #FFFFFF;\n",
              "    }\n",
              "  </style>\n",
              "\n",
              "      <script>\n",
              "        const buttonEl =\n",
              "          document.querySelector('#df-2947a0cc-8691-4fa4-851e-0f0792cc9a20 button.colab-df-convert');\n",
              "        buttonEl.style.display =\n",
              "          google.colab.kernel.accessAllowed ? 'block' : 'none';\n",
              "\n",
              "        async function convertToInteractive(key) {\n",
              "          const element = document.querySelector('#df-2947a0cc-8691-4fa4-851e-0f0792cc9a20');\n",
              "          const dataTable =\n",
              "            await google.colab.kernel.invokeFunction('convertToInteractive',\n",
              "                                                     [key], {});\n",
              "          if (!dataTable) return;\n",
              "\n",
              "          const docLinkHtml = 'Like what you see? Visit the ' +\n",
              "            '<a target=\"_blank\" href=https://colab.research.google.com/notebooks/data_table.ipynb>data table notebook</a>'\n",
              "            + ' to learn more about interactive tables.';\n",
              "          element.innerHTML = '';\n",
              "          dataTable['output_type'] = 'display_data';\n",
              "          await google.colab.output.renderOutput(dataTable, element);\n",
              "          const docLink = document.createElement('div');\n",
              "          docLink.innerHTML = docLinkHtml;\n",
              "          element.appendChild(docLink);\n",
              "        }\n",
              "      </script>\n",
              "    </div>\n",
              "  </div>\n",
              "  "
            ]
          },
          "metadata": {},
          "execution_count": 230
        }
      ]
    },
    {
      "cell_type": "code",
      "source": [
        "sub = pd.DataFrame()"
      ],
      "metadata": {
        "id": "Y1-Gfj3AL_B9"
      },
      "execution_count": null,
      "outputs": []
    },
    {
      "cell_type": "code",
      "source": [
        "sub[ss.columns[0]] = test['uniqueid'] + \" x \" + test['country'] \n",
        "sub.head()"
      ],
      "metadata": {
        "colab": {
          "base_uri": "https://localhost:8080/",
          "height": 206
        },
        "id": "eKtZGRDgLgIm",
        "outputId": "9c77b80e-bbba-4fb1-ad04-1a7035f3f697"
      },
      "execution_count": null,
      "outputs": [
        {
          "output_type": "execute_result",
          "data": {
            "text/plain": [
              "               unique_id\n",
              "0  uniqueid_6056 x Kenya\n",
              "1  uniqueid_6060 x Kenya\n",
              "2  uniqueid_6065 x Kenya\n",
              "3  uniqueid_6072 x Kenya\n",
              "4  uniqueid_6073 x Kenya"
            ],
            "text/html": [
              "\n",
              "  <div id=\"df-16c009fb-042f-4c38-b0ed-c85ddccfe34f\">\n",
              "    <div class=\"colab-df-container\">\n",
              "      <div>\n",
              "<style scoped>\n",
              "    .dataframe tbody tr th:only-of-type {\n",
              "        vertical-align: middle;\n",
              "    }\n",
              "\n",
              "    .dataframe tbody tr th {\n",
              "        vertical-align: top;\n",
              "    }\n",
              "\n",
              "    .dataframe thead th {\n",
              "        text-align: right;\n",
              "    }\n",
              "</style>\n",
              "<table border=\"1\" class=\"dataframe\">\n",
              "  <thead>\n",
              "    <tr style=\"text-align: right;\">\n",
              "      <th></th>\n",
              "      <th>unique_id</th>\n",
              "    </tr>\n",
              "  </thead>\n",
              "  <tbody>\n",
              "    <tr>\n",
              "      <th>0</th>\n",
              "      <td>uniqueid_6056 x Kenya</td>\n",
              "    </tr>\n",
              "    <tr>\n",
              "      <th>1</th>\n",
              "      <td>uniqueid_6060 x Kenya</td>\n",
              "    </tr>\n",
              "    <tr>\n",
              "      <th>2</th>\n",
              "      <td>uniqueid_6065 x Kenya</td>\n",
              "    </tr>\n",
              "    <tr>\n",
              "      <th>3</th>\n",
              "      <td>uniqueid_6072 x Kenya</td>\n",
              "    </tr>\n",
              "    <tr>\n",
              "      <th>4</th>\n",
              "      <td>uniqueid_6073 x Kenya</td>\n",
              "    </tr>\n",
              "  </tbody>\n",
              "</table>\n",
              "</div>\n",
              "      <button class=\"colab-df-convert\" onclick=\"convertToInteractive('df-16c009fb-042f-4c38-b0ed-c85ddccfe34f')\"\n",
              "              title=\"Convert this dataframe to an interactive table.\"\n",
              "              style=\"display:none;\">\n",
              "        \n",
              "  <svg xmlns=\"http://www.w3.org/2000/svg\" height=\"24px\"viewBox=\"0 0 24 24\"\n",
              "       width=\"24px\">\n",
              "    <path d=\"M0 0h24v24H0V0z\" fill=\"none\"/>\n",
              "    <path d=\"M18.56 5.44l.94 2.06.94-2.06 2.06-.94-2.06-.94-.94-2.06-.94 2.06-2.06.94zm-11 1L8.5 8.5l.94-2.06 2.06-.94-2.06-.94L8.5 2.5l-.94 2.06-2.06.94zm10 10l.94 2.06.94-2.06 2.06-.94-2.06-.94-.94-2.06-.94 2.06-2.06.94z\"/><path d=\"M17.41 7.96l-1.37-1.37c-.4-.4-.92-.59-1.43-.59-.52 0-1.04.2-1.43.59L10.3 9.45l-7.72 7.72c-.78.78-.78 2.05 0 2.83L4 21.41c.39.39.9.59 1.41.59.51 0 1.02-.2 1.41-.59l7.78-7.78 2.81-2.81c.8-.78.8-2.07 0-2.86zM5.41 20L4 18.59l7.72-7.72 1.47 1.35L5.41 20z\"/>\n",
              "  </svg>\n",
              "      </button>\n",
              "      \n",
              "  <style>\n",
              "    .colab-df-container {\n",
              "      display:flex;\n",
              "      flex-wrap:wrap;\n",
              "      gap: 12px;\n",
              "    }\n",
              "\n",
              "    .colab-df-convert {\n",
              "      background-color: #E8F0FE;\n",
              "      border: none;\n",
              "      border-radius: 50%;\n",
              "      cursor: pointer;\n",
              "      display: none;\n",
              "      fill: #1967D2;\n",
              "      height: 32px;\n",
              "      padding: 0 0 0 0;\n",
              "      width: 32px;\n",
              "    }\n",
              "\n",
              "    .colab-df-convert:hover {\n",
              "      background-color: #E2EBFA;\n",
              "      box-shadow: 0px 1px 2px rgba(60, 64, 67, 0.3), 0px 1px 3px 1px rgba(60, 64, 67, 0.15);\n",
              "      fill: #174EA6;\n",
              "    }\n",
              "\n",
              "    [theme=dark] .colab-df-convert {\n",
              "      background-color: #3B4455;\n",
              "      fill: #D2E3FC;\n",
              "    }\n",
              "\n",
              "    [theme=dark] .colab-df-convert:hover {\n",
              "      background-color: #434B5C;\n",
              "      box-shadow: 0px 1px 3px 1px rgba(0, 0, 0, 0.15);\n",
              "      filter: drop-shadow(0px 1px 2px rgba(0, 0, 0, 0.3));\n",
              "      fill: #FFFFFF;\n",
              "    }\n",
              "  </style>\n",
              "\n",
              "      <script>\n",
              "        const buttonEl =\n",
              "          document.querySelector('#df-16c009fb-042f-4c38-b0ed-c85ddccfe34f button.colab-df-convert');\n",
              "        buttonEl.style.display =\n",
              "          google.colab.kernel.accessAllowed ? 'block' : 'none';\n",
              "\n",
              "        async function convertToInteractive(key) {\n",
              "          const element = document.querySelector('#df-16c009fb-042f-4c38-b0ed-c85ddccfe34f');\n",
              "          const dataTable =\n",
              "            await google.colab.kernel.invokeFunction('convertToInteractive',\n",
              "                                                     [key], {});\n",
              "          if (!dataTable) return;\n",
              "\n",
              "          const docLinkHtml = 'Like what you see? Visit the ' +\n",
              "            '<a target=\"_blank\" href=https://colab.research.google.com/notebooks/data_table.ipynb>data table notebook</a>'\n",
              "            + ' to learn more about interactive tables.';\n",
              "          element.innerHTML = '';\n",
              "          dataTable['output_type'] = 'display_data';\n",
              "          await google.colab.output.renderOutput(dataTable, element);\n",
              "          const docLink = document.createElement('div');\n",
              "          docLink.innerHTML = docLinkHtml;\n",
              "          element.appendChild(docLink);\n",
              "        }\n",
              "      </script>\n",
              "    </div>\n",
              "  </div>\n",
              "  "
            ]
          },
          "metadata": {},
          "execution_count": 232
        }
      ]
    },
    {
      "cell_type": "code",
      "source": [
        "test_thr = 0.44\n",
        "sub[ss.columns[1]] = (np.mean(oof_test, axis=0) >= test_thr).astype(int)\n",
        "sub.hist()\n",
        "sub.head()"
      ],
      "metadata": {
        "id": "wVaKlq4FPhNb",
        "colab": {
          "base_uri": "https://localhost:8080/",
          "height": 470
        },
        "outputId": "0f0c3d1f-accb-491e-f914-eb8d66fde7d4"
      },
      "execution_count": null,
      "outputs": [
        {
          "output_type": "execute_result",
          "data": {
            "text/plain": [
              "               unique_id  bank_account\n",
              "0  uniqueid_6056 x Kenya             1\n",
              "1  uniqueid_6060 x Kenya             1\n",
              "2  uniqueid_6065 x Kenya             0\n",
              "3  uniqueid_6072 x Kenya             0\n",
              "4  uniqueid_6073 x Kenya             0"
            ],
            "text/html": [
              "\n",
              "  <div id=\"df-3ac1636c-b953-4ea9-9290-eda83643b4a8\">\n",
              "    <div class=\"colab-df-container\">\n",
              "      <div>\n",
              "<style scoped>\n",
              "    .dataframe tbody tr th:only-of-type {\n",
              "        vertical-align: middle;\n",
              "    }\n",
              "\n",
              "    .dataframe tbody tr th {\n",
              "        vertical-align: top;\n",
              "    }\n",
              "\n",
              "    .dataframe thead th {\n",
              "        text-align: right;\n",
              "    }\n",
              "</style>\n",
              "<table border=\"1\" class=\"dataframe\">\n",
              "  <thead>\n",
              "    <tr style=\"text-align: right;\">\n",
              "      <th></th>\n",
              "      <th>unique_id</th>\n",
              "      <th>bank_account</th>\n",
              "    </tr>\n",
              "  </thead>\n",
              "  <tbody>\n",
              "    <tr>\n",
              "      <th>0</th>\n",
              "      <td>uniqueid_6056 x Kenya</td>\n",
              "      <td>1</td>\n",
              "    </tr>\n",
              "    <tr>\n",
              "      <th>1</th>\n",
              "      <td>uniqueid_6060 x Kenya</td>\n",
              "      <td>1</td>\n",
              "    </tr>\n",
              "    <tr>\n",
              "      <th>2</th>\n",
              "      <td>uniqueid_6065 x Kenya</td>\n",
              "      <td>0</td>\n",
              "    </tr>\n",
              "    <tr>\n",
              "      <th>3</th>\n",
              "      <td>uniqueid_6072 x Kenya</td>\n",
              "      <td>0</td>\n",
              "    </tr>\n",
              "    <tr>\n",
              "      <th>4</th>\n",
              "      <td>uniqueid_6073 x Kenya</td>\n",
              "      <td>0</td>\n",
              "    </tr>\n",
              "  </tbody>\n",
              "</table>\n",
              "</div>\n",
              "      <button class=\"colab-df-convert\" onclick=\"convertToInteractive('df-3ac1636c-b953-4ea9-9290-eda83643b4a8')\"\n",
              "              title=\"Convert this dataframe to an interactive table.\"\n",
              "              style=\"display:none;\">\n",
              "        \n",
              "  <svg xmlns=\"http://www.w3.org/2000/svg\" height=\"24px\"viewBox=\"0 0 24 24\"\n",
              "       width=\"24px\">\n",
              "    <path d=\"M0 0h24v24H0V0z\" fill=\"none\"/>\n",
              "    <path d=\"M18.56 5.44l.94 2.06.94-2.06 2.06-.94-2.06-.94-.94-2.06-.94 2.06-2.06.94zm-11 1L8.5 8.5l.94-2.06 2.06-.94-2.06-.94L8.5 2.5l-.94 2.06-2.06.94zm10 10l.94 2.06.94-2.06 2.06-.94-2.06-.94-.94-2.06-.94 2.06-2.06.94z\"/><path d=\"M17.41 7.96l-1.37-1.37c-.4-.4-.92-.59-1.43-.59-.52 0-1.04.2-1.43.59L10.3 9.45l-7.72 7.72c-.78.78-.78 2.05 0 2.83L4 21.41c.39.39.9.59 1.41.59.51 0 1.02-.2 1.41-.59l7.78-7.78 2.81-2.81c.8-.78.8-2.07 0-2.86zM5.41 20L4 18.59l7.72-7.72 1.47 1.35L5.41 20z\"/>\n",
              "  </svg>\n",
              "      </button>\n",
              "      \n",
              "  <style>\n",
              "    .colab-df-container {\n",
              "      display:flex;\n",
              "      flex-wrap:wrap;\n",
              "      gap: 12px;\n",
              "    }\n",
              "\n",
              "    .colab-df-convert {\n",
              "      background-color: #E8F0FE;\n",
              "      border: none;\n",
              "      border-radius: 50%;\n",
              "      cursor: pointer;\n",
              "      display: none;\n",
              "      fill: #1967D2;\n",
              "      height: 32px;\n",
              "      padding: 0 0 0 0;\n",
              "      width: 32px;\n",
              "    }\n",
              "\n",
              "    .colab-df-convert:hover {\n",
              "      background-color: #E2EBFA;\n",
              "      box-shadow: 0px 1px 2px rgba(60, 64, 67, 0.3), 0px 1px 3px 1px rgba(60, 64, 67, 0.15);\n",
              "      fill: #174EA6;\n",
              "    }\n",
              "\n",
              "    [theme=dark] .colab-df-convert {\n",
              "      background-color: #3B4455;\n",
              "      fill: #D2E3FC;\n",
              "    }\n",
              "\n",
              "    [theme=dark] .colab-df-convert:hover {\n",
              "      background-color: #434B5C;\n",
              "      box-shadow: 0px 1px 3px 1px rgba(0, 0, 0, 0.15);\n",
              "      filter: drop-shadow(0px 1px 2px rgba(0, 0, 0, 0.3));\n",
              "      fill: #FFFFFF;\n",
              "    }\n",
              "  </style>\n",
              "\n",
              "      <script>\n",
              "        const buttonEl =\n",
              "          document.querySelector('#df-3ac1636c-b953-4ea9-9290-eda83643b4a8 button.colab-df-convert');\n",
              "        buttonEl.style.display =\n",
              "          google.colab.kernel.accessAllowed ? 'block' : 'none';\n",
              "\n",
              "        async function convertToInteractive(key) {\n",
              "          const element = document.querySelector('#df-3ac1636c-b953-4ea9-9290-eda83643b4a8');\n",
              "          const dataTable =\n",
              "            await google.colab.kernel.invokeFunction('convertToInteractive',\n",
              "                                                     [key], {});\n",
              "          if (!dataTable) return;\n",
              "\n",
              "          const docLinkHtml = 'Like what you see? Visit the ' +\n",
              "            '<a target=\"_blank\" href=https://colab.research.google.com/notebooks/data_table.ipynb>data table notebook</a>'\n",
              "            + ' to learn more about interactive tables.';\n",
              "          element.innerHTML = '';\n",
              "          dataTable['output_type'] = 'display_data';\n",
              "          await google.colab.output.renderOutput(dataTable, element);\n",
              "          const docLink = document.createElement('div');\n",
              "          docLink.innerHTML = docLinkHtml;\n",
              "          element.appendChild(docLink);\n",
              "        }\n",
              "      </script>\n",
              "    </div>\n",
              "  </div>\n",
              "  "
            ]
          },
          "metadata": {},
          "execution_count": 233
        },
        {
          "output_type": "display_data",
          "data": {
            "text/plain": [
              "<Figure size 432x288 with 1 Axes>"
            ],
            "image/png": "[encoded data removed]"
          },
          "metadata": {
            "needs_background": "light"
          }
        }
      ]
    },
    {
      "cell_type": "code",
      "source": [
        "sub.to_csv(\"s_catboost.csv\", index=False)"
      ],
      "metadata": {
        "id": "br-rEpZxpaBD"
      },
      "execution_count": null,
      "outputs": []
    },
    {
      "cell_type": "code",
      "source": [
        "sub.to_csv(\"s_cat-xgb-lgbm.csv\", index=False)"
      ],
      "metadata": {
        "id": "bxEwK3oILtI_"
      },
      "execution_count": null,
      "outputs": []
    },
    {
      "cell_type": "code",
      "source": [],
      "metadata": {
        "id": "s78WEIpVO2cu"
      },
      "execution_count": null,
      "outputs": []
    },
    {
      "cell_type": "markdown",
      "source": [
        "https://datascience.stackexchange.com/questions/103077/how-can-i-get-the-dataframe-after-scikit-pipeline"
      ],
      "metadata": {
        "id": "ab-BMufiURzt"
      }
    }
  ]
}